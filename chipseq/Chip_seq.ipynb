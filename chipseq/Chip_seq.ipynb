{
  "nbformat": 4,
  "nbformat_minor": 0,
  "metadata": {
    "colab": {
      "provenance": []
    },
    "kernelspec": {
      "name": "python3",
      "display_name": "Python 3"
    },
    "language_info": {
      "name": "python"
    }
  },
  "cells": [
    {
      "cell_type": "code",
      "execution_count": null,
      "metadata": {
        "colab": {
          "base_uri": "https://localhost:8080/"
        },
        "id": "fDK5_qAOgM5b",
        "outputId": "174537ee-015c-498c-a314-f1b86034fd97"
      },
      "outputs": [
        {
          "output_type": "stream",
          "name": "stdout",
          "text": [
            "⏬ Downloading https://github.com/conda-forge/miniforge/releases/download/23.1.0-1/Mambaforge-23.1.0-1-Linux-x86_64.sh...\n",
            "📦 Installing...\n",
            "📌 Adjusting configuration...\n",
            "🩹 Patching environment...\n",
            "⏲ Done in 0:00:16\n",
            "🔁 Restarting kernel...\n"
          ]
        }
      ],
      "source": [
        "!pip install -q condacolab\n",
        "import condacolab\n",
        "condacolab.install()"
      ]
    },
    {
      "cell_type": "markdown",
      "source": [
        "Trimmomatic"
      ],
      "metadata": {
        "id": "sH38VfC_g_WU"
      }
    },
    {
      "cell_type": "code",
      "source": [
        "!conda install -c bioconda trimmomatic"
      ],
      "metadata": {
        "id": "1gqG5tSugYUh"
      },
      "execution_count": null,
      "outputs": []
    },
    {
      "cell_type": "code",
      "source": [
        "!conda install -c bioconda fastqc"
      ],
      "metadata": {
        "id": "8egtX322sbrz"
      },
      "execution_count": null,
      "outputs": []
    },
    {
      "cell_type": "code",
      "source": [
        "!trimmomatic PE -phred33 \\\n",
        "/content/drive/MyDrive/HW/TF1_rep2_R1_001.fastq.gz /content/drive/MyDrive/HW/TF1_rep2_R2_001.fastq.gz \\\n",
        "/content/drive/MyDrive/HW/TF1_rep2_R1_001_paired.fq.gz /content/drive/MyDrive/HW/TF1_rep2_R1_001_unpaired.fq.gz \\\n",
        "/content/drive/MyDrive/HW/TF1_rep2_R2_001_paired.fq.gz /content/drive/MyDrive/HW/TF1_rep2_R2_001_unpaired.fq.gz \\\n",
        "ILLUMINACLIP:/content/drive/MyDrive/HW/TruSeq3-PE.fa:2:30:10 \\\n",
        "LEADING:3 TRAILING:3 SLIDINGWINDOW:4:15 MINLEN:36"
      ],
      "metadata": {
        "id": "Kcwc4LhVgnfn",
        "colab": {
          "base_uri": "https://localhost:8080/"
        },
        "outputId": "d749a459-5c7e-4076-fcf4-4582ba333ade"
      },
      "execution_count": null,
      "outputs": [
        {
          "output_type": "stream",
          "name": "stdout",
          "text": [
            "TrimmomaticPE: Started with arguments:\n",
            " -phred33 /content/drive/MyDrive/HW/TF1_rep2_R1_001.fastq.gz /content/drive/MyDrive/HW/TF1_rep2_R2_001.fastq.gz /content/drive/MyDrive/HW/TF1_rep2_R1_001_paired.fq.gz /content/drive/MyDrive/HW/TF1_rep2_R1_001_unpaired.fq.gz /content/drive/MyDrive/HW/TF1_rep2_R2_001_paired.fq.gz /content/drive/MyDrive/HW/TF1_rep2_R2_001_unpaired.fq.gz ILLUMINACLIP:/content/drive/MyDrive/HW/TruSeq3-PE.fa:2:30:10 LEADING:3 TRAILING:3 SLIDINGWINDOW:4:15 MINLEN:36\n",
            "Multiple cores found: Using 2 threads\n",
            "Using PrefixPair: 'TACACTCTTTCCCTACACGACGCTCTTCCGATCT' and 'GTGACTGGAGTTCAGACGTGTGCTCTTCCGATCT'\n",
            "ILLUMINACLIP: Using 1 prefix pairs, 0 forward/reverse sequences, 0 forward only sequences, 0 reverse only sequences\n",
            "Input Read Pairs: 6246037 Both Surviving: 4820396 (77.18%) Forward Only Surviving: 1374759 (22.01%) Reverse Only Surviving: 24326 (0.39%) Dropped: 26556 (0.43%)\n",
            "TrimmomaticPE: Completed successfully\n"
          ]
        }
      ]
    },
    {
      "cell_type": "code",
      "source": [
        "!fastqc /content/drive/MyDrive/HW/TF1_rep2_R1_001_paired.fq.gz /content/drive/MyDrive/HW/TF1_rep2_R2_001_paired.fq.gz"
      ],
      "metadata": {
        "id": "WKp7enAcuLT5",
        "colab": {
          "base_uri": "https://localhost:8080/"
        },
        "outputId": "3f8a8337-e3eb-427f-8b52-3a2123e82622"
      },
      "execution_count": null,
      "outputs": [
        {
          "output_type": "stream",
          "name": "stdout",
          "text": [
            "application/gzip\n",
            "application/gzip\n",
            "Started analysis of TF1_rep2_R1_001_paired.fq.gz\n",
            "Approx 5% complete for TF1_rep2_R1_001_paired.fq.gz\n",
            "Approx 10% complete for TF1_rep2_R1_001_paired.fq.gz\n",
            "Approx 15% complete for TF1_rep2_R1_001_paired.fq.gz\n",
            "Approx 20% complete for TF1_rep2_R1_001_paired.fq.gz\n",
            "Approx 25% complete for TF1_rep2_R1_001_paired.fq.gz\n",
            "Approx 30% complete for TF1_rep2_R1_001_paired.fq.gz\n",
            "Approx 35% complete for TF1_rep2_R1_001_paired.fq.gz\n",
            "Approx 40% complete for TF1_rep2_R1_001_paired.fq.gz\n",
            "Approx 45% complete for TF1_rep2_R1_001_paired.fq.gz\n",
            "Approx 50% complete for TF1_rep2_R1_001_paired.fq.gz\n",
            "Approx 55% complete for TF1_rep2_R1_001_paired.fq.gz\n",
            "Approx 60% complete for TF1_rep2_R1_001_paired.fq.gz\n",
            "Approx 65% complete for TF1_rep2_R1_001_paired.fq.gz\n",
            "Approx 70% complete for TF1_rep2_R1_001_paired.fq.gz\n",
            "Approx 75% complete for TF1_rep2_R1_001_paired.fq.gz\n",
            "Approx 80% complete for TF1_rep2_R1_001_paired.fq.gz\n",
            "Approx 85% complete for TF1_rep2_R1_001_paired.fq.gz\n",
            "Approx 90% complete for TF1_rep2_R1_001_paired.fq.gz\n",
            "Approx 95% complete for TF1_rep2_R1_001_paired.fq.gz\n",
            "Analysis complete for TF1_rep2_R1_001_paired.fq.gz\n",
            "Started analysis of TF1_rep2_R2_001_paired.fq.gz\n",
            "Approx 5% complete for TF1_rep2_R2_001_paired.fq.gz\n",
            "Approx 10% complete for TF1_rep2_R2_001_paired.fq.gz\n",
            "Approx 15% complete for TF1_rep2_R2_001_paired.fq.gz\n",
            "Approx 20% complete for TF1_rep2_R2_001_paired.fq.gz\n",
            "Approx 25% complete for TF1_rep2_R2_001_paired.fq.gz\n",
            "Approx 30% complete for TF1_rep2_R2_001_paired.fq.gz\n",
            "Approx 35% complete for TF1_rep2_R2_001_paired.fq.gz\n",
            "Approx 40% complete for TF1_rep2_R2_001_paired.fq.gz\n",
            "Approx 45% complete for TF1_rep2_R2_001_paired.fq.gz\n",
            "Approx 50% complete for TF1_rep2_R2_001_paired.fq.gz\n",
            "Approx 55% complete for TF1_rep2_R2_001_paired.fq.gz\n",
            "Approx 60% complete for TF1_rep2_R2_001_paired.fq.gz\n",
            "Approx 65% complete for TF1_rep2_R2_001_paired.fq.gz\n",
            "Approx 70% complete for TF1_rep2_R2_001_paired.fq.gz\n",
            "Approx 75% complete for TF1_rep2_R2_001_paired.fq.gz\n",
            "Approx 80% complete for TF1_rep2_R2_001_paired.fq.gz\n",
            "Approx 85% complete for TF1_rep2_R2_001_paired.fq.gz\n",
            "Approx 90% complete for TF1_rep2_R2_001_paired.fq.gz\n",
            "Approx 95% complete for TF1_rep2_R2_001_paired.fq.gz\n",
            "Analysis complete for TF1_rep2_R2_001_paired.fq.gz\n"
          ]
        }
      ]
    },
    {
      "cell_type": "code",
      "source": [
        "!trimmomatic PE -phred33 \\\n",
        "/content/drive/MyDrive/HW/TF1_rep1_R1_001.fastq.gz /content/drive/MyDrive/HW/TF1_rep1_R2_001.fastq.gz \\\n",
        "/content/drive/MyDrive/HW/TF1_rep1_R1_001_paired.fq.gz /content/drive/MyDrive/HW/TF1_rep1_R1_001_unpaired.fq.gz \\\n",
        "/content/drive/MyDrive/HW/TF1_rep1_R2_001_paired.fq.gz /content/drive/MyDrive/HW/TF1_rep1_R2_001_unpaired.fq.gz \\\n",
        "ILLUMINACLIP:/content/drive/MyDrive/HW/TruSeq3-PE.fa:2:30:10 \\\n",
        "LEADING:3 TRAILING:3 SLIDINGWINDOW:4:15 MINLEN:36"
      ],
      "metadata": {
        "id": "-pMfjHFGlZwX",
        "colab": {
          "base_uri": "https://localhost:8080/"
        },
        "outputId": "f4195d72-adcf-41b4-b89e-ddd782c149d7"
      },
      "execution_count": null,
      "outputs": [
        {
          "output_type": "stream",
          "name": "stdout",
          "text": [
            "TrimmomaticPE: Started with arguments:\n",
            " -phred33 /content/drive/MyDrive/HW/TF1_rep1_R1_001.fastq.gz /content/drive/MyDrive/HW/TF1_rep1_R2_001.fastq.gz /content/drive/MyDrive/HW/TF1_rep1_R1_001_paired.fq.gz /content/drive/MyDrive/HW/TF1_rep1_R1_001_unpaired.fq.gz /content/drive/MyDrive/HW/TF1_rep1_R2_001_paired.fq.gz /content/drive/MyDrive/HW/TF1_rep1_R2_001_unpaired.fq.gz ILLUMINACLIP:/content/drive/MyDrive/HW/TruSeq3-PE.fa:2:30:10 LEADING:3 TRAILING:3 SLIDINGWINDOW:4:15 MINLEN:36\n",
            "Multiple cores found: Using 2 threads\n",
            "Using PrefixPair: 'TACACTCTTTCCCTACACGACGCTCTTCCGATCT' and 'GTGACTGGAGTTCAGACGTGTGCTCTTCCGATCT'\n",
            "ILLUMINACLIP: Using 1 prefix pairs, 0 forward/reverse sequences, 0 forward only sequences, 0 reverse only sequences\n",
            "Input Read Pairs: 11028608 Both Surviving: 8184718 (74.21%) Forward Only Surviving: 2733491 (24.79%) Reverse Only Surviving: 43572 (0.40%) Dropped: 66827 (0.61%)\n",
            "TrimmomaticPE: Completed successfully\n"
          ]
        }
      ]
    },
    {
      "cell_type": "code",
      "source": [
        "!trimmomatic PE -phred33 \\\n",
        "/content/drive/MyDrive/HW/TF1_input_R1_001.fastq.gz /content/drive/MyDrive/HW/TF1_input_R2_001.fastq.gz \\\n",
        "/content/drive/MyDrive/HW/TF1_input_R1_001_paired.fq.gz /content/drive/MyDrive/HW/TF1_input_R1_001_unpaired.fq.gz \\\n",
        "/content/drive/MyDrive/HW/TF1_input_R2_001_paired.fq.gz /content/drive/MyDrive/HW/TF1_input_R2_001_unpaired.fq.gz \\\n",
        "ILLUMINACLIP:/content/drive/MyDrive/HW/TruSeq3-PE.fa:2:30:10 \\\n",
        "LEADING:3 TRAILING:3 SLIDINGWINDOW:4:15 MINLEN:36"
      ],
      "metadata": {
        "id": "fBKhBENMpJ4q",
        "colab": {
          "base_uri": "https://localhost:8080/"
        },
        "outputId": "732795cd-e33d-4476-cf02-87f01e2a6b33"
      },
      "execution_count": null,
      "outputs": [
        {
          "output_type": "stream",
          "name": "stdout",
          "text": [
            "TrimmomaticPE: Started with arguments:\n",
            " -phred33 /content/drive/MyDrive/HW/TF1_input_R1_001.fastq.gz /content/drive/MyDrive/HW/TF1_input_R2_001.fastq.gz /content/drive/MyDrive/HW/TF1_input_R1_001_paired.fq.gz /content/drive/MyDrive/HW/TF1_input_R1_001_unpaired.fq.gz /content/drive/MyDrive/HW/TF1_input_R2_001_paired.fq.gz /content/drive/MyDrive/HW/TF1_input_R2_001_unpaired.fq.gz ILLUMINACLIP:/content/drive/MyDrive/HW/TruSeq3-PE.fa:2:30:10 LEADING:3 TRAILING:3 SLIDINGWINDOW:4:15 MINLEN:36\n",
            "Multiple cores found: Using 2 threads\n",
            "Using PrefixPair: 'TACACTCTTTCCCTACACGACGCTCTTCCGATCT' and 'GTGACTGGAGTTCAGACGTGTGCTCTTCCGATCT'\n",
            "ILLUMINACLIP: Using 1 prefix pairs, 0 forward/reverse sequences, 0 forward only sequences, 0 reverse only sequences\n",
            "Input Read Pairs: 32686866 Both Surviving: 18245035 (55.82%) Forward Only Surviving: 14167627 (43.34%) Reverse Only Surviving: 84885 (0.26%) Dropped: 189319 (0.58%)\n",
            "TrimmomaticPE: Completed successfully\n"
          ]
        }
      ]
    },
    {
      "cell_type": "markdown",
      "source": [
        "Bowtie"
      ],
      "metadata": {
        "id": "tmRItuQqhCSb"
      }
    },
    {
      "cell_type": "code",
      "source": [
        "!conda install -c bioconda bowtie"
      ],
      "metadata": {
        "id": "8Hgvlz5TgkaZ"
      },
      "execution_count": null,
      "outputs": []
    },
    {
      "cell_type": "code",
      "source": [
        "!conda install -c bioconda samtools"
      ],
      "metadata": {
        "id": "WG7KrUJbjQII"
      },
      "execution_count": null,
      "outputs": []
    },
    {
      "cell_type": "code",
      "source": [
        "!bowtie-build /content/sequence.fasta /content/sequence.gb"
      ],
      "metadata": {
        "id": "wzluRli8heaY"
      },
      "execution_count": null,
      "outputs": []
    },
    {
      "cell_type": "code",
      "source": [
        "!bowtie -x /content/sequence.gb -1 /content/drive/MyDrive/HW/TF1_rep2_R1_001_paired.fq.gz -2 /content/drive/MyDrive/HW/TF1_rep2_R2_001_paired.fq.gz --sam --best --strata -m 1 | samtools view -b - > /content/drive/MyDrive/HW/TF1_rep2_paired.bam"
      ],
      "metadata": {
        "colab": {
          "base_uri": "https://localhost:8080/"
        },
        "id": "NReuH0gxiE1i",
        "outputId": "de03fb76-a954-40f5-e234-600c944623e0"
      },
      "execution_count": null,
      "outputs": [
        {
          "output_type": "stream",
          "name": "stdout",
          "text": [
            "# reads processed: 4820396\n",
            "# reads with at least one alignment: 1554406 (32.25%)\n",
            "# reads that failed to align: 3265990 (67.75%)\n",
            "# reads with alignments suppressed due to -m: 29843 (0.62%)\n",
            "Reported 1524563 paired-end alignments\n"
          ]
        }
      ]
    },
    {
      "cell_type": "code",
      "source": [
        "!bowtie -x /content/sequence.gb -1 /content/drive/MyDrive/HW/TF1_rep1_R1_001_paired.fq.gz -2 /content/drive/MyDrive/HW/TF1_rep1_R2_001_paired.fq.gz --sam --best --strata -m 1 | samtools view -b - > /content/drive/MyDrive/HW/TF1_rep1_paired.bam"
      ],
      "metadata": {
        "colab": {
          "base_uri": "https://localhost:8080/"
        },
        "id": "jhJ-GPbDyLli",
        "outputId": "4da4e7eb-cb14-4767-9b30-490f19016420"
      },
      "execution_count": null,
      "outputs": [
        {
          "output_type": "stream",
          "name": "stdout",
          "text": [
            "# reads processed: 8184718\n",
            "# reads with at least one alignment: 2651670 (32.40%)\n",
            "# reads that failed to align: 5533048 (67.60%)\n",
            "# reads with alignments suppressed due to -m: 49703 (0.61%)\n",
            "Reported 2601967 paired-end alignments\n"
          ]
        }
      ]
    },
    {
      "cell_type": "code",
      "source": [
        "!bowtie -x /content/sequence.gb -1 /content/drive/MyDrive/HW/TF1_input_R1_001_paired.fq.gz -2 /content/drive/MyDrive/HW/TF1_input_R2_001_paired.fq.gz --sam --best --strata -m 1 | samtools view -b - > /content/drive/MyDrive/HW/TF1_input_paired.bam"
      ],
      "metadata": {
        "colab": {
          "base_uri": "https://localhost:8080/"
        },
        "id": "QigZnVRE2I4D",
        "outputId": "ddb62243-bba1-4eb1-fc3d-9289d5357198"
      },
      "execution_count": null,
      "outputs": [
        {
          "output_type": "stream",
          "name": "stdout",
          "text": [
            "# reads processed: 18245035\n",
            "# reads with at least one alignment: 8969059 (49.16%)\n",
            "# reads that failed to align: 9275976 (50.84%)\n",
            "# reads with alignments suppressed due to -m: 201565 (1.10%)\n",
            "Reported 8767494 paired-end alignments\n"
          ]
        }
      ]
    },
    {
      "cell_type": "code",
      "source": [
        "!samtools sort /content/drive/MyDrive/HW/TF1_rep2_paired.bam -o /content/drive/MyDrive/HW/TF1_rep2_paired_sort.bam\n",
        "!samtools index /content/drive/MyDrive/HW/TF1_rep2_paired_sort.bam"
      ],
      "metadata": {
        "colab": {
          "base_uri": "https://localhost:8080/"
        },
        "id": "xVxAhlaB_kf6",
        "outputId": "1bc254d5-a780-4546-dd1b-22d117f892b3"
      },
      "execution_count": null,
      "outputs": [
        {
          "output_type": "stream",
          "name": "stdout",
          "text": [
            "[bam_sort_core] merging from 4 files and 1 in-memory blocks...\n"
          ]
        }
      ]
    },
    {
      "cell_type": "code",
      "source": [
        "!samtools sort /content/drive/MyDrive/HW/TF1_rep1_paired.bam -o /content/drive/MyDrive/HW/TF1_rep1_paired_sort.bam\n",
        "!samtools index /content/drive/MyDrive/HW/TF1_rep1_paired_sort.bam"
      ],
      "metadata": {
        "colab": {
          "base_uri": "https://localhost:8080/"
        },
        "id": "OVAJ5PMsAV8t",
        "outputId": "afe13df0-ba9a-475d-b864-00a3ddf11e81"
      },
      "execution_count": null,
      "outputs": [
        {
          "output_type": "stream",
          "name": "stdout",
          "text": [
            "[bam_sort_core] merging from 6 files and 1 in-memory blocks...\n"
          ]
        }
      ]
    },
    {
      "cell_type": "code",
      "source": [
        "!samtools sort /content/drive/MyDrive/HW/TF1_input_paired.bam -o /content/drive/MyDrive/HW/TF1_input_paired_sort.bam\n",
        "!samtools index /content/drive/MyDrive/HW/TF1_input_paired_sort.bam"
      ],
      "metadata": {
        "colab": {
          "base_uri": "https://localhost:8080/"
        },
        "id": "9sMwyTnPAeT4",
        "outputId": "9a579177-f2a3-4792-a7a4-8413e9725cac"
      },
      "execution_count": null,
      "outputs": [
        {
          "output_type": "stream",
          "name": "stdout",
          "text": [
            "[bam_sort_core] merging from 15 files and 1 in-memory blocks...\n"
          ]
        }
      ]
    },
    {
      "cell_type": "markdown",
      "source": [
        "MACS2"
      ],
      "metadata": {
        "id": "mHOyTj5Wz6Sl"
      }
    },
    {
      "cell_type": "code",
      "source": [
        "!conda install -c bioconda macs2"
      ],
      "metadata": {
        "id": "7VMTv3tzJhyZ"
      },
      "execution_count": null,
      "outputs": []
    },
    {
      "cell_type": "code",
      "source": [
        "!macs2 callpeak \\\n",
        "-t /content/drive/MyDrive/HW/TF1_rep2_paired_sort.bam \\\n",
        "-c /content/drive/MyDrive/HW/TF1_input_paired_sort.bam \\\n",
        "-f BAM -g 4641652 \\\n",
        "-n TF1_rep2 \\\n",
        "--outdir /content/drive/MyDrive/HW/macs2 \\\n",
        "--nomodel --keep-dup all"
      ],
      "metadata": {
        "colab": {
          "base_uri": "https://localhost:8080/"
        },
        "id": "c8FrUE7aKXFm",
        "outputId": "c5f62985-c75d-4aea-8882-405f712b1d36"
      },
      "execution_count": null,
      "outputs": [
        {
          "output_type": "stream",
          "name": "stdout",
          "text": [
            "INFO  @ Thu, 07 Dec 2023 07:32:39: \n",
            "# Command line: callpeak -t /content/drive/MyDrive/HW/TF1_rep2_paired_sort.bam -c /content/drive/MyDrive/HW/TF1_input_paired_sort.bam -f BAM -g 4641652 -n TF1_rep2 --outdir /content/drive/MyDrive/HW/macs2 --nomodel --keep-dup all\n",
            "# ARGUMENTS LIST:\n",
            "# name = TF1_rep2\n",
            "# format = BAM\n",
            "# ChIP-seq file = ['/content/drive/MyDrive/HW/TF1_rep2_paired_sort.bam']\n",
            "# control file = ['/content/drive/MyDrive/HW/TF1_input_paired_sort.bam']\n",
            "# effective genome size = 4.64e+06\n",
            "# band width = 300\n",
            "# model fold = [5, 50]\n",
            "# qvalue cutoff = 5.00e-02\n",
            "# The maximum gap between significant sites is assigned as the read length/tag size.\n",
            "# The minimum length of peaks is assigned as the predicted fragment length \"d\".\n",
            "# Larger dataset will be scaled towards smaller dataset.\n",
            "# Range for calculating regional lambda is: 1000 bps and 10000 bps\n",
            "# Broad region calling is off\n",
            "# Paired-End mode is off\n",
            " \n",
            "INFO  @ Thu, 07 Dec 2023 07:32:39: #1 read tag files... \n",
            "INFO  @ Thu, 07 Dec 2023 07:32:39: #1 read treatment tags... \n",
            "INFO  @ Thu, 07 Dec 2023 07:32:47:  1000000 \n",
            "INFO  @ Thu, 07 Dec 2023 07:33:12: 1524563 reads have been read. \n",
            "INFO  @ Thu, 07 Dec 2023 07:33:12: #1.2 read input tags... \n",
            "INFO  @ Thu, 07 Dec 2023 07:33:18:  1000000 \n",
            "INFO  @ Thu, 07 Dec 2023 07:33:26:  2000000 \n",
            "INFO  @ Thu, 07 Dec 2023 07:33:31:  3000000 \n",
            "INFO  @ Thu, 07 Dec 2023 07:33:38:  4000000 \n",
            "INFO  @ Thu, 07 Dec 2023 07:33:45:  5000000 \n",
            "INFO  @ Thu, 07 Dec 2023 07:33:50:  6000000 \n",
            "INFO  @ Thu, 07 Dec 2023 07:33:57:  7000000 \n",
            "INFO  @ Thu, 07 Dec 2023 07:34:04:  8000000 \n",
            "INFO  @ Thu, 07 Dec 2023 07:35:10: 8767494 reads have been read. \n",
            "INFO  @ Thu, 07 Dec 2023 07:35:10: #1 tag size is determined as 128 bps \n",
            "INFO  @ Thu, 07 Dec 2023 07:35:10: #1 tag size = 128.0 \n",
            "INFO  @ Thu, 07 Dec 2023 07:35:10: #1  total tags in treatment: 1524563 \n",
            "INFO  @ Thu, 07 Dec 2023 07:35:10: #1  total tags in control: 8767494 \n",
            "INFO  @ Thu, 07 Dec 2023 07:35:10: #1 finished! \n",
            "INFO  @ Thu, 07 Dec 2023 07:35:10: #2 Build Peak Model... \n",
            "INFO  @ Thu, 07 Dec 2023 07:35:10: #2 Skipped... \n",
            "INFO  @ Thu, 07 Dec 2023 07:35:10: #2 Use 200 as fragment length \n",
            "INFO  @ Thu, 07 Dec 2023 07:35:10: #3 Call peaks... \n",
            "INFO  @ Thu, 07 Dec 2023 07:35:10: #3 Pre-compute pvalue-qvalue table... \n",
            "INFO  @ Thu, 07 Dec 2023 07:35:30: #3 Call peaks for each chromosome... \n",
            "INFO  @ Thu, 07 Dec 2023 07:35:33: #4 Write output xls file... /content/drive/MyDrive/HW/macs2/TF1_rep2_peaks.xls \n",
            "INFO  @ Thu, 07 Dec 2023 07:35:33: #4 Write peak in narrowPeak format file... /content/drive/MyDrive/HW/macs2/TF1_rep2_peaks.narrowPeak \n",
            "INFO  @ Thu, 07 Dec 2023 07:35:33: #4 Write summits bed file... /content/drive/MyDrive/HW/macs2/TF1_rep2_summits.bed \n",
            "INFO  @ Thu, 07 Dec 2023 07:35:33: Done! \n"
          ]
        }
      ]
    },
    {
      "cell_type": "code",
      "source": [
        "!macs2 callpeak \\\n",
        "-t /content/drive/MyDrive/HW/TF1_rep1_paired_sort.bam \\\n",
        "-c /content/drive/MyDrive/HW/TF1_input_paired_sort.bam \\\n",
        "-f BAM -g 4641652 \\\n",
        "-n TF1_rep1 \\\n",
        "--outdir /content/drive/MyDrive/HW/macs2 \\\n",
        "--nomodel --keep-dup all"
      ],
      "metadata": {
        "colab": {
          "base_uri": "https://localhost:8080/"
        },
        "id": "Bj_mQ66xK3ul",
        "outputId": "f89438e5-52ed-40ef-9470-7de44951da95"
      },
      "execution_count": null,
      "outputs": [
        {
          "output_type": "stream",
          "name": "stdout",
          "text": [
            "INFO  @ Thu, 07 Dec 2023 07:36:20: \n",
            "# Command line: callpeak -t /content/drive/MyDrive/HW/TF1_rep1_paired_sort.bam -c /content/drive/MyDrive/HW/TF1_input_paired_sort.bam -f BAM -g 4641652 -n TF1_rep1 --outdir /content/drive/MyDrive/HW/macs2 --nomodel --keep-dup all\n",
            "# ARGUMENTS LIST:\n",
            "# name = TF1_rep1\n",
            "# format = BAM\n",
            "# ChIP-seq file = ['/content/drive/MyDrive/HW/TF1_rep1_paired_sort.bam']\n",
            "# control file = ['/content/drive/MyDrive/HW/TF1_input_paired_sort.bam']\n",
            "# effective genome size = 4.64e+06\n",
            "# band width = 300\n",
            "# model fold = [5, 50]\n",
            "# qvalue cutoff = 5.00e-02\n",
            "# The maximum gap between significant sites is assigned as the read length/tag size.\n",
            "# The minimum length of peaks is assigned as the predicted fragment length \"d\".\n",
            "# Larger dataset will be scaled towards smaller dataset.\n",
            "# Range for calculating regional lambda is: 1000 bps and 10000 bps\n",
            "# Broad region calling is off\n",
            "# Paired-End mode is off\n",
            " \n",
            "INFO  @ Thu, 07 Dec 2023 07:36:20: #1 read tag files... \n",
            "INFO  @ Thu, 07 Dec 2023 07:36:20: #1 read treatment tags... \n",
            "INFO  @ Thu, 07 Dec 2023 07:36:27:  1000000 \n",
            "INFO  @ Thu, 07 Dec 2023 07:36:33:  2000000 \n",
            "INFO  @ Thu, 07 Dec 2023 07:37:11: 2601967 reads have been read. \n",
            "INFO  @ Thu, 07 Dec 2023 07:37:11: #1.2 read input tags... \n",
            "INFO  @ Thu, 07 Dec 2023 07:37:18:  1000000 \n",
            "INFO  @ Thu, 07 Dec 2023 07:37:24:  2000000 \n",
            "INFO  @ Thu, 07 Dec 2023 07:37:29:  3000000 \n",
            "INFO  @ Thu, 07 Dec 2023 07:37:36:  4000000 \n",
            "INFO  @ Thu, 07 Dec 2023 07:37:42:  5000000 \n",
            "INFO  @ Thu, 07 Dec 2023 07:37:47:  6000000 \n",
            "INFO  @ Thu, 07 Dec 2023 07:37:53:  7000000 \n",
            "INFO  @ Thu, 07 Dec 2023 07:37:59:  8000000 \n",
            "INFO  @ Thu, 07 Dec 2023 07:39:00: 8767494 reads have been read. \n",
            "INFO  @ Thu, 07 Dec 2023 07:39:01: #1 tag size is determined as 150 bps \n",
            "INFO  @ Thu, 07 Dec 2023 07:39:01: #1 tag size = 150.0 \n",
            "INFO  @ Thu, 07 Dec 2023 07:39:01: #1  total tags in treatment: 2601967 \n",
            "INFO  @ Thu, 07 Dec 2023 07:39:01: #1  total tags in control: 8767494 \n",
            "INFO  @ Thu, 07 Dec 2023 07:39:01: #1 finished! \n",
            "INFO  @ Thu, 07 Dec 2023 07:39:01: #2 Build Peak Model... \n",
            "INFO  @ Thu, 07 Dec 2023 07:39:01: #2 Skipped... \n",
            "INFO  @ Thu, 07 Dec 2023 07:39:01: #2 Use 200 as fragment length \n",
            "INFO  @ Thu, 07 Dec 2023 07:39:01: #3 Call peaks... \n",
            "INFO  @ Thu, 07 Dec 2023 07:39:01: #3 Pre-compute pvalue-qvalue table... \n",
            "INFO  @ Thu, 07 Dec 2023 07:39:26: #3 Call peaks for each chromosome... \n",
            "INFO  @ Thu, 07 Dec 2023 07:39:30: #4 Write output xls file... /content/drive/MyDrive/HW/macs2/TF1_rep1_peaks.xls \n",
            "INFO  @ Thu, 07 Dec 2023 07:39:30: #4 Write peak in narrowPeak format file... /content/drive/MyDrive/HW/macs2/TF1_rep1_peaks.narrowPeak \n",
            "INFO  @ Thu, 07 Dec 2023 07:39:30: #4 Write summits bed file... /content/drive/MyDrive/HW/macs2/TF1_rep1_summits.bed \n",
            "INFO  @ Thu, 07 Dec 2023 07:39:30: Done! \n"
          ]
        }
      ]
    },
    {
      "cell_type": "code",
      "source": [
        "!conda install -c bioconda bedtools"
      ],
      "metadata": {
        "id": "mjzk7o5-UY3n"
      },
      "execution_count": null,
      "outputs": []
    },
    {
      "cell_type": "code",
      "source": [
        "!bedtools intersect \\\n",
        "-a /content/drive/MyDrive/HW/macs2/TF1_rep2_summits.bed \\\n",
        "-b /content/sequence.gff3 \\\n",
        "-wa -wb > /content/drive/MyDrive/HW/macs2/TF1_rep2_peaks.bed"
      ],
      "metadata": {
        "id": "RnsWQnzto2iR"
      },
      "execution_count": null,
      "outputs": []
    },
    {
      "cell_type": "code",
      "source": [
        "!bedtools intersect \\\n",
        "-a /content/drive/MyDrive/HW/macs2/TF1_rep1_summits.bed \\\n",
        "-b /content/sequence.gff3 \\\n",
        "-wa -wb > /content/drive/MyDrive/HW/macs2/TF1_rep1_peaks.bed"
      ],
      "metadata": {
        "id": "lG2WkVampFUT"
      },
      "execution_count": null,
      "outputs": []
    },
    {
      "cell_type": "code",
      "source": [
        "!bedtools slop -i /content/drive/MyDrive/HW/macs2/TF1_rep2_summits.bed -b 150 -g /content/sequence.fasta.fai > /content/drive/MyDrive/HW/motif/TF1_rep2.bed\n",
        "!bedtools slop -i /content/drive/MyDrive/HW/macs2/TF1_rep1_summits.bed -b 150 -g /content/sequence.fasta.fai > /content/drive/MyDrive/HW/motif/TF1_rep1.bed"
      ],
      "metadata": {
        "id": "794fTqwOa4rt"
      },
      "execution_count": null,
      "outputs": []
    },
    {
      "cell_type": "code",
      "source": [
        "!bedtools getfasta -fi /content/sequence.fasta -bed  /content/drive/MyDrive/HW/motif/TF1_rep2.bed -fo /content/drive/MyDrive/HW/motif/TF1_rep2.fasta\n",
        "!bedtools getfasta -fi /content/sequence.fasta -bed /content/drive/MyDrive/HW/motif/TF1_rep1.bed -fo /content/drive/MyDrive/HW/motif/TF1_rep1.fasta"
      ],
      "metadata": {
        "id": "uHjLyWT4jf17"
      },
      "execution_count": null,
      "outputs": []
    }
  ]
}
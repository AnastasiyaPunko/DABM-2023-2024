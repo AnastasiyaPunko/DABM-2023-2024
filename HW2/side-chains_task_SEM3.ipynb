{
 "cells": [
  {
   "cell_type": "markdown",
   "metadata": {},
   "source": [
    "# Предсказание ротамеров угла $\\chi_1$ в зависимости от окружения"
   ]
  },
  {
   "cell_type": "code",
   "execution_count": 1,
   "metadata": {},
   "outputs": [],
   "source": [
    "import json\n",
    "import pandas as pd\n",
    "import numpy as np"
   ]
  },
  {
   "cell_type": "markdown",
   "metadata": {},
   "source": [
    "## Запустите следующую клетку. Будет случайно выбрана аминокислота, для которой вы будете проводить исследование"
   ]
  },
  {
   "cell_type": "code",
   "execution_count": 2,
   "metadata": {},
   "outputs": [
    {
     "name": "stdout",
     "output_type": "stream",
     "text": [
      "Моя аминокислота - ASN\n"
     ]
    }
   ],
   "source": [
    "amacid_names = ['ARG', 'ASN', 'ASP', 'CYS', 'GLN', 'GLU', 'HIS', 'ILE', 'LEU',\n",
    "                'LYS', 'MET', 'PHE', 'PRO', 'SER', 'THR', 'TRP', 'TYR', 'VAL']\n",
    "\n",
    "print(f\"Моя аминокислота - {np.random.choice(amacid_names)}\")"
   ]
  },
  {
   "cell_type": "markdown",
   "metadata": {},
   "source": [
    " "
   ]
  },
  {
   "cell_type": "markdown",
   "metadata": {},
   "source": [
    "## Загрузите <a href=\"https://yadi.sk/d/FeLl5KYfjbhHgA?w=1\">отсюда</a> соответствующий файл. Далее мы будем работать с ним."
   ]
  },
  {
   "cell_type": "markdown",
   "metadata": {},
   "source": [
    " "
   ]
  },
  {
   "cell_type": "markdown",
   "metadata": {},
   "source": [
    " "
   ]
  },
  {
   "cell_type": "markdown",
   "metadata": {},
   "source": [
    "# Часть 1. Анализ значений угла $\\chi_1$"
   ]
  },
  {
   "cell_type": "markdown",
   "metadata": {},
   "source": [
    "## Задание 1.1. Откроем загруженный файл. Посмотрим на колонки:"
   ]
  },
  {
   "cell_type": "code",
   "execution_count": 3,
   "metadata": {},
   "outputs": [],
   "source": [
    "dpath = \"ASN_data.csv\"#\"/Users/andreyignatov/Downloads/SER_data.csv\""
   ]
  },
  {
   "cell_type": "code",
   "execution_count": 4,
   "metadata": {},
   "outputs": [],
   "source": [
    "df = pd.read_csv(dpath)"
   ]
  },
  {
   "cell_type": "code",
   "execution_count": 9,
   "metadata": {},
   "outputs": [
    {
     "data": {
      "text/html": [
       "<div>\n",
       "<style scoped>\n",
       "    .dataframe tbody tr th:only-of-type {\n",
       "        vertical-align: middle;\n",
       "    }\n",
       "\n",
       "    .dataframe tbody tr th {\n",
       "        vertical-align: top;\n",
       "    }\n",
       "\n",
       "    .dataframe thead th {\n",
       "        text-align: right;\n",
       "    }\n",
       "</style>\n",
       "<table border=\"1\" class=\"dataframe\">\n",
       "  <thead>\n",
       "    <tr style=\"text-align: right;\">\n",
       "      <th></th>\n",
       "      <th>Unnamed: 0</th>\n",
       "      <th>pbd_indx</th>\n",
       "      <th>phi</th>\n",
       "      <th>psi</th>\n",
       "      <th>tau</th>\n",
       "      <th>alpha</th>\n",
       "      <th>ind_from_start</th>\n",
       "      <th>ind_from_end</th>\n",
       "      <th>sec_structure</th>\n",
       "      <th>is_tail</th>\n",
       "      <th>...</th>\n",
       "      <th>gamma14</th>\n",
       "      <th>alpha15</th>\n",
       "      <th>beta15</th>\n",
       "      <th>gamma15</th>\n",
       "      <th>alpha16</th>\n",
       "      <th>beta16</th>\n",
       "      <th>gamma16</th>\n",
       "      <th>alpha17</th>\n",
       "      <th>beta17</th>\n",
       "      <th>gamma17</th>\n",
       "    </tr>\n",
       "  </thead>\n",
       "  <tbody>\n",
       "    <tr>\n",
       "      <th>0</th>\n",
       "      <td>0</td>\n",
       "      <td>2BO5</td>\n",
       "      <td>105.721717</td>\n",
       "      <td>31.720074</td>\n",
       "      <td>97.608499</td>\n",
       "      <td>138.245070</td>\n",
       "      <td>29</td>\n",
       "      <td>90</td>\n",
       "      <td>T</td>\n",
       "      <td>0</td>\n",
       "      <td>...</td>\n",
       "      <td>147.601016</td>\n",
       "      <td>40.981261</td>\n",
       "      <td>129.143496</td>\n",
       "      <td>113.668773</td>\n",
       "      <td>46.243236</td>\n",
       "      <td>77.721563</td>\n",
       "      <td>49.867382</td>\n",
       "      <td>36.615200</td>\n",
       "      <td>127.127784</td>\n",
       "      <td>69.511218</td>\n",
       "    </tr>\n",
       "    <tr>\n",
       "      <th>1</th>\n",
       "      <td>1</td>\n",
       "      <td>2BO5</td>\n",
       "      <td>-90.839653</td>\n",
       "      <td>110.686568</td>\n",
       "      <td>110.596300</td>\n",
       "      <td>-164.956583</td>\n",
       "      <td>56</td>\n",
       "      <td>63</td>\n",
       "      <td>-</td>\n",
       "      <td>0</td>\n",
       "      <td>...</td>\n",
       "      <td>15.139382</td>\n",
       "      <td>23.906642</td>\n",
       "      <td>45.602274</td>\n",
       "      <td>108.795549</td>\n",
       "      <td>45.051815</td>\n",
       "      <td>12.883853</td>\n",
       "      <td>93.358495</td>\n",
       "      <td>49.345774</td>\n",
       "      <td>103.377160</td>\n",
       "      <td>108.211213</td>\n",
       "    </tr>\n",
       "    <tr>\n",
       "      <th>2</th>\n",
       "      <td>2</td>\n",
       "      <td>2BO5</td>\n",
       "      <td>-146.477925</td>\n",
       "      <td>-45.557638</td>\n",
       "      <td>103.383851</td>\n",
       "      <td>54.968058</td>\n",
       "      <td>83</td>\n",
       "      <td>36</td>\n",
       "      <td>T</td>\n",
       "      <td>0</td>\n",
       "      <td>...</td>\n",
       "      <td>130.295912</td>\n",
       "      <td>59.654900</td>\n",
       "      <td>102.989117</td>\n",
       "      <td>126.657156</td>\n",
       "      <td>81.157155</td>\n",
       "      <td>121.128187</td>\n",
       "      <td>131.314785</td>\n",
       "      <td>55.029140</td>\n",
       "      <td>64.948481</td>\n",
       "      <td>35.818431</td>\n",
       "    </tr>\n",
       "    <tr>\n",
       "      <th>3</th>\n",
       "      <td>3</td>\n",
       "      <td>2BO5</td>\n",
       "      <td>-68.444395</td>\n",
       "      <td>-36.072727</td>\n",
       "      <td>90.310651</td>\n",
       "      <td>52.136359</td>\n",
       "      <td>86</td>\n",
       "      <td>33</td>\n",
       "      <td>H</td>\n",
       "      <td>0</td>\n",
       "      <td>...</td>\n",
       "      <td>27.701265</td>\n",
       "      <td>83.368572</td>\n",
       "      <td>145.252524</td>\n",
       "      <td>88.681291</td>\n",
       "      <td>48.385726</td>\n",
       "      <td>108.711272</td>\n",
       "      <td>77.997577</td>\n",
       "      <td>36.710119</td>\n",
       "      <td>41.721029</td>\n",
       "      <td>115.287910</td>\n",
       "    </tr>\n",
       "    <tr>\n",
       "      <th>4</th>\n",
       "      <td>4</td>\n",
       "      <td>2BO5</td>\n",
       "      <td>-104.679567</td>\n",
       "      <td>-27.525984</td>\n",
       "      <td>98.949811</td>\n",
       "      <td>-93.497900</td>\n",
       "      <td>91</td>\n",
       "      <td>28</td>\n",
       "      <td>T</td>\n",
       "      <td>0</td>\n",
       "      <td>...</td>\n",
       "      <td>61.244735</td>\n",
       "      <td>53.078162</td>\n",
       "      <td>65.021598</td>\n",
       "      <td>143.012837</td>\n",
       "      <td>22.324875</td>\n",
       "      <td>70.891326</td>\n",
       "      <td>89.304484</td>\n",
       "      <td>56.154598</td>\n",
       "      <td>90.500054</td>\n",
       "      <td>131.363717</td>\n",
       "    </tr>\n",
       "  </tbody>\n",
       "</table>\n",
       "<p>5 rows × 301 columns</p>\n",
       "</div>"
      ],
      "text/plain": [
       "   Unnamed: 0 pbd_indx         phi         psi         tau       alpha  \\\n",
       "0           0     2BO5  105.721717   31.720074   97.608499  138.245070   \n",
       "1           1     2BO5  -90.839653  110.686568  110.596300 -164.956583   \n",
       "2           2     2BO5 -146.477925  -45.557638  103.383851   54.968058   \n",
       "3           3     2BO5  -68.444395  -36.072727   90.310651   52.136359   \n",
       "4           4     2BO5 -104.679567  -27.525984   98.949811  -93.497900   \n",
       "\n",
       "   ind_from_start  ind_from_end sec_structure  is_tail  ...     gamma14  \\\n",
       "0              29            90             T        0  ...  147.601016   \n",
       "1              56            63             -        0  ...   15.139382   \n",
       "2              83            36             T        0  ...  130.295912   \n",
       "3              86            33             H        0  ...   27.701265   \n",
       "4              91            28             T        0  ...   61.244735   \n",
       "\n",
       "     alpha15      beta15     gamma15    alpha16      beta16     gamma16  \\\n",
       "0  40.981261  129.143496  113.668773  46.243236   77.721563   49.867382   \n",
       "1  23.906642   45.602274  108.795549  45.051815   12.883853   93.358495   \n",
       "2  59.654900  102.989117  126.657156  81.157155  121.128187  131.314785   \n",
       "3  83.368572  145.252524   88.681291  48.385726  108.711272   77.997577   \n",
       "4  53.078162   65.021598  143.012837  22.324875   70.891326   89.304484   \n",
       "\n",
       "     alpha17      beta17     gamma17  \n",
       "0  36.615200  127.127784   69.511218  \n",
       "1  49.345774  103.377160  108.211213  \n",
       "2  55.029140   64.948481   35.818431  \n",
       "3  36.710119   41.721029  115.287910  \n",
       "4  56.154598   90.500054  131.363717  \n",
       "\n",
       "[5 rows x 301 columns]"
      ]
     },
     "execution_count": 9,
     "metadata": {},
     "output_type": "execute_result"
    }
   ],
   "source": [
    "df.head()"
   ]
  },
  {
   "cell_type": "code",
   "execution_count": null,
   "metadata": {},
   "outputs": [],
   "source": [
    "df['pdb_index']"
   ]
  },
  {
   "cell_type": "markdown",
   "metadata": {},
   "source": [
    "Эта таблица содержит информацию о сэмплах одной аминокислоты. Для каждого сэмпла известны:\n",
    "- Значения всех двугранных углов $\\chi$;\n",
    "- Значения $\\phi, \\psi, \\alpha$ (двугранный угол, построенный по 4 последовательным атомам $C_\\alpha$);\n",
    "- Данные о 17 ближайших пространственных соседях:\n",
    "    - $\\phi, \\psi$;\n",
    "    - Названия аминокислот;\n",
    "    - Расстояние до целевой аминокислоты по $C_\\alpha$;\n",
    "    - Химические / физикохимические характеристики соседа: группы и точные значения некоторых характеристик;\n",
    "    - Дополнительные геометрические характеристики (относительно целевой аминокислоты)."
   ]
  },
  {
   "cell_type": "markdown",
   "metadata": {},
   "source": [
    " "
   ]
  },
  {
   "cell_type": "markdown",
   "metadata": {},
   "source": [
    " "
   ]
  },
  {
   "cell_type": "markdown",
   "metadata": {},
   "source": [
    " "
   ]
  },
  {
   "cell_type": "markdown",
   "metadata": {},
   "source": [
    " "
   ]
  },
  {
   "cell_type": "markdown",
   "metadata": {},
   "source": [
    " "
   ]
  },
  {
   "cell_type": "markdown",
   "metadata": {},
   "source": [
    "## Задание 1.2. Постройте гистограмму значений $\\chi_1$ из этой таблицы. Какие ротамеры выделяются на этой гистограмме?"
   ]
  },
  {
   "cell_type": "code",
   "execution_count": 6,
   "metadata": {},
   "outputs": [],
   "source": [
    "import matplotlib.pyplot as plt"
   ]
  },
  {
   "cell_type": "code",
   "execution_count": 7,
   "metadata": {},
   "outputs": [],
   "source": [
    "df = df[~np.isnan(df[\"chi_1\"])]"
   ]
  },
  {
   "cell_type": "code",
   "execution_count": 10,
   "metadata": {},
   "outputs": [
    {
     "data": {
      "text/html": [
       "<div>\n",
       "<style scoped>\n",
       "    .dataframe tbody tr th:only-of-type {\n",
       "        vertical-align: middle;\n",
       "    }\n",
       "\n",
       "    .dataframe tbody tr th {\n",
       "        vertical-align: top;\n",
       "    }\n",
       "\n",
       "    .dataframe thead th {\n",
       "        text-align: right;\n",
       "    }\n",
       "</style>\n",
       "<table border=\"1\" class=\"dataframe\">\n",
       "  <thead>\n",
       "    <tr style=\"text-align: right;\">\n",
       "      <th></th>\n",
       "      <th>Unnamed: 0</th>\n",
       "      <th>pbd_indx</th>\n",
       "      <th>phi</th>\n",
       "      <th>psi</th>\n",
       "      <th>tau</th>\n",
       "      <th>alpha</th>\n",
       "      <th>ind_from_start</th>\n",
       "      <th>ind_from_end</th>\n",
       "      <th>sec_structure</th>\n",
       "      <th>is_tail</th>\n",
       "      <th>...</th>\n",
       "      <th>gamma14</th>\n",
       "      <th>alpha15</th>\n",
       "      <th>beta15</th>\n",
       "      <th>gamma15</th>\n",
       "      <th>alpha16</th>\n",
       "      <th>beta16</th>\n",
       "      <th>gamma16</th>\n",
       "      <th>alpha17</th>\n",
       "      <th>beta17</th>\n",
       "      <th>gamma17</th>\n",
       "    </tr>\n",
       "  </thead>\n",
       "  <tbody>\n",
       "    <tr>\n",
       "      <th>50135</th>\n",
       "      <td>50135</td>\n",
       "      <td>5X1X</td>\n",
       "      <td>-126.394925</td>\n",
       "      <td>-35.165820</td>\n",
       "      <td>104.912799</td>\n",
       "      <td>69.719583</td>\n",
       "      <td>42</td>\n",
       "      <td>87</td>\n",
       "      <td>S</td>\n",
       "      <td>0</td>\n",
       "      <td>...</td>\n",
       "      <td>104.606560</td>\n",
       "      <td>63.835809</td>\n",
       "      <td>28.273507</td>\n",
       "      <td>117.241659</td>\n",
       "      <td>26.344335</td>\n",
       "      <td>92.613738</td>\n",
       "      <td>80.028985</td>\n",
       "      <td>39.493762</td>\n",
       "      <td>91.875183</td>\n",
       "      <td>57.695359</td>\n",
       "    </tr>\n",
       "    <tr>\n",
       "      <th>50136</th>\n",
       "      <td>50136</td>\n",
       "      <td>5X1X</td>\n",
       "      <td>-119.288853</td>\n",
       "      <td>-176.406630</td>\n",
       "      <td>137.556176</td>\n",
       "      <td>-84.463716</td>\n",
       "      <td>89</td>\n",
       "      <td>40</td>\n",
       "      <td>-</td>\n",
       "      <td>0</td>\n",
       "      <td>...</td>\n",
       "      <td>91.095312</td>\n",
       "      <td>47.221404</td>\n",
       "      <td>58.339760</td>\n",
       "      <td>44.461383</td>\n",
       "      <td>54.913700</td>\n",
       "      <td>109.528709</td>\n",
       "      <td>100.336155</td>\n",
       "      <td>36.633313</td>\n",
       "      <td>90.052274</td>\n",
       "      <td>103.348842</td>\n",
       "    </tr>\n",
       "    <tr>\n",
       "      <th>50137</th>\n",
       "      <td>50137</td>\n",
       "      <td>5X1X</td>\n",
       "      <td>-98.951230</td>\n",
       "      <td>13.053325</td>\n",
       "      <td>91.978447</td>\n",
       "      <td>48.088340</td>\n",
       "      <td>107</td>\n",
       "      <td>22</td>\n",
       "      <td>T</td>\n",
       "      <td>0</td>\n",
       "      <td>...</td>\n",
       "      <td>151.460893</td>\n",
       "      <td>58.935319</td>\n",
       "      <td>52.930063</td>\n",
       "      <td>142.844773</td>\n",
       "      <td>24.776393</td>\n",
       "      <td>58.714198</td>\n",
       "      <td>98.253610</td>\n",
       "      <td>58.038371</td>\n",
       "      <td>81.403076</td>\n",
       "      <td>46.584404</td>\n",
       "    </tr>\n",
       "    <tr>\n",
       "      <th>50138</th>\n",
       "      <td>50138</td>\n",
       "      <td>5X1X</td>\n",
       "      <td>-23.684340</td>\n",
       "      <td>105.754698</td>\n",
       "      <td>99.977952</td>\n",
       "      <td>-164.051263</td>\n",
       "      <td>113</td>\n",
       "      <td>16</td>\n",
       "      <td>-</td>\n",
       "      <td>0</td>\n",
       "      <td>...</td>\n",
       "      <td>149.166728</td>\n",
       "      <td>105.881777</td>\n",
       "      <td>44.001506</td>\n",
       "      <td>124.750045</td>\n",
       "      <td>43.782838</td>\n",
       "      <td>91.025487</td>\n",
       "      <td>47.314527</td>\n",
       "      <td>64.832873</td>\n",
       "      <td>91.865587</td>\n",
       "      <td>25.959365</td>\n",
       "    </tr>\n",
       "    <tr>\n",
       "      <th>50139</th>\n",
       "      <td>50139</td>\n",
       "      <td>5X1X</td>\n",
       "      <td>-59.010253</td>\n",
       "      <td>-34.611723</td>\n",
       "      <td>88.598543</td>\n",
       "      <td>62.815640</td>\n",
       "      <td>123</td>\n",
       "      <td>6</td>\n",
       "      <td>H</td>\n",
       "      <td>0</td>\n",
       "      <td>...</td>\n",
       "      <td>70.675314</td>\n",
       "      <td>67.777538</td>\n",
       "      <td>47.610995</td>\n",
       "      <td>121.800195</td>\n",
       "      <td>53.596508</td>\n",
       "      <td>52.108852</td>\n",
       "      <td>38.424021</td>\n",
       "      <td>69.690749</td>\n",
       "      <td>59.350990</td>\n",
       "      <td>34.665235</td>\n",
       "    </tr>\n",
       "  </tbody>\n",
       "</table>\n",
       "<p>5 rows × 301 columns</p>\n",
       "</div>"
      ],
      "text/plain": [
       "       Unnamed: 0 pbd_indx         phi         psi         tau       alpha  \\\n",
       "50135       50135     5X1X -126.394925  -35.165820  104.912799   69.719583   \n",
       "50136       50136     5X1X -119.288853 -176.406630  137.556176  -84.463716   \n",
       "50137       50137     5X1X  -98.951230   13.053325   91.978447   48.088340   \n",
       "50138       50138     5X1X  -23.684340  105.754698   99.977952 -164.051263   \n",
       "50139       50139     5X1X  -59.010253  -34.611723   88.598543   62.815640   \n",
       "\n",
       "       ind_from_start  ind_from_end sec_structure  is_tail  ...     gamma14  \\\n",
       "50135              42            87             S        0  ...  104.606560   \n",
       "50136              89            40             -        0  ...   91.095312   \n",
       "50137             107            22             T        0  ...  151.460893   \n",
       "50138             113            16             -        0  ...  149.166728   \n",
       "50139             123             6             H        0  ...   70.675314   \n",
       "\n",
       "          alpha15     beta15     gamma15    alpha16      beta16     gamma16  \\\n",
       "50135   63.835809  28.273507  117.241659  26.344335   92.613738   80.028985   \n",
       "50136   47.221404  58.339760   44.461383  54.913700  109.528709  100.336155   \n",
       "50137   58.935319  52.930063  142.844773  24.776393   58.714198   98.253610   \n",
       "50138  105.881777  44.001506  124.750045  43.782838   91.025487   47.314527   \n",
       "50139   67.777538  47.610995  121.800195  53.596508   52.108852   38.424021   \n",
       "\n",
       "         alpha17     beta17     gamma17  \n",
       "50135  39.493762  91.875183   57.695359  \n",
       "50136  36.633313  90.052274  103.348842  \n",
       "50137  58.038371  81.403076   46.584404  \n",
       "50138  64.832873  91.865587   25.959365  \n",
       "50139  69.690749  59.350990   34.665235  \n",
       "\n",
       "[5 rows x 301 columns]"
      ]
     },
     "execution_count": 10,
     "metadata": {},
     "output_type": "execute_result"
    }
   ],
   "source": [
    "df.tail()"
   ]
  },
  {
   "cell_type": "code",
   "execution_count": 11,
   "metadata": {},
   "outputs": [
    {
     "data": {
      "image/png": "[encoded data removed]",
      "text/plain": [
       "<Figure size 1080x360 with 1 Axes>"
      ]
     },
     "metadata": {
      "needs_background": "light"
     },
     "output_type": "display_data"
    }
   ],
   "source": [
    "plt.figure(figsize=(15,5))\n",
    "\n",
    "plt.hist(df[\"chi_1\"],bins=100)\n",
    "plt.show()"
   ]
  },
  {
   "cell_type": "code",
   "execution_count": 18,
   "metadata": {},
   "outputs": [],
   "source": [
    "# ищем пики"
   ]
  },
  {
   "cell_type": "code",
   "execution_count": 20,
   "metadata": {},
   "outputs": [
    {
     "data": {
      "image/png": "[encoded data removed]",
      "text/plain": [
       "<Figure size 1080x360 with 1 Axes>"
      ]
     },
     "metadata": {
      "needs_background": "light"
     },
     "output_type": "display_data"
    }
   ],
   "source": [
    "plt.figure(figsize=(15,5))\n",
    "\n",
    "hs, xs, *_ = plt.hist(df[\"chi_1\"],bins=50)\n",
    "plt.show()"
   ]
  },
  {
   "cell_type": "code",
   "execution_count": 21,
   "metadata": {},
   "outputs": [
    {
     "name": "stdout",
     "output_type": "stream",
     "text": [
      "50 51\n"
     ]
    }
   ],
   "source": [
    "print(len(hs),len(xs))"
   ]
  },
  {
   "cell_type": "code",
   "execution_count": 22,
   "metadata": {},
   "outputs": [],
   "source": [
    "xs = (xs[1:]+xs[:-1]) / 2"
   ]
  },
  {
   "cell_type": "code",
   "execution_count": 26,
   "metadata": {},
   "outputs": [
    {
     "name": "stdout",
     "output_type": "stream",
     "text": [
      "[15, 33, 49]\n"
     ]
    }
   ],
   "source": [
    "rotamers_indices = [i for i in range(3, len(hs)) \n",
    "                    if np.all(hs[i - 3:i] < hs[i]) and\n",
    "                   np.all(hs[i+1 :i+4] < hs[i])]\n",
    "print(rotamers_indices)"
   ]
  },
  {
   "cell_type": "code",
   "execution_count": 27,
   "metadata": {},
   "outputs": [
    {
     "data": {
      "text/plain": [
       "array([-68.39969108,  61.19858146, 176.39704594])"
      ]
     },
     "execution_count": 27,
     "metadata": {},
     "output_type": "execute_result"
    }
   ],
   "source": [
    "xs[rotamers_indices]"
   ]
  },
  {
   "cell_type": "markdown",
   "metadata": {},
   "source": [
    "Занесите обнаруженные ротамеры в список rotamers:"
   ]
  },
  {
   "cell_type": "code",
   "execution_count": 28,
   "metadata": {},
   "outputs": [],
   "source": [
    "rotamers = xs[rotamers_indices]"
   ]
  },
  {
   "cell_type": "markdown",
   "metadata": {},
   "source": [
    " "
   ]
  },
  {
   "cell_type": "markdown",
   "metadata": {},
   "source": [
    " "
   ]
  },
  {
   "cell_type": "markdown",
   "metadata": {},
   "source": [
    " "
   ]
  },
  {
   "cell_type": "markdown",
   "metadata": {},
   "source": [
    " "
   ]
  },
  {
   "cell_type": "markdown",
   "metadata": {},
   "source": [
    " "
   ]
  },
  {
   "cell_type": "markdown",
   "metadata": {},
   "source": [
    "## Задание 1.3. Давайте разберемся, как можно дискретизировать значения (разделить их на классы). Реализуйте функцию get_class(value, rotamers), которая возвращает индекс ротамера, к которому относится значение value."
   ]
  },
  {
   "cell_type": "markdown",
   "metadata": {},
   "source": [
    "**Комментарий**: стоит вычислять расстояние от value до каждого значения из rotamers. Но не забудьте, что с точки зрения окружности $-\\pi$ и $\\pi$ - одно и то же!"
   ]
  },
  {
   "cell_type": "code",
   "execution_count": 32,
   "metadata": {},
   "outputs": [],
   "source": [
    "def get_class(value, rotamers): # value - угол класс которого мы хотим определить\n",
    "    diffs = np.abs(np.array(rotamers)-value)\n",
    "    #diffs = (diffs + 2 * np.pi) % (2 * np.pi) Бесполезный костыль\n",
    "    diffs = np.minimum(diffs, 360 - diffs)\n",
    "    return np.argmin(diffs)"
   ]
  },
  {
   "cell_type": "code",
   "execution_count": 32,
   "metadata": {},
   "outputs": [],
   "source": [
    "def get_class(value, rotamers): # value - угол класс которого мы хотим определить\n",
    "    diffs = np.array(rotamers)-value\n",
    "\n",
    "    return np.argmin(diffs)"
   ]
  },
  {
   "cell_type": "code",
   "execution_count": 33,
   "metadata": {},
   "outputs": [
    {
     "data": {
      "image/png": "[encoded data removed]",
      "text/plain": [
       "<Figure size 1080x360 with 1 Axes>"
      ]
     },
     "metadata": {
      "needs_background": "light"
     },
     "output_type": "display_data"
    }
   ],
   "source": [
    "plt.figure(figsize=(15,5))\n",
    "classes = [get_class(val, rotamers) for val in df[\"chi_1\"]]\n",
    "\n",
    "for i in np.unique(classes):\n",
    "    plt.hist(df[\"chi_1\"].values[classes == i], bins=200, range=(-180, 180))\n",
    "\n",
    "plt.xticks(np.arange(-180, 180, 20))\n",
    "plt.show()"
   ]
  },
  {
   "cell_type": "markdown",
   "metadata": {},
   "source": [
    " "
   ]
  },
  {
   "cell_type": "markdown",
   "metadata": {},
   "source": [
    " "
   ]
  },
  {
   "cell_type": "markdown",
   "metadata": {},
   "source": [
    " "
   ]
  },
  {
   "cell_type": "markdown",
   "metadata": {},
   "source": [
    " "
   ]
  },
  {
   "cell_type": "markdown",
   "metadata": {},
   "source": [
    " "
   ]
  },
  {
   "cell_type": "markdown",
   "metadata": {},
   "source": [
    " "
   ]
  },
  {
   "cell_type": "markdown",
   "metadata": {},
   "source": [
    "## Задание 1.4. Теперь мы умеем делить значения $\\chi_1$ на классы, т.е. можем понять, к какому ротамеру относится то или иное значение.\n",
    "Реализуем первую часть подхода Dunbrack. Шаги:\n",
    "- Разделить карту Рамачандрана на блоки $20 x 20$. Для каждого блока нужно найти те сэмплы из выборки, которые входят в него.\n",
    "- Для всех найденных сэмплов нужно получить индексы классов; после этого выбрать класс, встречающийся чаще всего, и сохранить его в соответствующую ячейку матрицы **most_common_rotamers**.\n",
    "    - Если получилось меньше 10 значений для некоторого блока, нужно получить наиболее частый класс для всей выборки."
   ]
  },
  {
   "cell_type": "code",
   "execution_count": 44,
   "metadata": {},
   "outputs": [],
   "source": [
    "all_rots = [get_class(val, rotamers) for val in df[\"chi_1\"]]\n",
    "\n",
    "df['rotamer'] = all_rots # берем значения или индексы по хи1 ?\n",
    "\n",
    "all_un_rots, all_un_cnts = np.unique(all_rots, return_counts=True)\n",
    "\n",
    "most_common = all_un_rots[np.argmax(all_un_cnts)]"
   ]
  },
  {
   "cell_type": "code",
   "execution_count": 40,
   "metadata": {},
   "outputs": [
    {
     "data": {
      "text/plain": [
       "0"
      ]
     },
     "execution_count": 40,
     "metadata": {},
     "output_type": "execute_result"
    }
   ],
   "source": [
    "most_common"
   ]
  },
  {
   "cell_type": "code",
   "execution_count": 58,
   "metadata": {},
   "outputs": [],
   "source": [
    "most_common_rotamers = np.full((18, 18), np.nan)\n",
    "for phi_ind in range(18):\n",
    "    phi_st = -180 + 20 * phi_ind\n",
    "    phi_end = -180 + 20 * (phi_ind + 1)\n",
    "    for psi_ind in range(18):\n",
    "        psi_st = -180 + 20 * psi_ind\n",
    "        psi_end = -180 + 20 * (psi_ind + 1)\n",
    "        \n",
    "        subdf = df[(df['phi'] >= phi_st) & (df['phi'] < phi_end) &\n",
    "                   (df['psi'] >= psi_st) & (df['psi'] < psi_end)]\n",
    "        if len(subdf) < 10:\n",
    "            most_common_rotamers[psi_ind, phi_ind] = most_common\n",
    "            continue\n",
    "        un_rotamers, counts = np.unique(subdf['rotamer'].values,\n",
    "                               return_counts = True)\n",
    "        best_rotamer_ind = np.argmax(counts)\n",
    "        best_rotamer = un_rotamers[best_rotamer_ind]\n",
    "        most_common_rotamers[psi_ind, phi_ind] = best_rotamer"
   ]
  },
  {
   "cell_type": "markdown",
   "metadata": {},
   "source": [
    "un_rotamers - уникальные ротамеры + индексы (аргмакс по каунту)"
   ]
  },
  {
   "cell_type": "code",
   "execution_count": 48,
   "metadata": {},
   "outputs": [
    {
     "data": {
      "text/plain": [
       "(array([1, 2], dtype=int64), array([12,  8], dtype=int64))"
      ]
     },
     "execution_count": 48,
     "metadata": {},
     "output_type": "execute_result"
    }
   ],
   "source": [
    "un_rotamers, counts"
   ]
  },
  {
   "cell_type": "code",
   "execution_count": 49,
   "metadata": {},
   "outputs": [
    {
     "data": {
      "text/plain": [
       "1"
      ]
     },
     "execution_count": 49,
     "metadata": {},
     "output_type": "execute_result"
    }
   ],
   "source": [
    "un_rotamers[np.argmax(counts)]"
   ]
  },
  {
   "cell_type": "markdown",
   "metadata": {},
   "source": [
    "phi*psi 18x18\n",
    "nan\n",
    "init+final phi&psi"
   ]
  },
  {
   "cell_type": "markdown",
   "metadata": {},
   "source": [
    "Отобразите получившуюся матрицу с помощью plt.imshow: "
   ]
  },
  {
   "cell_type": "code",
   "execution_count": 59,
   "metadata": {},
   "outputs": [
    {
     "data": {
      "image/png": "[encoded data removed]",
      "text/plain": [
       "<Figure size 432x288 with 2 Axes>"
      ]
     },
     "metadata": {
      "needs_background": "light"
     },
     "output_type": "display_data"
    }
   ],
   "source": [
    "plt.imshow(most_common_rotamers)\n",
    "\n",
    "plt.colorbar()\n",
    "plt.show()"
   ]
  },
  {
   "cell_type": "markdown",
   "metadata": {},
   "source": [
    "Какие выводы можно сделать на основании изображения выше? Можно ли сказать, что какой-то ротамер характерен для определенной вторичной структуры?"
   ]
  },
  {
   "cell_type": "markdown",
   "metadata": {},
   "source": [
    "# $\\rightarrow$ Ваши идеи 🙂"
   ]
  },
  {
   "cell_type": "markdown",
   "metadata": {},
   "source": [
    " "
   ]
  },
  {
   "cell_type": "markdown",
   "metadata": {},
   "source": [
    " "
   ]
  },
  {
   "cell_type": "markdown",
   "metadata": {},
   "source": [
    " "
   ]
  },
  {
   "cell_type": "markdown",
   "metadata": {},
   "source": [
    " "
   ]
  },
  {
   "cell_type": "markdown",
   "metadata": {},
   "source": [
    " "
   ]
  },
  {
   "cell_type": "markdown",
   "metadata": {},
   "source": [
    " "
   ]
  },
  {
   "cell_type": "markdown",
   "metadata": {},
   "source": [
    " "
   ]
  },
  {
   "cell_type": "markdown",
   "metadata": {},
   "source": [
    "## Задание 1.5. А насколько вообще состоятелен подход к поиску пересечений, основанный на энергии van der Waals?"
   ]
  },
  {
   "cell_type": "markdown",
   "metadata": {},
   "source": [
    "Давайте возьмем достаточно длинный белок $1Z87$, откроем его и изучим:"
   ]
  },
  {
   "cell_type": "code",
   "execution_count": null,
   "metadata": {},
   "outputs": [],
   "source": [
    "import Bio.PDB as pdb"
   ]
  },
  {
   "cell_type": "code",
   "execution_count": null,
   "metadata": {},
   "outputs": [],
   "source": [
    "path = pdb.PDBList().retrieve_pdb_file(\"1z87\", \n",
    "                                       file_format=\"pdb\")\n",
    "struct = pdb.PDBParser().get_structure(\"s\", path)"
   ]
  },
  {
   "cell_type": "markdown",
   "metadata": {},
   "source": [
    " "
   ]
  },
  {
   "cell_type": "markdown",
   "metadata": {},
   "source": [
    "Получите 0-ую цепочку этого белка, найдите в ней индексы всех цистеинов (CYS):"
   ]
  },
  {
   "cell_type": "code",
   "execution_count": null,
   "metadata": {},
   "outputs": [],
   "source": [
    "chain = struct[0].child_list[0]\n",
    "residues = chain.child_list\n",
    "cys_inds = # TODO"
   ]
  },
  {
   "cell_type": "markdown",
   "metadata": {},
   "source": [
    " "
   ]
  },
  {
   "cell_type": "markdown",
   "metadata": {},
   "source": [
    " "
   ]
  },
  {
   "cell_type": "markdown",
   "metadata": {},
   "source": [
    " "
   ]
  },
  {
   "cell_type": "markdown",
   "metadata": {},
   "source": [
    "Выберите первый найденный цистеин. Будем менять для него угол $\\chi_1$ и смотреть, как будет меняться энергия ван дер Ваальса при взаимодействии с другими атомами.\n",
    "\n",
    "$U_{LJ} = 4 \\cdot \\epsilon \\cdot [(\\frac{r_{min}}{r})^{12} - 2 \\cdot (\\frac{r_{min}}{r})^6]$"
   ]
  },
  {
   "cell_type": "code",
   "execution_count": null,
   "metadata": {},
   "outputs": [],
   "source": [
    "lj_coeffs = pd.read_csv(\"lennard-jones_12-6.csv\", delimiter=\"\\t\")\n",
    "lj_coeffs.head()"
   ]
  },
  {
   "cell_type": "code",
   "execution_count": null,
   "metadata": {},
   "outputs": [],
   "source": [
    "def van_der_Waals(d, d_m, eps):\n",
    "    return  4 * eps * (((d_m / d) ** 12) - 2 * ((d_m / d) ** 6))"
   ]
  },
  {
   "cell_type": "markdown",
   "metadata": {},
   "source": [
    " "
   ]
  },
  {
   "cell_type": "markdown",
   "metadata": {},
   "source": [
    " "
   ]
  },
  {
   "cell_type": "markdown",
   "metadata": {},
   "source": [
    " "
   ]
  },
  {
   "cell_type": "markdown",
   "metadata": {},
   "source": [
    "Изменяя двугранный угол в пределах $[-\\pi, \\pi)$:\n",
    "- Вычислите новые координаты атома SG у цистеина. Для этого можно воспользоваться функциями из файла geometry.py (из первого ДЗ).\n",
    "- После получения координат, их можно присвоить с помощью метода:\n",
    "\n",
    "    residue[\"CG\"].set_coord(new_cg1_coord)\n",
    "- После этого вычислите суммарную энергию ван дер Ваальса взаимодействия со всеми другими атомами белка."
   ]
  },
  {
   "cell_type": "code",
   "execution_count": null,
   "metadata": {},
   "outputs": [],
   "source": [
    "from geometry import *"
   ]
  },
  {
   "cell_type": "markdown",
   "metadata": {},
   "source": [
    "Для удобства сделаем словарь из таблицы с коэффициентами потенциала типа Леннарда-Джонса:"
   ]
  },
  {
   "cell_type": "code",
   "execution_count": null,
   "metadata": {},
   "outputs": [],
   "source": [
    "lj_coeffs = {row[0]: {\"d_min\": float(row[1].replace(\",\", \".\")), \n",
    "                      \"eps\": float(row[2].replace(\",\", \".\"))} for row in lj_coeffs.values}\n",
    "lj_coeffs"
   ]
  },
  {
   "cell_type": "code",
   "execution_count": null,
   "metadata": {},
   "outputs": [],
   "source": [
    "def calc_vdw_w_residue(ref_residue, residue):\n",
    "    ref_atoms = [at \n",
    "                 for at in ref_residue.child_list \n",
    "                 if at not in [\"C\", \"N\", \"CA\", \"CB\", \"O\"] and at.element[0] != \"H\"]\n",
    "    atoms = [at \n",
    "             for at in residue.child_list \n",
    "             if at.element[0] != \"H\"]\n",
    "    \n",
    "    ds, d_ms, epses = [], [], []\n",
    "    for at1 in ref_atoms:\n",
    "        for at2 in atoms:\n",
    "            pair = \"{}-{}\".format(at1.element, at2.element)\n",
    "            ds += [at1 - at2]\n",
    "            d_ms += [lj_coeffs[pair][\"d_min\"]]\n",
    "            epses += [lj_coeffs[pair][\"eps\"]]\n",
    "            \n",
    "    ds =    np.array(ds)\n",
    "    d_ms =  np.array(d_ms)\n",
    "    epses = np.array(epses)\n",
    "    \n",
    "    return van_der_Waals(ds, d_ms, epses).sum()\n",
    "    "
   ]
  },
  {
   "cell_type": "code",
   "execution_count": null,
   "metadata": {},
   "outputs": [],
   "source": [
    "calc_vdw_w_residue(chain[2], chain[3])"
   ]
  },
  {
   "cell_type": "code",
   "execution_count": 77,
   "metadata": {},
   "outputs": [],
   "source": [
    "chi1_vals = np.arange(-np.pi, np.pi, np.pi/10)\n",
    "\n",
    "cys_residue = residues[cys_inds[0]]\n",
    "\n",
    "chi1_true = pdb.calc_dihedral(cys_residue[\"N\"].get_vector(),\n",
    "                              cys_residue[\"CA\"].get_vector(),\n",
    "                              cys_residue[\"CB\"].get_vector(),\n",
    "                              cys_residue[\"SG\"].get_vector(),                             \n",
    "                             )\n",
    "planar = pdb.calc_angle(cys_residue[\"CA\"].get_vector(),\n",
    "                      cys_residue[\"CB\"].get_vector(),\n",
    "                      cys_residue[\"SG\"].get_vector())\n",
    "bond = cys_residue[\"SG\"] - cys_residue[\"CB\"]\n",
    "prev_atoms = np.array([cys_residue[\"N\"].coord, \n",
    "                       cys_residue[\"CA\"].coord, \n",
    "                       cys_residue[\"CB\"].coord, \n",
    "                      ])\n",
    "\n",
    "vdw_vals = []\n",
    "\n",
    "for chi1 in chi1_vals:\n",
    "    new_coord = place_next_dihedral_atom(prev_atoms, chi1, planar, bond)\n",
    "    cys_residue[\"SG\"].set_coord(new_coord)\n",
    "    \n",
    "    # your code here"
   ]
  },
  {
   "cell_type": "markdown",
   "metadata": {},
   "source": [
    " "
   ]
  },
  {
   "cell_type": "markdown",
   "metadata": {},
   "source": [
    " "
   ]
  },
  {
   "cell_type": "markdown",
   "metadata": {},
   "source": [
    " "
   ]
  },
  {
   "cell_type": "markdown",
   "metadata": {},
   "source": [
    " "
   ]
  },
  {
   "cell_type": "markdown",
   "metadata": {},
   "source": [
    " "
   ]
  },
  {
   "cell_type": "markdown",
   "metadata": {},
   "source": [
    "Постройте график для получившихся значений энергии. Какой вывод можно сделать из него?"
   ]
  },
  {
   "cell_type": "code",
   "execution_count": null,
   "metadata": {},
   "outputs": [],
   "source": [
    "plt.figure(figsize=(15,5))\n",
    "plt.plot(chi1_vals, vdw_vals)\n",
    "\n",
    "plt.show()"
   ]
  },
  {
   "cell_type": "code",
   "execution_count": null,
   "metadata": {},
   "outputs": [],
   "source": [
    "# your ideas here"
   ]
  },
  {
   "cell_type": "markdown",
   "metadata": {},
   "source": [
    " "
   ]
  },
  {
   "cell_type": "markdown",
   "metadata": {},
   "source": [
    " "
   ]
  },
  {
   "cell_type": "markdown",
   "metadata": {},
   "source": [
    " "
   ]
  },
  {
   "cell_type": "markdown",
   "metadata": {},
   "source": [
    " "
   ]
  },
  {
   "cell_type": "markdown",
   "metadata": {},
   "source": [
    " "
   ]
  },
  {
   "cell_type": "markdown",
   "metadata": {},
   "source": [
    " "
   ]
  },
  {
   "cell_type": "markdown",
   "metadata": {},
   "source": [
    " "
   ]
  },
  {
   "cell_type": "markdown",
   "metadata": {},
   "source": [
    " "
   ]
  },
  {
   "cell_type": "markdown",
   "metadata": {},
   "source": [
    " "
   ]
  },
  {
   "cell_type": "markdown",
   "metadata": {},
   "source": [
    " "
   ]
  },
  {
   "cell_type": "markdown",
   "metadata": {},
   "source": [
    " "
   ]
  },
  {
   "cell_type": "markdown",
   "metadata": {},
   "source": [
    " "
   ]
  },
  {
   "cell_type": "markdown",
   "metadata": {},
   "source": [
    " "
   ]
  },
  {
   "cell_type": "markdown",
   "metadata": {},
   "source": [
    " "
   ]
  },
  {
   "cell_type": "markdown",
   "metadata": {},
   "source": [
    " "
   ]
  },
  {
   "cell_type": "markdown",
   "metadata": {},
   "source": [
    " "
   ]
  },
  {
   "cell_type": "markdown",
   "metadata": {},
   "source": [
    " "
   ]
  },
  {
   "cell_type": "markdown",
   "metadata": {},
   "source": [
    " "
   ]
  },
  {
   "cell_type": "markdown",
   "metadata": {},
   "source": [
    " "
   ]
  },
  {
   "cell_type": "markdown",
   "metadata": {},
   "source": [
    "# Часть 2. Предсказание ротамеров $\\chi_1$"
   ]
  },
  {
   "cell_type": "markdown",
   "metadata": {},
   "source": [
    "В этой части Вам предстоит применить методы Машинного Обучения (деревья решений) к задаче предсказания ротамеров Вашей аминокислоты."
   ]
  },
  {
   "cell_type": "markdown",
   "metadata": {},
   "source": [
    " "
   ]
  },
  {
   "cell_type": "markdown",
   "metadata": {},
   "source": [
    " "
   ]
  },
  {
   "cell_type": "markdown",
   "metadata": {},
   "source": [
    " "
   ]
  },
  {
   "cell_type": "markdown",
   "metadata": {},
   "source": [
    "## Задание 2.1. Вернемся к датасету из части 1. Добавьте колонку chi_class, которая получается преобразованием значений из колонки chi_1 к классам."
   ]
  },
  {
   "cell_type": "code",
   "execution_count": 58,
   "metadata": {},
   "outputs": [],
   "source": [
    "# your code here"
   ]
  },
  {
   "cell_type": "markdown",
   "metadata": {},
   "source": [
    " "
   ]
  },
  {
   "cell_type": "markdown",
   "metadata": {},
   "source": [
    " "
   ]
  },
  {
   "cell_type": "markdown",
   "metadata": {},
   "source": [
    " "
   ]
  },
  {
   "cell_type": "markdown",
   "metadata": {},
   "source": [
    "## Задание 2.2. Теперь давайте дискретизируем значения $\\phi, \\psi, \\alpha$. Каждому значению из $[-\\pi, \\pi]$ нужно поставить в соответствие номер блока длиной 20 градусов, в который он попадает."
   ]
  },
  {
   "cell_type": "markdown",
   "metadata": {},
   "source": [
    "**Комментарий**: обратите внимание, значения могут быть отрицательными. А номер блока нет 🤔"
   ]
  },
  {
   "cell_type": "code",
   "execution_count": 58,
   "metadata": {},
   "outputs": [],
   "source": [
    "# your code here"
   ]
  },
  {
   "cell_type": "markdown",
   "metadata": {},
   "source": [
    " "
   ]
  },
  {
   "cell_type": "markdown",
   "metadata": {},
   "source": [
    " "
   ]
  },
  {
   "cell_type": "markdown",
   "metadata": {},
   "source": [
    " "
   ]
  },
  {
   "cell_type": "markdown",
   "metadata": {},
   "source": [
    " "
   ]
  },
  {
   "cell_type": "markdown",
   "metadata": {},
   "source": [
    "## Задание 2.3. В датасете есть текстовые признаки! Так как они категориальные, их значения можно поменять на натуральные числа. Пронумеруйте все уникальные значения таких признаков и измените текстовые значения на соответствующие номера. "
   ]
  },
  {
   "cell_type": "code",
   "execution_count": 58,
   "metadata": {},
   "outputs": [],
   "source": [
    "# your code here"
   ]
  },
  {
   "cell_type": "markdown",
   "metadata": {},
   "source": [
    " "
   ]
  },
  {
   "cell_type": "markdown",
   "metadata": {},
   "source": [
    " "
   ]
  },
  {
   "cell_type": "markdown",
   "metadata": {},
   "source": [
    " "
   ]
  },
  {
   "cell_type": "markdown",
   "metadata": {},
   "source": [
    " "
   ]
  },
  {
   "cell_type": "markdown",
   "metadata": {},
   "source": [
    " "
   ]
  },
  {
   "cell_type": "markdown",
   "metadata": {},
   "source": [
    "## Задание 2.4. Обучим нашу модель!"
   ]
  },
  {
   "cell_type": "markdown",
   "metadata": {},
   "source": [
    "Импортируйте библиотеку lightgbm. Если она не установлена, установить ее можно с помощью консольной команды pip:"
   ]
  },
  {
   "cell_type": "code",
   "execution_count": null,
   "metadata": {},
   "outputs": [],
   "source": [
    "# Ваш pip может иметь другую версию / называться по-другому: например, pip3 для python3\n",
    "! pip3.8 install lightgbm\n",
    "import lightgbm as lgb"
   ]
  },
  {
   "cell_type": "markdown",
   "metadata": {},
   "source": [
    "Разделите выборку на обучающую и тестовую в соотношении 0.7/0.3. В X должны быть все признаки, кроме Unnamed, pdb_id и всех столбцов со значениями углов $\\chi$. y - столбец дискретизированных значений $\\chi_1$."
   ]
  },
  {
   "cell_type": "code",
   "execution_count": 58,
   "metadata": {},
   "outputs": [],
   "source": [
    "# your code here"
   ]
  },
  {
   "cell_type": "markdown",
   "metadata": {},
   "source": [
    " "
   ]
  },
  {
   "cell_type": "markdown",
   "metadata": {},
   "source": [
    " "
   ]
  },
  {
   "cell_type": "markdown",
   "metadata": {},
   "source": [
    " "
   ]
  },
  {
   "cell_type": "markdown",
   "metadata": {},
   "source": [
    " "
   ]
  },
  {
   "cell_type": "markdown",
   "metadata": {},
   "source": [
    "Обучите модель, проверьте качество обучения на тестовой выборке (по метрике accuracy). Получилось ли хорошая модель?"
   ]
  },
  {
   "cell_type": "code",
   "execution_count": null,
   "metadata": {},
   "outputs": [],
   "source": [
    "clf = lgb.LGBMClassifier(num_leaves=88,\n",
    "                         min_child_samples=1358,\n",
    "                         max_depth=16,\n",
    "                         n_estimators=2170,\n",
    "                         reg_lambda=702.599,\n",
    "                         reg_alpha=28.532,\n",
    "                         learning_rate=0.26461,\n",
    "                         random_state=42\n",
    "                        )"
   ]
  },
  {
   "cell_type": "code",
   "execution_count": null,
   "metadata": {},
   "outputs": [],
   "source": [
    "clf.fit(X_train, y_train)"
   ]
  },
  {
   "cell_type": "code",
   "execution_count": null,
   "metadata": {},
   "outputs": [],
   "source": [
    "y_pred = clf.predict(X_test)"
   ]
  },
  {
   "cell_type": "code",
   "execution_count": null,
   "metadata": {},
   "outputs": [],
   "source": [
    "from sklearn.metrics import accuracy_score\n",
    "accuracy = accuracy_score(y_pred, y_test)\n",
    "print(\"Test accuracy score:\", accuracy)"
   ]
  }
 ],
 "metadata": {
  "kernelspec": {
   "display_name": "Python 3 (ipykernel)",
   "language": "python",
   "name": "python3"
  },
  "language_info": {
   "codemirror_mode": {
    "name": "ipython",
    "version": 3
   },
   "file_extension": ".py",
   "mimetype": "text/x-python",
   "name": "python",
   "nbconvert_exporter": "python",
   "pygments_lexer": "ipython3",
   "version": "3.10.4"
  }
 },
 "nbformat": 4,
 "nbformat_minor": 4
}

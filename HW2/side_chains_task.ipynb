{
  "cells": [
    {
      "cell_type": "code",
      "source": [
        "!pip install biopython"
      ],
      "metadata": {
        "colab": {
          "base_uri": "https://localhost:8080/"
        },
        "id": "PjHmpZQNpvlA",
        "outputId": "f300bc5d-cc35-4202-d9c9-bd22f50b3195"
      },
      "execution_count": 8,
      "outputs": [
        {
          "output_type": "stream",
          "name": "stdout",
          "text": [
            "Collecting biopython\n",
            "  Downloading biopython-1.81-cp310-cp310-manylinux_2_17_x86_64.manylinux2014_x86_64.whl (3.1 MB)\n",
            "\u001b[2K     \u001b[90m━━━━━━━━━━━━━━━━━━━━━━━━━━━━━━━━━━━━━━━━\u001b[0m \u001b[32m3.1/3.1 MB\u001b[0m \u001b[31m23.5 MB/s\u001b[0m eta \u001b[36m0:00:00\u001b[0m\n",
            "\u001b[?25hRequirement already satisfied: numpy in /usr/local/lib/python3.10/dist-packages (from biopython) (1.23.5)\n",
            "Installing collected packages: biopython\n",
            "Successfully installed biopython-1.81\n"
          ]
        }
      ]
    },
    {
      "cell_type": "code",
      "source": [
        "import Bio.PDB as pdb"
      ],
      "metadata": {
        "id": "uGcCNjTnpxrP"
      },
      "execution_count": 9,
      "outputs": []
    },
    {
      "cell_type": "markdown",
      "metadata": {
        "id": "U5n-jS5Ck9eA"
      },
      "source": [
        "# Предсказание ротамеров угла $\\chi_1$ в зависимости от окружения"
      ]
    },
    {
      "cell_type": "code",
      "execution_count": 1,
      "metadata": {
        "id": "gULcG0tXk9eD"
      },
      "outputs": [],
      "source": [
        "import json\n",
        "import pandas as pd\n",
        "import numpy as np"
      ]
    },
    {
      "cell_type": "markdown",
      "metadata": {
        "id": "28BPIwK4k9eE"
      },
      "source": [
        "## Запустите следующую клетку. Будет случайно выбрана аминокислота, для которой вы будете проводить исследование"
      ]
    },
    {
      "cell_type": "code",
      "execution_count": 2,
      "metadata": {
        "colab": {
          "base_uri": "https://localhost:8080/"
        },
        "id": "17tKEueJk9eF",
        "outputId": "60c75f91-4032-43ce-cf49-0dad55c4a027"
      },
      "outputs": [
        {
          "output_type": "stream",
          "name": "stdout",
          "text": [
            "Моя аминокислота - TYR\n"
          ]
        }
      ],
      "source": [
        "amacid_names = ['ARG', 'ASN', 'ASP', 'CYS', 'GLN', 'GLU', 'HIS', 'ILE', 'LEU',\n",
        "                'LYS', 'MET', 'PHE', 'PRO', 'SER', 'THR', 'TRP', 'TYR', 'VAL']\n",
        "\n",
        "print(f\"Моя аминокислота - {np.random.choice(amacid_names)}\")"
      ]
    },
    {
      "cell_type": "markdown",
      "metadata": {
        "id": "S1Pxgim-k9eG"
      },
      "source": [
        "## Загрузите <a href=\"https://yadi.sk/d/FeLl5KYfjbhHgA?w=1\">отсюда</a> соответствующий файл. Далее мы будем работать с ним."
      ]
    },
    {
      "cell_type": "markdown",
      "metadata": {
        "id": "PTJPoFQmk9eH"
      },
      "source": [
        "# Часть 1. Анализ значений угла $\\chi_1$"
      ]
    },
    {
      "cell_type": "markdown",
      "metadata": {
        "id": "2Y7amTLwk9eH"
      },
      "source": [
        "## Задание 1.1. Откроем загруженный файл. Посмотрим на колонки:"
      ]
    },
    {
      "cell_type": "code",
      "source": [
        "dpath = \"TYR_data.csv\""
      ],
      "metadata": {
        "id": "Q0lv5wLumwA6"
      },
      "execution_count": 3,
      "outputs": []
    },
    {
      "cell_type": "code",
      "execution_count": null,
      "metadata": {
        "id": "nap2C_5Vk9eH"
      },
      "outputs": [],
      "source": [
        "dpath = \"/Users/andreyignatov/Downloads/SER_data.csv\""
      ]
    },
    {
      "cell_type": "code",
      "execution_count": 4,
      "metadata": {
        "id": "XFHhFfvmk9eI"
      },
      "outputs": [],
      "source": [
        "df = pd.read_csv(dpath)"
      ]
    },
    {
      "cell_type": "code",
      "execution_count": 5,
      "metadata": {
        "colab": {
          "base_uri": "https://localhost:8080/",
          "height": 270
        },
        "id": "Flgu4N4Fk9eI",
        "outputId": "b0f2d290-df8b-4d08-e565-5d156f785722"
      },
      "outputs": [
        {
          "output_type": "execute_result",
          "data": {
            "text/plain": [
              "   Unnamed: 0 pbd_indx         phi        psi         tau       alpha  \\\n",
              "0           0     2BO5 -148.001357 -67.992231  117.157701 -110.703325   \n",
              "1           1     2BO5  -55.714933 -49.908315   90.977755   37.753339   \n",
              "2           2     2BO5  -78.342760 -18.608555   87.632632   83.964880   \n",
              "3           3     2BO5  -85.870711 -30.408628   95.016856   57.634714   \n",
              "4           4     2BW2 -114.553991 -32.869655   94.356042   72.594777   \n",
              "\n",
              "   ind_from_start  ind_from_end sec_structure  is_tail  ...     gamma14  \\\n",
              "0            11.0         108.0             -      0.0  ...  114.580795   \n",
              "1            17.0         102.0             H      0.0  ...   69.076968   \n",
              "2            22.0          97.0             H      0.0  ...  118.832041   \n",
              "3            58.0          61.0             T      0.0  ...   46.561656   \n",
              "4             5.0         134.0             E      0.0  ...   58.612176   \n",
              "\n",
              "      alpha15      beta15    gamma15     alpha16     beta16     gamma16  \\\n",
              "0   36.661160   67.461259  54.652780   14.056945  43.857109  100.998151   \n",
              "1  107.687638  168.415868  85.773413   16.502680  92.882349   76.732688   \n",
              "2   31.302429  121.968191  72.152814  111.938707  42.869942  115.972377   \n",
              "3   33.672983   92.764160  97.069248   37.070288  24.167924   96.798978   \n",
              "4   36.047283   14.467107  83.900206   21.524376  60.654675  109.154373   \n",
              "\n",
              "     alpha17      beta17    gamma17  \n",
              "0  19.703593   63.315198  73.225830  \n",
              "1  26.697398   58.605741  80.229164  \n",
              "2  89.464734  120.572756  88.181731  \n",
              "3  39.278673   71.786531  51.187381  \n",
              "4  22.350609   61.600486  70.386124  \n",
              "\n",
              "[5 rows x 301 columns]"
            ],
            "text/html": [
              "\n",
              "  <div id=\"df-21c99d48-5c8d-4f6d-88ff-c98db5ad89a1\" class=\"colab-df-container\">\n",
              "    <div>\n",
              "<style scoped>\n",
              "    .dataframe tbody tr th:only-of-type {\n",
              "        vertical-align: middle;\n",
              "    }\n",
              "\n",
              "    .dataframe tbody tr th {\n",
              "        vertical-align: top;\n",
              "    }\n",
              "\n",
              "    .dataframe thead th {\n",
              "        text-align: right;\n",
              "    }\n",
              "</style>\n",
              "<table border=\"1\" class=\"dataframe\">\n",
              "  <thead>\n",
              "    <tr style=\"text-align: right;\">\n",
              "      <th></th>\n",
              "      <th>Unnamed: 0</th>\n",
              "      <th>pbd_indx</th>\n",
              "      <th>phi</th>\n",
              "      <th>psi</th>\n",
              "      <th>tau</th>\n",
              "      <th>alpha</th>\n",
              "      <th>ind_from_start</th>\n",
              "      <th>ind_from_end</th>\n",
              "      <th>sec_structure</th>\n",
              "      <th>is_tail</th>\n",
              "      <th>...</th>\n",
              "      <th>gamma14</th>\n",
              "      <th>alpha15</th>\n",
              "      <th>beta15</th>\n",
              "      <th>gamma15</th>\n",
              "      <th>alpha16</th>\n",
              "      <th>beta16</th>\n",
              "      <th>gamma16</th>\n",
              "      <th>alpha17</th>\n",
              "      <th>beta17</th>\n",
              "      <th>gamma17</th>\n",
              "    </tr>\n",
              "  </thead>\n",
              "  <tbody>\n",
              "    <tr>\n",
              "      <th>0</th>\n",
              "      <td>0</td>\n",
              "      <td>2BO5</td>\n",
              "      <td>-148.001357</td>\n",
              "      <td>-67.992231</td>\n",
              "      <td>117.157701</td>\n",
              "      <td>-110.703325</td>\n",
              "      <td>11.0</td>\n",
              "      <td>108.0</td>\n",
              "      <td>-</td>\n",
              "      <td>0.0</td>\n",
              "      <td>...</td>\n",
              "      <td>114.580795</td>\n",
              "      <td>36.661160</td>\n",
              "      <td>67.461259</td>\n",
              "      <td>54.652780</td>\n",
              "      <td>14.056945</td>\n",
              "      <td>43.857109</td>\n",
              "      <td>100.998151</td>\n",
              "      <td>19.703593</td>\n",
              "      <td>63.315198</td>\n",
              "      <td>73.225830</td>\n",
              "    </tr>\n",
              "    <tr>\n",
              "      <th>1</th>\n",
              "      <td>1</td>\n",
              "      <td>2BO5</td>\n",
              "      <td>-55.714933</td>\n",
              "      <td>-49.908315</td>\n",
              "      <td>90.977755</td>\n",
              "      <td>37.753339</td>\n",
              "      <td>17.0</td>\n",
              "      <td>102.0</td>\n",
              "      <td>H</td>\n",
              "      <td>0.0</td>\n",
              "      <td>...</td>\n",
              "      <td>69.076968</td>\n",
              "      <td>107.687638</td>\n",
              "      <td>168.415868</td>\n",
              "      <td>85.773413</td>\n",
              "      <td>16.502680</td>\n",
              "      <td>92.882349</td>\n",
              "      <td>76.732688</td>\n",
              "      <td>26.697398</td>\n",
              "      <td>58.605741</td>\n",
              "      <td>80.229164</td>\n",
              "    </tr>\n",
              "    <tr>\n",
              "      <th>2</th>\n",
              "      <td>2</td>\n",
              "      <td>2BO5</td>\n",
              "      <td>-78.342760</td>\n",
              "      <td>-18.608555</td>\n",
              "      <td>87.632632</td>\n",
              "      <td>83.964880</td>\n",
              "      <td>22.0</td>\n",
              "      <td>97.0</td>\n",
              "      <td>H</td>\n",
              "      <td>0.0</td>\n",
              "      <td>...</td>\n",
              "      <td>118.832041</td>\n",
              "      <td>31.302429</td>\n",
              "      <td>121.968191</td>\n",
              "      <td>72.152814</td>\n",
              "      <td>111.938707</td>\n",
              "      <td>42.869942</td>\n",
              "      <td>115.972377</td>\n",
              "      <td>89.464734</td>\n",
              "      <td>120.572756</td>\n",
              "      <td>88.181731</td>\n",
              "    </tr>\n",
              "    <tr>\n",
              "      <th>3</th>\n",
              "      <td>3</td>\n",
              "      <td>2BO5</td>\n",
              "      <td>-85.870711</td>\n",
              "      <td>-30.408628</td>\n",
              "      <td>95.016856</td>\n",
              "      <td>57.634714</td>\n",
              "      <td>58.0</td>\n",
              "      <td>61.0</td>\n",
              "      <td>T</td>\n",
              "      <td>0.0</td>\n",
              "      <td>...</td>\n",
              "      <td>46.561656</td>\n",
              "      <td>33.672983</td>\n",
              "      <td>92.764160</td>\n",
              "      <td>97.069248</td>\n",
              "      <td>37.070288</td>\n",
              "      <td>24.167924</td>\n",
              "      <td>96.798978</td>\n",
              "      <td>39.278673</td>\n",
              "      <td>71.786531</td>\n",
              "      <td>51.187381</td>\n",
              "    </tr>\n",
              "    <tr>\n",
              "      <th>4</th>\n",
              "      <td>4</td>\n",
              "      <td>2BW2</td>\n",
              "      <td>-114.553991</td>\n",
              "      <td>-32.869655</td>\n",
              "      <td>94.356042</td>\n",
              "      <td>72.594777</td>\n",
              "      <td>5.0</td>\n",
              "      <td>134.0</td>\n",
              "      <td>E</td>\n",
              "      <td>0.0</td>\n",
              "      <td>...</td>\n",
              "      <td>58.612176</td>\n",
              "      <td>36.047283</td>\n",
              "      <td>14.467107</td>\n",
              "      <td>83.900206</td>\n",
              "      <td>21.524376</td>\n",
              "      <td>60.654675</td>\n",
              "      <td>109.154373</td>\n",
              "      <td>22.350609</td>\n",
              "      <td>61.600486</td>\n",
              "      <td>70.386124</td>\n",
              "    </tr>\n",
              "  </tbody>\n",
              "</table>\n",
              "<p>5 rows × 301 columns</p>\n",
              "</div>\n",
              "    <div class=\"colab-df-buttons\">\n",
              "\n",
              "  <div class=\"colab-df-container\">\n",
              "    <button class=\"colab-df-convert\" onclick=\"convertToInteractive('df-21c99d48-5c8d-4f6d-88ff-c98db5ad89a1')\"\n",
              "            title=\"Convert this dataframe to an interactive table.\"\n",
              "            style=\"display:none;\">\n",
              "\n",
              "  <svg xmlns=\"http://www.w3.org/2000/svg\" height=\"24px\" viewBox=\"0 -960 960 960\">\n",
              "    <path d=\"M120-120v-720h720v720H120Zm60-500h600v-160H180v160Zm220 220h160v-160H400v160Zm0 220h160v-160H400v160ZM180-400h160v-160H180v160Zm440 0h160v-160H620v160ZM180-180h160v-160H180v160Zm440 0h160v-160H620v160Z\"/>\n",
              "  </svg>\n",
              "    </button>\n",
              "\n",
              "  <style>\n",
              "    .colab-df-container {\n",
              "      display:flex;\n",
              "      gap: 12px;\n",
              "    }\n",
              "\n",
              "    .colab-df-convert {\n",
              "      background-color: #E8F0FE;\n",
              "      border: none;\n",
              "      border-radius: 50%;\n",
              "      cursor: pointer;\n",
              "      display: none;\n",
              "      fill: #1967D2;\n",
              "      height: 32px;\n",
              "      padding: 0 0 0 0;\n",
              "      width: 32px;\n",
              "    }\n",
              "\n",
              "    .colab-df-convert:hover {\n",
              "      background-color: #E2EBFA;\n",
              "      box-shadow: 0px 1px 2px rgba(60, 64, 67, 0.3), 0px 1px 3px 1px rgba(60, 64, 67, 0.15);\n",
              "      fill: #174EA6;\n",
              "    }\n",
              "\n",
              "    .colab-df-buttons div {\n",
              "      margin-bottom: 4px;\n",
              "    }\n",
              "\n",
              "    [theme=dark] .colab-df-convert {\n",
              "      background-color: #3B4455;\n",
              "      fill: #D2E3FC;\n",
              "    }\n",
              "\n",
              "    [theme=dark] .colab-df-convert:hover {\n",
              "      background-color: #434B5C;\n",
              "      box-shadow: 0px 1px 3px 1px rgba(0, 0, 0, 0.15);\n",
              "      filter: drop-shadow(0px 1px 2px rgba(0, 0, 0, 0.3));\n",
              "      fill: #FFFFFF;\n",
              "    }\n",
              "  </style>\n",
              "\n",
              "    <script>\n",
              "      const buttonEl =\n",
              "        document.querySelector('#df-21c99d48-5c8d-4f6d-88ff-c98db5ad89a1 button.colab-df-convert');\n",
              "      buttonEl.style.display =\n",
              "        google.colab.kernel.accessAllowed ? 'block' : 'none';\n",
              "\n",
              "      async function convertToInteractive(key) {\n",
              "        const element = document.querySelector('#df-21c99d48-5c8d-4f6d-88ff-c98db5ad89a1');\n",
              "        const dataTable =\n",
              "          await google.colab.kernel.invokeFunction('convertToInteractive',\n",
              "                                                    [key], {});\n",
              "        if (!dataTable) return;\n",
              "\n",
              "        const docLinkHtml = 'Like what you see? Visit the ' +\n",
              "          '<a target=\"_blank\" href=https://colab.research.google.com/notebooks/data_table.ipynb>data table notebook</a>'\n",
              "          + ' to learn more about interactive tables.';\n",
              "        element.innerHTML = '';\n",
              "        dataTable['output_type'] = 'display_data';\n",
              "        await google.colab.output.renderOutput(dataTable, element);\n",
              "        const docLink = document.createElement('div');\n",
              "        docLink.innerHTML = docLinkHtml;\n",
              "        element.appendChild(docLink);\n",
              "      }\n",
              "    </script>\n",
              "  </div>\n",
              "\n",
              "\n",
              "<div id=\"df-f2b63d6b-3ffb-42e2-9600-ffc4398f2661\">\n",
              "  <button class=\"colab-df-quickchart\" onclick=\"quickchart('df-f2b63d6b-3ffb-42e2-9600-ffc4398f2661')\"\n",
              "            title=\"Suggest charts.\"\n",
              "            style=\"display:none;\">\n",
              "\n",
              "<svg xmlns=\"http://www.w3.org/2000/svg\" height=\"24px\"viewBox=\"0 0 24 24\"\n",
              "     width=\"24px\">\n",
              "    <g>\n",
              "        <path d=\"M19 3H5c-1.1 0-2 .9-2 2v14c0 1.1.9 2 2 2h14c1.1 0 2-.9 2-2V5c0-1.1-.9-2-2-2zM9 17H7v-7h2v7zm4 0h-2V7h2v10zm4 0h-2v-4h2v4z\"/>\n",
              "    </g>\n",
              "</svg>\n",
              "  </button>\n",
              "\n",
              "<style>\n",
              "  .colab-df-quickchart {\n",
              "      --bg-color: #E8F0FE;\n",
              "      --fill-color: #1967D2;\n",
              "      --hover-bg-color: #E2EBFA;\n",
              "      --hover-fill-color: #174EA6;\n",
              "      --disabled-fill-color: #AAA;\n",
              "      --disabled-bg-color: #DDD;\n",
              "  }\n",
              "\n",
              "  [theme=dark] .colab-df-quickchart {\n",
              "      --bg-color: #3B4455;\n",
              "      --fill-color: #D2E3FC;\n",
              "      --hover-bg-color: #434B5C;\n",
              "      --hover-fill-color: #FFFFFF;\n",
              "      --disabled-bg-color: #3B4455;\n",
              "      --disabled-fill-color: #666;\n",
              "  }\n",
              "\n",
              "  .colab-df-quickchart {\n",
              "    background-color: var(--bg-color);\n",
              "    border: none;\n",
              "    border-radius: 50%;\n",
              "    cursor: pointer;\n",
              "    display: none;\n",
              "    fill: var(--fill-color);\n",
              "    height: 32px;\n",
              "    padding: 0;\n",
              "    width: 32px;\n",
              "  }\n",
              "\n",
              "  .colab-df-quickchart:hover {\n",
              "    background-color: var(--hover-bg-color);\n",
              "    box-shadow: 0 1px 2px rgba(60, 64, 67, 0.3), 0 1px 3px 1px rgba(60, 64, 67, 0.15);\n",
              "    fill: var(--button-hover-fill-color);\n",
              "  }\n",
              "\n",
              "  .colab-df-quickchart-complete:disabled,\n",
              "  .colab-df-quickchart-complete:disabled:hover {\n",
              "    background-color: var(--disabled-bg-color);\n",
              "    fill: var(--disabled-fill-color);\n",
              "    box-shadow: none;\n",
              "  }\n",
              "\n",
              "  .colab-df-spinner {\n",
              "    border: 2px solid var(--fill-color);\n",
              "    border-color: transparent;\n",
              "    border-bottom-color: var(--fill-color);\n",
              "    animation:\n",
              "      spin 1s steps(1) infinite;\n",
              "  }\n",
              "\n",
              "  @keyframes spin {\n",
              "    0% {\n",
              "      border-color: transparent;\n",
              "      border-bottom-color: var(--fill-color);\n",
              "      border-left-color: var(--fill-color);\n",
              "    }\n",
              "    20% {\n",
              "      border-color: transparent;\n",
              "      border-left-color: var(--fill-color);\n",
              "      border-top-color: var(--fill-color);\n",
              "    }\n",
              "    30% {\n",
              "      border-color: transparent;\n",
              "      border-left-color: var(--fill-color);\n",
              "      border-top-color: var(--fill-color);\n",
              "      border-right-color: var(--fill-color);\n",
              "    }\n",
              "    40% {\n",
              "      border-color: transparent;\n",
              "      border-right-color: var(--fill-color);\n",
              "      border-top-color: var(--fill-color);\n",
              "    }\n",
              "    60% {\n",
              "      border-color: transparent;\n",
              "      border-right-color: var(--fill-color);\n",
              "    }\n",
              "    80% {\n",
              "      border-color: transparent;\n",
              "      border-right-color: var(--fill-color);\n",
              "      border-bottom-color: var(--fill-color);\n",
              "    }\n",
              "    90% {\n",
              "      border-color: transparent;\n",
              "      border-bottom-color: var(--fill-color);\n",
              "    }\n",
              "  }\n",
              "</style>\n",
              "\n",
              "  <script>\n",
              "    async function quickchart(key) {\n",
              "      const quickchartButtonEl =\n",
              "        document.querySelector('#' + key + ' button');\n",
              "      quickchartButtonEl.disabled = true;  // To prevent multiple clicks.\n",
              "      quickchartButtonEl.classList.add('colab-df-spinner');\n",
              "      try {\n",
              "        const charts = await google.colab.kernel.invokeFunction(\n",
              "            'suggestCharts', [key], {});\n",
              "      } catch (error) {\n",
              "        console.error('Error during call to suggestCharts:', error);\n",
              "      }\n",
              "      quickchartButtonEl.classList.remove('colab-df-spinner');\n",
              "      quickchartButtonEl.classList.add('colab-df-quickchart-complete');\n",
              "    }\n",
              "    (() => {\n",
              "      let quickchartButtonEl =\n",
              "        document.querySelector('#df-f2b63d6b-3ffb-42e2-9600-ffc4398f2661 button');\n",
              "      quickchartButtonEl.style.display =\n",
              "        google.colab.kernel.accessAllowed ? 'block' : 'none';\n",
              "    })();\n",
              "  </script>\n",
              "</div>\n",
              "    </div>\n",
              "  </div>\n"
            ]
          },
          "metadata": {},
          "execution_count": 5
        }
      ],
      "source": [
        "df.head()"
      ]
    },
    {
      "cell_type": "code",
      "source": [
        "df[\"pbd_indx\"].nunique(), df.shape"
      ],
      "metadata": {
        "colab": {
          "base_uri": "https://localhost:8080/"
        },
        "id": "z6YdRvj4piLU",
        "outputId": "45e25dec-e03d-4f2b-d351-7f84c2fb2d17"
      },
      "execution_count": 12,
      "outputs": [
        {
          "output_type": "execute_result",
          "data": {
            "text/plain": [
              "(1784, (11310, 301))"
            ]
          },
          "metadata": {},
          "execution_count": 12
        }
      ]
    },
    {
      "cell_type": "code",
      "source": [
        "list(df.columns)"
      ],
      "metadata": {
        "id": "0AOU1IFzpMoP"
      },
      "execution_count": null,
      "outputs": []
    },
    {
      "cell_type": "markdown",
      "metadata": {
        "id": "h2yixYzCk9eI"
      },
      "source": [
        "Эта таблица содержит информацию о сэмплах одной аминокислоты. Для каждого сэмпла известны:\n",
        "- Значения всех двугранных углов $\\chi$;\n",
        "- Значения $\\phi, \\psi, \\alpha$ (двугранный угол, построенный по 4 последовательным атомам $C_\\alpha$);\n",
        "- Данные о 17 ближайших пространственных соседях:\n",
        "    - $\\phi, \\psi$;\n",
        "    - Названия аминокислот;\n",
        "    - Расстояние до целевой аминокислоты по $C_\\alpha$;\n",
        "    - Химические / физикохимические характеристики соседа: группы и точные значения некоторых характеристик;\n",
        "    - Дополнительные геометрические характеристики (относительно целевой аминокислоты)."
      ]
    },
    {
      "cell_type": "markdown",
      "metadata": {
        "id": "FdHcju2Gk9eQ"
      },
      "source": [
        "## Задание 1.2. Постройте гистограмму значений $\\chi_1$ из этой таблицы. Какие ротамеры выделяются на этой гистограмме?"
      ]
    },
    {
      "cell_type": "code",
      "execution_count": 14,
      "metadata": {
        "id": "B-CLYs5wk9eQ"
      },
      "outputs": [],
      "source": [
        "import matplotlib.pyplot as plt"
      ]
    },
    {
      "cell_type": "code",
      "execution_count": 15,
      "metadata": {
        "id": "guP2Oz-fk9eQ"
      },
      "outputs": [],
      "source": [
        "df = df[~np.isnan(df[\"chi_1\"])]"
      ]
    },
    {
      "cell_type": "code",
      "execution_count": 16,
      "metadata": {
        "colab": {
          "base_uri": "https://localhost:8080/",
          "height": 385
        },
        "id": "W-_5fNDSk9eR",
        "outputId": "5eb2826b-c0dd-4eee-885b-863e2cded5c6"
      },
      "outputs": [
        {
          "output_type": "display_data",
          "data": {
            "text/plain": [
              "<Figure size 1500x500 with 1 Axes>"
            ],
            "image/png": "[encoded data removed]"
          },
          "metadata": {}
        }
      ],
      "source": [
        "plt.figure(figsize=(15,5))\n",
        "\n",
        "plt.hist(df[\"chi_1\"], bins=100)\n",
        "\n",
        "plt.show()"
      ]
    },
    {
      "cell_type": "code",
      "source": [
        "plt.figure(figsize=(15,5))\n",
        "\n",
        "hs, xs, *_ = plt.hist(df[\"chi_1\"], bins=100)\n",
        "\n",
        "plt.show()"
      ],
      "metadata": {
        "colab": {
          "base_uri": "https://localhost:8080/",
          "height": 385
        },
        "id": "2gfVqpn3qn5c",
        "outputId": "4ac323f7-962d-4c5f-a0fc-a9257d4f401f"
      },
      "execution_count": 18,
      "outputs": [
        {
          "output_type": "display_data",
          "data": {
            "text/plain": [
              "<Figure size 1500x500 with 1 Axes>"
            ],
            "image/png": "[encoded data removed]"
          },
          "metadata": {}
        }
      ]
    },
    {
      "cell_type": "markdown",
      "source": [
        "calculate value"
      ],
      "metadata": {
        "id": "rCyD_uEDrGIU"
      }
    },
    {
      "cell_type": "code",
      "source": [
        "len(hs), len(xs)"
      ],
      "metadata": {
        "colab": {
          "base_uri": "https://localhost:8080/"
        },
        "id": "ydMimUptqwaj",
        "outputId": "4e3ab9a8-e6fd-4f87-ed9d-6192c797eac4"
      },
      "execution_count": 19,
      "outputs": [
        {
          "output_type": "execute_result",
          "data": {
            "text/plain": [
              "(100, 101)"
            ]
          },
          "metadata": {},
          "execution_count": 19
        }
      ]
    },
    {
      "cell_type": "code",
      "source": [
        "xs = (xs[1:] + xs[:-1]) / 2"
      ],
      "metadata": {
        "id": "5KU75SfPq1Ev"
      },
      "execution_count": 20,
      "outputs": []
    },
    {
      "cell_type": "code",
      "source": [
        "rotamer_inds = [i for i in range(3, len(hs))\n",
        "                if np.all(hs[i - 3:i]<hs[i]) and np.all(hs[i+1:i +4]<hs[i])]\n",
        "print(rotamer_inds)"
      ],
      "metadata": {
        "colab": {
          "base_uri": "https://localhost:8080/"
        },
        "id": "f8rlelWQrEGZ",
        "outputId": "4d15e403-ee89-4ba1-fb9c-7761f2b41985"
      },
      "execution_count": 24,
      "outputs": [
        {
          "output_type": "stream",
          "name": "stdout",
          "text": [
            "[32, 67, 82, 86, 99]\n"
          ]
        }
      ]
    },
    {
      "cell_type": "code",
      "source": [
        "xs[rotamer_inds]"
      ],
      "metadata": {
        "colab": {
          "base_uri": "https://localhost:8080/"
        },
        "id": "MZ3Pm7-hsPVY",
        "outputId": "378bc63d-781b-4ed2-8caf-20a463d0868a"
      },
      "execution_count": 25,
      "outputs": [
        {
          "output_type": "execute_result",
          "data": {
            "text/plain": [
              "array([-62.99320421,  62.99981593, 116.99682457, 131.39602687,\n",
              "       178.19343435])"
            ]
          },
          "metadata": {},
          "execution_count": 25
        }
      ]
    },
    {
      "cell_type": "markdown",
      "metadata": {
        "id": "gMUS3SH1k9eR"
      },
      "source": [
        "Занесите обнаруженные ротамеры в список rotamers:"
      ]
    },
    {
      "cell_type": "code",
      "execution_count": 26,
      "metadata": {
        "id": "fkK3Evo9k9eR"
      },
      "outputs": [],
      "source": [
        "rotamers = [-60, 60, 180]"
      ]
    },
    {
      "cell_type": "markdown",
      "metadata": {
        "id": "As4z9utnk9eT"
      },
      "source": [
        "## Задание 1.3. Давайте разберемся, как можно дискретизировать значения (разделить их на классы). Реализуйте функцию get_class(value, rotamers), которая возвращает индекс ротамера, к которому относится значение value."
      ]
    },
    {
      "cell_type": "markdown",
      "metadata": {
        "id": "MUuohVPfk9eT"
      },
      "source": [
        "**Комментарий**: стоит вычислять расстояние от value до каждого значения из rotamers. Но не забудьте, что с точки зрения окружности $-\\pi$ и $\\pi$ - одно и то же!"
      ]
    },
    {
      "cell_type": "code",
      "execution_count": 30,
      "metadata": {
        "id": "fWEZzci6k9eT"
      },
      "outputs": [],
      "source": [
        "def get_class(value, rotamers):\n",
        "    diffs = np.abs(np.array(rotamers) - value)\n",
        "    diffs = np.minimum(diffs, 360 - diffs)\n",
        "    return np.argmin(diffs)"
      ]
    },
    {
      "cell_type": "code",
      "execution_count": 31,
      "metadata": {
        "colab": {
          "base_uri": "https://localhost:8080/",
          "height": 385
        },
        "id": "ErrHf9Y2k9eT",
        "outputId": "a3ecb757-d002-49d9-caeb-5a59c482ee10"
      },
      "outputs": [
        {
          "output_type": "display_data",
          "data": {
            "text/plain": [
              "<Figure size 1500x500 with 1 Axes>"
            ],
            "image/png": "[encoded data removed]"
          },
          "metadata": {}
        }
      ],
      "source": [
        "plt.figure(figsize=(15,5))\n",
        "classes = [get_class(val, rotamers) for val in df[\"chi_1\"]]\n",
        "\n",
        "for i in np.unique(classes):\n",
        "    plt.hist(df[\"chi_1\"].values[classes == i], bins=200, range=(-180, 180))\n",
        "\n",
        "plt.xticks(np.arange(-180, 180, 20))\n",
        "plt.show()"
      ]
    },
    {
      "cell_type": "markdown",
      "metadata": {
        "id": "803po6wok9eU"
      },
      "source": [
        "## Задание 1.4. Теперь мы умеем делить значения $\\chi_1$ на классы, т.е. можем понять, к какому ротамеру относится то или иное значение.\n",
        "Реализуем первую часть подхода Dunbrack. Шаги:\n",
        "- Разделить карту Рамачандрана на блоки $20 x 20$. Для каждого блока нужно найти те сэмплы из выборки, которые входят в него.\n",
        "- Для всех найденных сэмплов нужно получить индексы классов; после этого выбрать класс, встречающийся чаще всего, и сохранить его в соответствующую ячейку матрицы **most_common_rotamers**.\n",
        "    - Если получилось меньше 10 значений для некоторого блока, нужно получить наиболее частый класс для всей выборки."
      ]
    },
    {
      "cell_type": "code",
      "execution_count": 32,
      "metadata": {
        "id": "7nlegYlPk9eV"
      },
      "outputs": [],
      "source": [
        "all_rots = [get_class(val, rotamers) for val in df[\"chi_1\"]]\n",
        "all_un_rots, all_un_cnts = np.unique(all_rots, return_counts=True)\n",
        "\n",
        "most_common = all_un_rots[np.argmax(all_un_cnts)]"
      ]
    },
    {
      "cell_type": "code",
      "execution_count": 33,
      "metadata": {
        "colab": {
          "base_uri": "https://localhost:8080/"
        },
        "id": "0bLB7KJbk9eV",
        "outputId": "5b8f96bb-0c54-4150-e9a9-e4d25378a120"
      },
      "outputs": [
        {
          "output_type": "execute_result",
          "data": {
            "text/plain": [
              "0"
            ]
          },
          "metadata": {},
          "execution_count": 33
        }
      ],
      "source": [
        "most_common #must be -60"
      ]
    },
    {
      "cell_type": "code",
      "execution_count": null,
      "metadata": {
        "id": "RPRiQKPFk9eV"
      },
      "outputs": [],
      "source": [
        "most_common_rotamers = np.full((18, 18), np.nan)\n",
        "for phi_ind in range(18):\n",
        "    phi_st = -180 + 20 * phi_ind\n",
        "    phi_end = -180 + 20 * (phi_ind + 1)\n",
        "    for psi_ind in range(18):\n",
        "        psi_st = -180 + 20 * psi_ind\n",
        "        psi_end = -180 + 20 * (psi_ind + 1)\n",
        "\n",
        "        # your code here"
      ]
    },
    {
      "cell_type": "markdown",
      "metadata": {
        "id": "ZTE53sgNk9eV"
      },
      "source": [
        "Отобразите получившуюся матрицу с помощью plt.imshow:"
      ]
    },
    {
      "cell_type": "code",
      "execution_count": null,
      "metadata": {
        "id": "tpWb9htRk9eW"
      },
      "outputs": [],
      "source": [
        "plt.imshow(most_common_rotamers)\n",
        "\n",
        "plt.colorbar()\n",
        "plt.show()"
      ]
    },
    {
      "cell_type": "markdown",
      "metadata": {
        "id": "-rPcrqgfk9eW"
      },
      "source": [
        "Какие выводы можно сделать на основании изображения выше? Можно ли сказать, что какой-то ротамер характерен для определенной вторичной структуры?"
      ]
    },
    {
      "cell_type": "markdown",
      "metadata": {
        "id": "Wzf_u_2kk9eW"
      },
      "source": [
        "# $\\rightarrow$ Ваши идеи 🙂"
      ]
    },
    {
      "cell_type": "markdown",
      "metadata": {
        "id": "nIu34qa1k9eo"
      },
      "source": [
        "## Задание 1.5. А насколько вообще состоятелен подход к поиску пересечений, основанный на энергии van der Waals?"
      ]
    },
    {
      "cell_type": "markdown",
      "metadata": {
        "id": "OLdPkJX_k9eo"
      },
      "source": [
        "Давайте возьмем достаточно длинный белок $1Z87$, откроем его и изучим:"
      ]
    },
    {
      "cell_type": "code",
      "execution_count": null,
      "metadata": {
        "id": "I5nTxSATk9eo"
      },
      "outputs": [],
      "source": [
        "import Bio.PDB as pdb"
      ]
    },
    {
      "cell_type": "code",
      "execution_count": null,
      "metadata": {
        "id": "DlmR8QP6k9eo"
      },
      "outputs": [],
      "source": [
        "path = pdb.PDBList().retrieve_pdb_file(\"1z87\",\n",
        "                                       file_format=\"pdb\")\n",
        "struct = pdb.PDBParser().get_structure(\"s\", path)"
      ]
    },
    {
      "cell_type": "markdown",
      "metadata": {
        "id": "pInYXJzuk9ep"
      },
      "source": [
        "Получите 0-ую цепочку этого белка, найдите в ней индексы всех цистеинов (CYS):"
      ]
    },
    {
      "cell_type": "code",
      "execution_count": null,
      "metadata": {
        "id": "ACrEkHMSk9ep"
      },
      "outputs": [],
      "source": [
        "chain = struct[0].child_list[0]\n",
        "residues = chain.child_list\n",
        "cys_inds = # TODO"
      ]
    },
    {
      "cell_type": "markdown",
      "metadata": {
        "id": "nfzVdns8k9ep"
      },
      "source": [
        "Выберите первый найденный цистеин. Будем менять для него угол $\\chi_1$ и смотреть, как будет меняться энергия ван дер Ваальса при взаимодействии с другими атомами.\n",
        "\n",
        "$U_{LJ} = 4 \\cdot \\epsilon \\cdot [(\\frac{r_{min}}{r})^{12} - 2 \\cdot (\\frac{r_{min}}{r})^6]$"
      ]
    },
    {
      "cell_type": "code",
      "execution_count": null,
      "metadata": {
        "id": "nlLVYPFCk9ep"
      },
      "outputs": [],
      "source": [
        "lj_coeffs = pd.read_csv(\"lennard-jones_12-6.csv\", delimiter=\"\\t\")\n",
        "lj_coeffs.head()"
      ]
    },
    {
      "cell_type": "code",
      "execution_count": null,
      "metadata": {
        "id": "IPRXWpHzk9ep"
      },
      "outputs": [],
      "source": [
        "def van_der_Waals(d, d_m, eps):\n",
        "    return  4 * eps * (((d_m / d) ** 12) - 2 * ((d_m / d) ** 6))"
      ]
    },
    {
      "cell_type": "markdown",
      "metadata": {
        "id": "FW1WMZQkk9eq"
      },
      "source": [
        "Изменяя двугранный угол в пределах $[-\\pi, \\pi)$:\n",
        "- Вычислите новые координаты атома SG у цистеина. Для этого можно воспользоваться функциями из файла geometry.py (из первого ДЗ).\n",
        "- После получения координат, их можно присвоить с помощью метода:\n",
        "\n",
        "    residue[\"CG\"].set_coord(new_cg1_coord)\n",
        "- После этого вычислите суммарную энергию ван дер Ваальса взаимодействия со всеми другими атомами белка."
      ]
    },
    {
      "cell_type": "code",
      "execution_count": null,
      "metadata": {
        "id": "AV3zthz8k9eq"
      },
      "outputs": [],
      "source": [
        "from geometry import *"
      ]
    },
    {
      "cell_type": "markdown",
      "metadata": {
        "id": "BlwtWN0fk9eq"
      },
      "source": [
        "Для удобства сделаем словарь из таблицы с коэффициентами потенциала типа Леннарда-Джонса:"
      ]
    },
    {
      "cell_type": "code",
      "execution_count": null,
      "metadata": {
        "id": "kwSWeI6sk9eq"
      },
      "outputs": [],
      "source": [
        "lj_coeffs = {row[0]: {\"d_min\": float(row[1].replace(\",\", \".\")),\n",
        "                      \"eps\": float(row[2].replace(\",\", \".\"))} for row in lj_coeffs.values}\n",
        "lj_coeffs"
      ]
    },
    {
      "cell_type": "code",
      "execution_count": null,
      "metadata": {
        "id": "mMi_fRJ_k9eq"
      },
      "outputs": [],
      "source": [
        "def calc_vdw_w_residue(ref_residue, residue):\n",
        "    ref_atoms = [at\n",
        "                 for at in ref_residue.child_list\n",
        "                 if at not in [\"C\", \"N\", \"CA\", \"CB\", \"O\"] and at.element[0] != \"H\"]\n",
        "    atoms = [at\n",
        "             for at in residue.child_list\n",
        "             if at.element[0] != \"H\"]\n",
        "\n",
        "    ds, d_ms, epses = [], [], []\n",
        "    for at1 in ref_atoms:\n",
        "        for at2 in atoms:\n",
        "            pair = \"{}-{}\".format(at1.element, at2.element)\n",
        "            ds += [at1 - at2]\n",
        "            d_ms += [lj_coeffs[pair][\"d_min\"]]\n",
        "            epses += [lj_coeffs[pair][\"eps\"]]\n",
        "\n",
        "    ds =    np.array(ds)\n",
        "    d_ms =  np.array(d_ms)\n",
        "    epses = np.array(epses)\n",
        "\n",
        "    return van_der_Waals(ds, d_ms, epses).sum()\n",
        ""
      ]
    },
    {
      "cell_type": "code",
      "execution_count": null,
      "metadata": {
        "id": "iRDAXcXLk9eq"
      },
      "outputs": [],
      "source": [
        "calc_vdw_w_residue(chain[2], chain[3])"
      ]
    },
    {
      "cell_type": "code",
      "execution_count": null,
      "metadata": {
        "id": "n07LCpR1k9eq"
      },
      "outputs": [],
      "source": [
        "chi1_vals = np.arange(-np.pi, np.pi, np.pi/10)\n",
        "\n",
        "cys_residue = residues[cys_inds[0]]\n",
        "\n",
        "chi1_true = pdb.calc_dihedral(cys_residue[\"N\"].get_vector(),\n",
        "                              cys_residue[\"CA\"].get_vector(),\n",
        "                              cys_residue[\"CB\"].get_vector(),\n",
        "                              cys_residue[\"SG\"].get_vector(),\n",
        "                             )\n",
        "planar = pdb.calc_angle(cys_residue[\"CA\"].get_vector(),\n",
        "                      cys_residue[\"CB\"].get_vector(),\n",
        "                      cys_residue[\"SG\"].get_vector())\n",
        "bond = cys_residue[\"SG\"] - cys_residue[\"CB\"]\n",
        "prev_atoms = np.array([cys_residue[\"N\"].coord,\n",
        "                       cys_residue[\"CA\"].coord,\n",
        "                       cys_residue[\"CB\"].coord,\n",
        "                      ])\n",
        "\n",
        "vdw_vals = []\n",
        "\n",
        "for chi1 in chi1_vals:\n",
        "    new_coord = place_next_dihedral_atom(prev_atoms, chi1, planar, bond)\n",
        "    cys_residue[\"SG\"].set_coord(new_coord)\n",
        "\n",
        "    # your code here"
      ]
    },
    {
      "cell_type": "markdown",
      "metadata": {
        "id": "MoJEwwAmk9er"
      },
      "source": [
        "Постройте график для получившихся значений энергии. Какой вывод можно сделать из него?"
      ]
    },
    {
      "cell_type": "code",
      "execution_count": null,
      "metadata": {
        "id": "jAAUaGh6k9er"
      },
      "outputs": [],
      "source": [
        "plt.figure(figsize=(15,5))\n",
        "plt.plot(chi1_vals, vdw_vals)\n",
        "\n",
        "plt.show()"
      ]
    },
    {
      "cell_type": "code",
      "execution_count": null,
      "metadata": {
        "id": "_LFcCKqgk9er"
      },
      "outputs": [],
      "source": [
        "# your ideas here"
      ]
    },
    {
      "cell_type": "markdown",
      "metadata": {
        "id": "5NEtyW-Nk9es"
      },
      "source": [
        "# Часть 2. Предсказание ротамеров $\\chi_1$"
      ]
    },
    {
      "cell_type": "markdown",
      "metadata": {
        "id": "F3Gn_h4Dk9et"
      },
      "source": [
        "В этой части Вам предстоит применить методы Машинного Обучения (деревья решений) к задаче предсказания ротамеров Вашей аминокислоты."
      ]
    },
    {
      "cell_type": "markdown",
      "metadata": {
        "id": "UHr2COKqk9et"
      },
      "source": [
        "## Задание 2.1. Вернемся к датасету из части 1. Добавьте колонку chi_class, которая получается преобразованием значений из колонки chi_1 к классам."
      ]
    },
    {
      "cell_type": "code",
      "execution_count": null,
      "metadata": {
        "id": "jOKrqDy0k9et"
      },
      "outputs": [],
      "source": [
        "# your code here"
      ]
    },
    {
      "cell_type": "markdown",
      "metadata": {
        "id": "eh5GGo5Qk9et"
      },
      "source": [
        "## Задание 2.2. Теперь давайте дискретизируем значения $\\phi, \\psi, \\alpha$. Каждому значению из $[-\\pi, \\pi]$ нужно поставить в соответствие номер блока длиной 20 градусов, в который он попадает."
      ]
    },
    {
      "cell_type": "markdown",
      "metadata": {
        "id": "U4FFpIhFk9et"
      },
      "source": [
        "**Комментарий**: обратите внимание, значения могут быть отрицательными. А номер блока нет 🤔"
      ]
    },
    {
      "cell_type": "code",
      "execution_count": null,
      "metadata": {
        "id": "viz3SuQVk9et"
      },
      "outputs": [],
      "source": [
        "# your code here"
      ]
    },
    {
      "cell_type": "markdown",
      "metadata": {
        "id": "ZXsPVqYTk9eu"
      },
      "source": [
        ""
      ]
    },
    {
      "cell_type": "markdown",
      "metadata": {
        "id": "4rxWWHyHk9eu"
      },
      "source": [
        ""
      ]
    },
    {
      "cell_type": "markdown",
      "metadata": {
        "id": "pcyiwm-Xk9eu"
      },
      "source": [
        ""
      ]
    },
    {
      "cell_type": "markdown",
      "metadata": {
        "id": "hn1HoD1Xk9eu"
      },
      "source": [
        ""
      ]
    },
    {
      "cell_type": "markdown",
      "metadata": {
        "id": "HKjUJPrCk9eu"
      },
      "source": [
        "## Задание 2.3. В датасете есть текстовые признаки! Так как они категориальные, их значения можно поменять на натуральные числа. Пронумеруйте все уникальные значения таких признаков и измените текстовые значения на соответствующие номера."
      ]
    },
    {
      "cell_type": "code",
      "execution_count": null,
      "metadata": {
        "id": "NonFm7Q0k9eu"
      },
      "outputs": [],
      "source": [
        "# your code here"
      ]
    },
    {
      "cell_type": "markdown",
      "metadata": {
        "id": "o96joNTpk9eu"
      },
      "source": [
        ""
      ]
    },
    {
      "cell_type": "markdown",
      "metadata": {
        "id": "1GT-qKmCk9eu"
      },
      "source": [
        ""
      ]
    },
    {
      "cell_type": "markdown",
      "metadata": {
        "id": "djmER8XQk9eu"
      },
      "source": [
        ""
      ]
    },
    {
      "cell_type": "markdown",
      "metadata": {
        "id": "Znqk3FC7k9eu"
      },
      "source": [
        ""
      ]
    },
    {
      "cell_type": "markdown",
      "metadata": {
        "id": "-nzbgo6tk9eu"
      },
      "source": [
        ""
      ]
    },
    {
      "cell_type": "markdown",
      "metadata": {
        "id": "NiYarb4gk9eu"
      },
      "source": [
        "## Задание 2.4. Обучим нашу модель!"
      ]
    },
    {
      "cell_type": "markdown",
      "metadata": {
        "id": "KaMcpoyDk9eu"
      },
      "source": [
        "Импортируйте библиотеку lightgbm. Если она не установлена, установить ее можно с помощью консольной команды pip:"
      ]
    },
    {
      "cell_type": "code",
      "execution_count": null,
      "metadata": {
        "id": "IX_eow-Kk9ev"
      },
      "outputs": [],
      "source": [
        "# Ваш pip может иметь другую версию / называться по-другому: например, pip3 для python3\n",
        "! pip3.8 install lightgbm\n",
        "import lightgbm as lgb"
      ]
    },
    {
      "cell_type": "markdown",
      "metadata": {
        "id": "dP7b2fAvk9ev"
      },
      "source": [
        "Разделите выборку на обучающую и тестовую в соотношении 0.7/0.3. В X должны быть все признаки, кроме Unnamed, pdb_id и всех столбцов со значениями углов $\\chi$. y - столбец дискретизированных значений $\\chi_1$."
      ]
    },
    {
      "cell_type": "code",
      "execution_count": null,
      "metadata": {
        "id": "yUBVTM9Ak9ev"
      },
      "outputs": [],
      "source": [
        "# your code here"
      ]
    },
    {
      "cell_type": "markdown",
      "metadata": {
        "id": "XNLlGO4rk9ev"
      },
      "source": [
        ""
      ]
    },
    {
      "cell_type": "markdown",
      "metadata": {
        "id": "K67zbJJdk9ev"
      },
      "source": [
        ""
      ]
    },
    {
      "cell_type": "markdown",
      "metadata": {
        "id": "zTZj6gS9k9ev"
      },
      "source": [
        ""
      ]
    },
    {
      "cell_type": "markdown",
      "metadata": {
        "id": "JTEr6GpGk9ev"
      },
      "source": [
        ""
      ]
    },
    {
      "cell_type": "markdown",
      "metadata": {
        "id": "9FFFUtWak9ev"
      },
      "source": [
        "Обучите модель, проверьте качество обучения на тестовой выборке (по метрике accuracy). Получилось ли хорошая модель?"
      ]
    },
    {
      "cell_type": "code",
      "execution_count": null,
      "metadata": {
        "id": "dOCfySlCk9ev"
      },
      "outputs": [],
      "source": [
        "clf = lgb.LGBMClassifier(num_leaves=88,\n",
        "                         min_child_samples=1358,\n",
        "                         max_depth=16,\n",
        "                         n_estimators=2170,\n",
        "                         reg_lambda=702.599,\n",
        "                         reg_alpha=28.532,\n",
        "                         learning_rate=0.26461,\n",
        "                         random_state=42\n",
        "                        )"
      ]
    },
    {
      "cell_type": "code",
      "execution_count": null,
      "metadata": {
        "id": "wArlIppMk9ev"
      },
      "outputs": [],
      "source": [
        "clf.fit(X_train, y_train)"
      ]
    },
    {
      "cell_type": "code",
      "execution_count": null,
      "metadata": {
        "id": "IAacgKf1k9ev"
      },
      "outputs": [],
      "source": [
        "y_pred = clf.predict(X_test)"
      ]
    },
    {
      "cell_type": "code",
      "execution_count": null,
      "metadata": {
        "id": "8iYlXhBGk9ev"
      },
      "outputs": [],
      "source": [
        "from sklearn.metrics import accuracy_score\n",
        "accuracy = accuracy_score(y_pred, y_test)\n",
        "print(\"Test accuracy score:\", accuracy)"
      ]
    }
  ],
  "metadata": {
    "kernelspec": {
      "display_name": "Python 3",
      "language": "python",
      "name": "python3"
    },
    "language_info": {
      "codemirror_mode": {
        "name": "ipython",
        "version": 3
      },
      "file_extension": ".py",
      "mimetype": "text/x-python",
      "name": "python",
      "nbconvert_exporter": "python",
      "pygments_lexer": "ipython3",
      "version": "3.8.17"
    },
    "colab": {
      "provenance": []
    }
  },
  "nbformat": 4,
  "nbformat_minor": 0
}
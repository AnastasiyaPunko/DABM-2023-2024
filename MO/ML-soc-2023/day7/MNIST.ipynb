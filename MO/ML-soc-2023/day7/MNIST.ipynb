{
 "cells": [
  {
   "cell_type": "code",
   "execution_count": 3,
   "metadata": {
    "colab": {},
    "colab_type": "code",
    "id": "GjEvcmnapqLl"
   },
   "outputs": [],
   "source": [
    "import torch\n",
    "import torchvision"
   ]
  },
  {
   "cell_type": "code",
   "execution_count": 4,
   "metadata": {
    "colab": {
     "base_uri": "https://localhost:8080/",
     "height": 34
    },
    "colab_type": "code",
    "executionInfo": {
     "elapsed": 1036,
     "status": "ok",
     "timestamp": 1575646942126,
     "user": {
      "displayName": "Alexander Sirotkin",
      "photoUrl": "https://lh3.googleusercontent.com/a-/AAuE7mBW7qmOqzB60j6niGnWLtaFoN8n0CAZDyJwBIqg-Q=s64",
      "userId": "04912911250217261721"
     },
     "user_tz": -180
    },
    "id": "gE8XPIbAprEX",
    "outputId": "5b474de3-a418-4c93-d02a-0a67698f5dff"
   },
   "outputs": [
    {
     "data": {
      "text/plain": [
       "<torch._C.Generator at 0x17a49e248d0>"
      ]
     },
     "execution_count": 4,
     "metadata": {},
     "output_type": "execute_result"
    }
   ],
   "source": [
    "n_epochs = 3\n",
    "batch_size_train = 64\n",
    "batch_size_test = 1000\n",
    "learning_rate = 0.01\n",
    "momentum = 0.5\n",
    "log_interval = 10\n",
    "\n",
    "random_seed = 1\n",
    "torch.backends.cudnn.enabled = False\n",
    "torch.manual_seed(random_seed)"
   ]
  },
  {
   "cell_type": "code",
   "execution_count": 5,
   "metadata": {
    "colab": {
     "base_uri": "https://localhost:8080/",
     "height": 255
    },
    "colab_type": "code",
    "executionInfo": {
     "elapsed": 1852,
     "status": "ok",
     "timestamp": 1575647206446,
     "user": {
      "displayName": "Alexander Sirotkin",
      "photoUrl": "https://lh3.googleusercontent.com/a-/AAuE7mBW7qmOqzB60j6niGnWLtaFoN8n0CAZDyJwBIqg-Q=s64",
      "userId": "04912911250217261721"
     },
     "user_tz": -180
    },
    "id": "_yRzTWHxp_2V",
    "outputId": "e504aee1-9cc7-40db-97dd-c7c76c06e71b"
   },
   "outputs": [
    {
     "name": "stdout",
     "output_type": "stream",
     "text": [
      "Downloading http://yann.lecun.com/exdb/mnist/train-images-idx3-ubyte.gz\n",
      "Downloading http://yann.lecun.com/exdb/mnist/train-images-idx3-ubyte.gz to /files/MNIST\\raw\\train-images-idx3-ubyte.gz\n"
     ]
    },
    {
     "data": {
      "application/vnd.jupyter.widget-view+json": {
       "model_id": "f64e35d692774ddbb204b6c9e42da93b",
       "version_major": 2,
       "version_minor": 0
      },
      "text/plain": [
       "  0%|          | 0/9912422 [00:00<?, ?it/s]"
      ]
     },
     "metadata": {},
     "output_type": "display_data"
    },
    {
     "name": "stdout",
     "output_type": "stream",
     "text": [
      "Extracting /files/MNIST\\raw\\train-images-idx3-ubyte.gz to /files/MNIST\\raw\n",
      "\n",
      "Downloading http://yann.lecun.com/exdb/mnist/train-labels-idx1-ubyte.gz\n",
      "Downloading http://yann.lecun.com/exdb/mnist/train-labels-idx1-ubyte.gz to /files/MNIST\\raw\\train-labels-idx1-ubyte.gz\n"
     ]
    },
    {
     "data": {
      "application/vnd.jupyter.widget-view+json": {
       "model_id": "e3805f9f67b74dd09338276088ca8224",
       "version_major": 2,
       "version_minor": 0
      },
      "text/plain": [
       "  0%|          | 0/28881 [00:00<?, ?it/s]"
      ]
     },
     "metadata": {},
     "output_type": "display_data"
    },
    {
     "name": "stdout",
     "output_type": "stream",
     "text": [
      "Extracting /files/MNIST\\raw\\train-labels-idx1-ubyte.gz to /files/MNIST\\raw\n",
      "\n",
      "Downloading http://yann.lecun.com/exdb/mnist/t10k-images-idx3-ubyte.gz\n",
      "Downloading http://yann.lecun.com/exdb/mnist/t10k-images-idx3-ubyte.gz to /files/MNIST\\raw\\t10k-images-idx3-ubyte.gz\n"
     ]
    },
    {
     "data": {
      "application/vnd.jupyter.widget-view+json": {
       "model_id": "fbddfb717a5240f1b818e67ef568876d",
       "version_major": 2,
       "version_minor": 0
      },
      "text/plain": [
       "  0%|          | 0/1648877 [00:00<?, ?it/s]"
      ]
     },
     "metadata": {},
     "output_type": "display_data"
    },
    {
     "name": "stdout",
     "output_type": "stream",
     "text": [
      "Extracting /files/MNIST\\raw\\t10k-images-idx3-ubyte.gz to /files/MNIST\\raw\n",
      "\n",
      "Downloading http://yann.lecun.com/exdb/mnist/t10k-labels-idx1-ubyte.gz\n",
      "Downloading http://yann.lecun.com/exdb/mnist/t10k-labels-idx1-ubyte.gz to /files/MNIST\\raw\\t10k-labels-idx1-ubyte.gz\n"
     ]
    },
    {
     "data": {
      "application/vnd.jupyter.widget-view+json": {
       "model_id": "a96bce60b3e740b39f5f39cd759c0d3a",
       "version_major": 2,
       "version_minor": 0
      },
      "text/plain": [
       "  0%|          | 0/4542 [00:00<?, ?it/s]"
      ]
     },
     "metadata": {},
     "output_type": "display_data"
    },
    {
     "name": "stdout",
     "output_type": "stream",
     "text": [
      "Extracting /files/MNIST\\raw\\t10k-labels-idx1-ubyte.gz to /files/MNIST\\raw\n",
      "\n"
     ]
    }
   ],
   "source": [
    "train_loader = torch.utils.data.DataLoader(\n",
    "  torchvision.datasets.MNIST('/files/', train=True, download=True,\n",
    "                             transform=torchvision.transforms.Compose([\n",
    "                               torchvision.transforms.ToTensor(),\n",
    "                               torchvision.transforms.Normalize(\n",
    "                                 (0.1307,), (0.3081,))\n",
    "                             ])),\n",
    "  batch_size=batch_size_train, shuffle=True)\n",
    "\n",
    "test_loader = torch.utils.data.DataLoader(\n",
    "  torchvision.datasets.MNIST('/files/', train=False, download=True,\n",
    "                             transform=torchvision.transforms.Compose([\n",
    "                               torchvision.transforms.ToTensor(),\n",
    "                               torchvision.transforms.Normalize(\n",
    "                                 (0.1307,), (0.3081,))\n",
    "                             ])),\n",
    "  batch_size=batch_size_test, shuffle=True)"
   ]
  },
  {
   "cell_type": "code",
   "execution_count": 6,
   "metadata": {
    "colab": {},
    "colab_type": "code",
    "id": "FsLKkT4JqK-G"
   },
   "outputs": [],
   "source": [
    "examples = enumerate(test_loader)\n",
    "batch_idx, (example_data, example_targets) = next(examples)"
   ]
  },
  {
   "cell_type": "code",
   "execution_count": 7,
   "metadata": {
    "colab": {
     "base_uri": "https://localhost:8080/",
     "height": 34
    },
    "colab_type": "code",
    "executionInfo": {
     "elapsed": 1123,
     "status": "ok",
     "timestamp": 1575647355454,
     "user": {
      "displayName": "Alexander Sirotkin",
      "photoUrl": "https://lh3.googleusercontent.com/a-/AAuE7mBW7qmOqzB60j6niGnWLtaFoN8n0CAZDyJwBIqg-Q=s64",
      "userId": "04912911250217261721"
     },
     "user_tz": -180
    },
    "id": "eOm9Rp0hqprM",
    "outputId": "bff967b3-a470-4ac8-9306-209d0c6cd619"
   },
   "outputs": [
    {
     "data": {
      "text/plain": [
       "torch.Size([1000, 1, 28, 28])"
      ]
     },
     "execution_count": 7,
     "metadata": {},
     "output_type": "execute_result"
    }
   ],
   "source": [
    "example_data.shape"
   ]
  },
  {
   "cell_type": "code",
   "execution_count": 10,
   "metadata": {
    "colab": {
     "base_uri": "https://localhost:8080/",
     "height": 284
    },
    "colab_type": "code",
    "executionInfo": {
     "elapsed": 965,
     "status": "ok",
     "timestamp": 1575647396744,
     "user": {
      "displayName": "Alexander Sirotkin",
      "photoUrl": "https://lh3.googleusercontent.com/a-/AAuE7mBW7qmOqzB60j6niGnWLtaFoN8n0CAZDyJwBIqg-Q=s64",
      "userId": "04912911250217261721"
     },
     "user_tz": -180
    },
    "id": "xxpSOCrSqqOF",
    "outputId": "6dee46c2-2ba6-4040-e8bd-f16ddb9fd6c7"
   },
   "outputs": [
    {
     "data": {
      "image/png": "[encoded data removed]",
      "text/plain": [
       "<Figure size 432x288 with 6 Axes>"
      ]
     },
     "execution_count": 10,
     "metadata": {},
     "output_type": "execute_result"
    },
    {
     "data": {
      "image/png": "[encoded data removed]",
      "text/plain": [
       "<Figure size 432x288 with 6 Axes>"
      ]
     },
     "metadata": {},
     "output_type": "display_data"
    }
   ],
   "source": [
    "import matplotlib.pyplot as plt\n",
    "\n",
    "fig = plt.figure()\n",
    "for i in range(6):\n",
    "  plt.subplot(2,3,i+1)\n",
    "  plt.tight_layout()\n",
    "  plt.imshow(example_data[i][0], cmap='gray', interpolation='none')\n",
    "  plt.title(\"Ground Truth: {}\".format(example_targets[i]))\n",
    "  plt.xticks([])\n",
    "  plt.yticks([])\n",
    "fig"
   ]
  },
  {
   "cell_type": "code",
   "execution_count": 9,
   "metadata": {
    "colab": {
     "base_uri": "https://localhost:8080/",
     "height": 1000
    },
    "colab_type": "code",
    "executionInfo": {
     "elapsed": 1189,
     "status": "ok",
     "timestamp": 1575647450420,
     "user": {
      "displayName": "Alexander Sirotkin",
      "photoUrl": "https://lh3.googleusercontent.com/a-/AAuE7mBW7qmOqzB60j6niGnWLtaFoN8n0CAZDyJwBIqg-Q=s64",
      "userId": "04912911250217261721"
     },
     "user_tz": -180
    },
    "id": "k4h3T69R586P",
    "outputId": "78774e40-7aa0-434a-9155-fd950a6b7f37"
   },
   "outputs": [
    {
     "data": {
      "text/plain": [
       "tensor([[-0.4242, -0.4242, -0.4242, -0.4242, -0.4242, -0.4242, -0.4242, -0.4242,\n",
       "         -0.4242, -0.4242, -0.4242, -0.4242, -0.4242, -0.4242, -0.4242, -0.4242,\n",
       "         -0.4242, -0.4242, -0.4242, -0.4242, -0.4242, -0.4242, -0.4242, -0.4242,\n",
       "         -0.4242, -0.4242, -0.4242, -0.4242],\n",
       "        [-0.4242, -0.4242, -0.4242, -0.4242, -0.4242, -0.4242, -0.4242, -0.4242,\n",
       "         -0.4242, -0.4242, -0.4242, -0.4242, -0.4242, -0.4242, -0.4242, -0.4242,\n",
       "         -0.4242, -0.4242, -0.4242, -0.4242, -0.4242, -0.4242, -0.4242, -0.4242,\n",
       "         -0.4242, -0.4242, -0.4242, -0.4242],\n",
       "        [-0.4242, -0.4242, -0.4242, -0.4242, -0.4242, -0.4242, -0.4242, -0.4242,\n",
       "         -0.4242, -0.4242, -0.4242, -0.4242, -0.4242, -0.4242, -0.4242, -0.4242,\n",
       "         -0.4242, -0.4242, -0.4242, -0.4242, -0.4242, -0.4242, -0.4242, -0.4242,\n",
       "         -0.4242, -0.4242, -0.4242, -0.4242],\n",
       "        [-0.4242, -0.4242, -0.4242, -0.4242, -0.4242, -0.4242, -0.4242, -0.4242,\n",
       "         -0.4242, -0.4242, -0.4242, -0.4242, -0.4242, -0.4242, -0.4242, -0.4242,\n",
       "         -0.4242, -0.4242, -0.4242, -0.4242, -0.4242, -0.4242, -0.4242, -0.4242,\n",
       "         -0.4242, -0.4242, -0.4242, -0.4242],\n",
       "        [-0.4242, -0.4242, -0.4242, -0.4242, -0.4242, -0.4242, -0.4242, -0.4242,\n",
       "         -0.4242, -0.4242, -0.4242, -0.4242, -0.4242, -0.4242, -0.4242, -0.4242,\n",
       "         -0.4242, -0.4242, -0.4242, -0.4242, -0.4242, -0.4242, -0.4242, -0.4242,\n",
       "         -0.4242, -0.4242, -0.4242, -0.4242],\n",
       "        [-0.4242, -0.4242, -0.4242, -0.4242, -0.4242, -0.4242, -0.4242, -0.4242,\n",
       "         -0.4242, -0.4242, -0.4242, -0.4242, -0.4242,  2.0960,  2.8215,  1.0268,\n",
       "         -0.4242, -0.4242, -0.4242, -0.4242, -0.4242, -0.4242, -0.4242, -0.4242,\n",
       "         -0.4242, -0.4242, -0.4242, -0.4242],\n",
       "        [-0.4242, -0.4242, -0.4242, -0.4242, -0.4242, -0.4242, -0.4242, -0.4242,\n",
       "         -0.4242, -0.4242, -0.4242, -0.4242,  2.0960,  2.8215,  2.8215,  2.8215,\n",
       "         -0.0551, -0.4242, -0.4242, -0.4242, -0.4242, -0.4242, -0.4242, -0.4242,\n",
       "         -0.4242, -0.4242, -0.4242, -0.4242],\n",
       "        [-0.4242, -0.4242, -0.4242, -0.4242, -0.4242, -0.4242, -0.4242, -0.4242,\n",
       "         -0.4242, -0.4242, -0.4242,  1.3705,  2.8215,  2.4524, -0.0551,  2.8215,\n",
       "          1.7396, -0.4242, -0.4242, -0.4242, -0.4242, -0.4242, -0.4242, -0.4242,\n",
       "         -0.4242, -0.4242, -0.4242, -0.4242],\n",
       "        [-0.4242, -0.4242, -0.4242, -0.4242, -0.4242, -0.4242, -0.4242, -0.4242,\n",
       "         -0.4242, -0.4242, -0.4242,  2.4524,  2.8215, -0.4242, -0.4242,  2.0960,\n",
       "          2.8215, -0.0551, -0.4242, -0.4242, -0.4242, -0.4242, -0.4242, -0.4242,\n",
       "         -0.4242, -0.4242, -0.4242, -0.4242],\n",
       "        [-0.4242, -0.4242, -0.4242, -0.4242, -0.4242, -0.4242, -0.4242, -0.4242,\n",
       "         -0.4242, -0.4242, -0.4242,  2.8215,  1.3705, -0.4242, -0.4242,  1.7396,\n",
       "          2.8215,  1.0268, -0.4242, -0.4242, -0.4242, -0.4242, -0.4242, -0.4242,\n",
       "         -0.4242, -0.4242, -0.4242, -0.4242],\n",
       "        [-0.4242, -0.4242, -0.4242, -0.4242, -0.4242, -0.4242, -0.4242, -0.4242,\n",
       "         -0.4242, -0.4242,  1.0268,  2.8215, -0.0551, -0.4242, -0.4242,  2.8215,\n",
       "          2.8215,  1.7396, -0.4242, -0.4242, -0.4242, -0.4242, -0.4242, -0.4242,\n",
       "         -0.4242, -0.4242, -0.4242, -0.4242],\n",
       "        [-0.4242, -0.4242, -0.4242, -0.4242, -0.4242, -0.4242, -0.4242, -0.4242,\n",
       "         -0.4242, -0.4242,  1.7396,  2.8215, -0.4242, -0.4242,  1.0268,  2.8215,\n",
       "          2.8215,  2.0960, -0.4242, -0.4242, -0.4242, -0.4242, -0.4242, -0.4242,\n",
       "         -0.4242, -0.4242, -0.4242, -0.4242],\n",
       "        [-0.4242, -0.4242, -0.4242, -0.4242, -0.4242, -0.4242, -0.4242, -0.4242,\n",
       "         -0.4242, -0.4242,  2.0960,  2.8215, -0.4242, -0.4242,  2.0960,  2.8215,\n",
       "          2.8215,  2.8215, -0.4242, -0.4242, -0.4242, -0.4242, -0.4242, -0.4242,\n",
       "         -0.4242, -0.4242, -0.4242, -0.4242],\n",
       "        [-0.4242, -0.4242, -0.4242, -0.4242, -0.4242, -0.4242, -0.4242, -0.4242,\n",
       "         -0.4242, -0.4242,  1.3705,  2.8215,  0.3013, -0.4242,  2.8215,  2.8215,\n",
       "          1.7396,  2.8215, -0.4242, -0.4242, -0.4242, -0.4242, -0.4242, -0.4242,\n",
       "         -0.4242, -0.4242, -0.4242, -0.4242],\n",
       "        [-0.4242, -0.4242, -0.4242, -0.4242, -0.4242, -0.4242, -0.4242, -0.4242,\n",
       "         -0.4242, -0.4242, -0.0551,  2.8215,  2.4524,  0.6704,  2.8215,  1.3705,\n",
       "          2.8215,  1.3705, -0.4242, -0.4242, -0.4242, -0.4242, -0.4242, -0.4242,\n",
       "         -0.4242, -0.4242, -0.4242, -0.4242],\n",
       "        [-0.4242, -0.4242, -0.4242, -0.4242, -0.4242, -0.4242, -0.4242, -0.4242,\n",
       "         -0.4242, -0.4242, -0.4242,  1.7396,  2.8215,  2.8215,  2.8215,  1.7396,\n",
       "          2.8215,  1.3705,  0.6704,  1.7396, -0.4242, -0.4242, -0.4242, -0.4242,\n",
       "         -0.4242, -0.4242, -0.4242, -0.4242],\n",
       "        [-0.4242, -0.4242, -0.4242, -0.4242, -0.4242, -0.4242, -0.4242, -0.4242,\n",
       "         -0.4242, -0.4242, -0.4242, -0.4242,  1.0268,  2.8215,  2.8215,  2.8215,\n",
       "          2.8215,  2.8215,  2.0960, -0.0551, -0.4242, -0.4242, -0.4242, -0.4242,\n",
       "         -0.4242, -0.4242, -0.4242, -0.4242],\n",
       "        [-0.4242, -0.4242, -0.4242, -0.4242, -0.4242, -0.4242, -0.4242, -0.4242,\n",
       "         -0.4242, -0.4242, -0.4242, -0.4242, -0.4242,  2.8215,  2.8215,  2.8215,\n",
       "          1.7396, -0.0551, -0.4242, -0.4242, -0.4242, -0.4242, -0.4242, -0.4242,\n",
       "         -0.4242, -0.4242, -0.4242, -0.4242],\n",
       "        [-0.4242, -0.4242, -0.4242, -0.4242, -0.4242, -0.4242, -0.4242, -0.4242,\n",
       "         -0.4242, -0.4242, -0.4242, -0.4242, -0.0551,  2.8215,  2.8215,  2.8215,\n",
       "         -0.4242, -0.4242, -0.4242, -0.4242, -0.4242, -0.4242, -0.4242, -0.4242,\n",
       "         -0.4242, -0.4242, -0.4242, -0.4242],\n",
       "        [-0.4242, -0.4242, -0.4242, -0.4242, -0.4242, -0.4242, -0.4242, -0.4242,\n",
       "         -0.4242, -0.4242, -0.4242, -0.4242,  1.3705,  2.8215,  2.8215,  2.0960,\n",
       "         -0.4242, -0.4242, -0.4242, -0.4242, -0.4242, -0.4242, -0.4242, -0.4242,\n",
       "         -0.4242, -0.4242, -0.4242, -0.4242],\n",
       "        [-0.4242, -0.4242, -0.4242, -0.4242, -0.4242, -0.4242, -0.4242, -0.4242,\n",
       "         -0.4242, -0.4242, -0.4242, -0.4242,  2.0960,  2.8215,  2.8215,  0.3013,\n",
       "         -0.4242, -0.4242, -0.4242, -0.4242, -0.4242, -0.4242, -0.4242, -0.4242,\n",
       "         -0.4242, -0.4242, -0.4242, -0.4242],\n",
       "        [-0.4242, -0.4242, -0.4242, -0.4242, -0.4242, -0.4242, -0.4242, -0.4242,\n",
       "         -0.4242, -0.4242, -0.4242, -0.0551,  2.8215,  2.8215,  1.7396, -0.4242,\n",
       "         -0.4242, -0.4242, -0.4242, -0.4242, -0.4242, -0.4242, -0.4242, -0.4242,\n",
       "         -0.4242, -0.4242, -0.4242, -0.4242],\n",
       "        [-0.4242, -0.4242, -0.4242, -0.4242, -0.4242, -0.4242, -0.4242, -0.4242,\n",
       "         -0.4242, -0.4242, -0.4242,  1.3705,  2.8215,  2.8215, -0.4242, -0.4242,\n",
       "         -0.4242, -0.4242, -0.4242, -0.4242, -0.4242, -0.4242, -0.4242, -0.4242,\n",
       "         -0.4242, -0.4242, -0.4242, -0.4242],\n",
       "        [-0.4242, -0.4242, -0.4242, -0.4242, -0.4242, -0.4242, -0.4242, -0.4242,\n",
       "         -0.4242, -0.4242, -0.4242,  1.3705,  2.8215,  1.7396, -0.4242, -0.4242,\n",
       "         -0.4242, -0.4242, -0.4242, -0.4242, -0.4242, -0.4242, -0.4242, -0.4242,\n",
       "         -0.4242, -0.4242, -0.4242, -0.4242],\n",
       "        [-0.4242, -0.4242, -0.4242, -0.4242, -0.4242, -0.4242, -0.4242, -0.4242,\n",
       "         -0.4242, -0.4242, -0.4242,  0.6704,  2.8215,  0.3013, -0.4242, -0.4242,\n",
       "         -0.4242, -0.4242, -0.4242, -0.4242, -0.4242, -0.4242, -0.4242, -0.4242,\n",
       "         -0.4242, -0.4242, -0.4242, -0.4242],\n",
       "        [-0.4242, -0.4242, -0.4242, -0.4242, -0.4242, -0.4242, -0.4242, -0.4242,\n",
       "         -0.4242, -0.4242, -0.4242, -0.4242, -0.4242, -0.4242, -0.4242, -0.4242,\n",
       "         -0.4242, -0.4242, -0.4242, -0.4242, -0.4242, -0.4242, -0.4242, -0.4242,\n",
       "         -0.4242, -0.4242, -0.4242, -0.4242],\n",
       "        [-0.4242, -0.4242, -0.4242, -0.4242, -0.4242, -0.4242, -0.4242, -0.4242,\n",
       "         -0.4242, -0.4242, -0.4242, -0.4242, -0.4242, -0.4242, -0.4242, -0.4242,\n",
       "         -0.4242, -0.4242, -0.4242, -0.4242, -0.4242, -0.4242, -0.4242, -0.4242,\n",
       "         -0.4242, -0.4242, -0.4242, -0.4242],\n",
       "        [-0.4242, -0.4242, -0.4242, -0.4242, -0.4242, -0.4242, -0.4242, -0.4242,\n",
       "         -0.4242, -0.4242, -0.4242, -0.4242, -0.4242, -0.4242, -0.4242, -0.4242,\n",
       "         -0.4242, -0.4242, -0.4242, -0.4242, -0.4242, -0.4242, -0.4242, -0.4242,\n",
       "         -0.4242, -0.4242, -0.4242, -0.4242]])"
      ]
     },
     "execution_count": 9,
     "metadata": {},
     "output_type": "execute_result"
    }
   ],
   "source": [
    "example_data[1][0]"
   ]
  },
  {
   "cell_type": "code",
   "execution_count": 11,
   "metadata": {
    "colab": {},
    "colab_type": "code",
    "id": "6qjBB3u8q5YH"
   },
   "outputs": [],
   "source": [
    "import torch.nn as nn\n",
    "import torch.nn.functional as F\n",
    "import torch.optim as optim"
   ]
  },
  {
   "cell_type": "code",
   "execution_count": 12,
   "metadata": {
    "colab": {},
    "colab_type": "code",
    "id": "eaJrougWYWGI"
   },
   "outputs": [],
   "source": [
    "class Simple_Net(nn.Module):\n",
    "    def __init__(self):\n",
    "        super(Simple_Net, self).__init__()\n",
    "        self.fc1 = nn.Linear(28 * 28, 200)\n",
    "        self.fc2 = nn.Linear(200, 200)\n",
    "        self.fc3 = nn.Linear(200, 10)\n",
    "\n",
    "    def forward(self, x):\n",
    "        x = x.view(-1, 28*28)\n",
    "        x = F.relu(self.fc1(x))\n",
    "        x = F.relu(self.fc2(x))\n",
    "        x = self.fc3(x)\n",
    "        return F.log_softmax(x)"
   ]
  },
  {
   "cell_type": "code",
   "execution_count": 13,
   "metadata": {
    "colab": {},
    "colab_type": "code",
    "id": "VrT4R9ndZ7Nd"
   },
   "outputs": [],
   "source": [
    "simple_network = Simple_Net()\n",
    "optimizer = optim.SGD(simple_network.parameters(), lr=learning_rate,\n",
    "                      momentum=momentum)"
   ]
  },
  {
   "cell_type": "code",
   "execution_count": 14,
   "metadata": {
    "colab": {},
    "colab_type": "code",
    "id": "1XHfs5AuPNne"
   },
   "outputs": [],
   "source": [
    "train_losses = []\n",
    "train_counter = []\n",
    "test_losses = []\n",
    "test_counter = [i*len(train_loader.dataset) for i in range(n_epochs + 1)]"
   ]
  },
  {
   "cell_type": "code",
   "execution_count": 15,
   "metadata": {
    "colab": {},
    "colab_type": "code",
    "id": "VJV4x1P_PNs5"
   },
   "outputs": [],
   "source": [
    "def train(network, optimizer, epoch, train_losses, train_counter, print_info = True):\n",
    "  network.train()\n",
    "  for batch_idx, (data, target) in enumerate(train_loader):\n",
    "    optimizer.zero_grad()\n",
    "    output = network(data)\n",
    "    loss = F.nll_loss(output, target)\n",
    "    loss.backward()\n",
    "    optimizer.step()\n",
    "    if batch_idx % log_interval == 0:\n",
    "      if print_info:\n",
    "        print('Train Epoch: {} [{}/{} ({:.0f}%)]\\tLoss: {:.6f}'.format(\n",
    "          epoch, batch_idx * len(data), len(train_loader.dataset),\n",
    "          100. * batch_idx / len(train_loader), loss.item()))\n",
    "      train_losses.append(loss.item())\n",
    "      train_counter.append(\n",
    "        (batch_idx*64) + ((epoch-1)*len(train_loader.dataset)))\n",
    "      torch.save(network.state_dict(), './model.pth')\n",
    "      torch.save(optimizer.state_dict(), './optimizer.pth')"
   ]
  },
  {
   "cell_type": "code",
   "execution_count": 16,
   "metadata": {
    "colab": {},
    "colab_type": "code",
    "id": "CujM7dquPNxl"
   },
   "outputs": [],
   "source": [
    "def test(network, test_losses):\n",
    "  network.eval()\n",
    "  test_loss = 0\n",
    "  correct = 0\n",
    "  with torch.no_grad():\n",
    "    for data, target in test_loader:\n",
    "      output = network(data)\n",
    "      test_loss += F.nll_loss(output, target, size_average=False).item()\n",
    "      pred = output.data.max(1, keepdim=True)[1]\n",
    "      correct += pred.eq(target.data.view_as(pred)).sum()\n",
    "  test_loss /= len(test_loader.dataset)\n",
    "  test_losses.append(test_loss)\n",
    "  print('\\nTest set: Avg. loss: {:.4f}, Accuracy: {}/{} ({:.0f}%)\\n'.format(\n",
    "    test_loss, correct, len(test_loader.dataset),\n",
    "    100. * correct / len(test_loader.dataset)))"
   ]
  },
  {
   "cell_type": "code",
   "execution_count": 17,
   "metadata": {
    "colab": {
     "base_uri": "https://localhost:8080/",
     "height": 1000
    },
    "colab_type": "code",
    "executionInfo": {
     "elapsed": 40793,
     "status": "ok",
     "timestamp": 1575648502356,
     "user": {
      "displayName": "Alexander Sirotkin",
      "photoUrl": "https://lh3.googleusercontent.com/a-/AAuE7mBW7qmOqzB60j6niGnWLtaFoN8n0CAZDyJwBIqg-Q=s64",
      "userId": "04912911250217261721"
     },
     "user_tz": -180
    },
    "id": "7bjVxF-WPN0P",
    "outputId": "5a1827a2-d8b7-4703-c2c5-fdddf8a876c6"
   },
   "outputs": [
    {
     "name": "stderr",
     "output_type": "stream",
     "text": [
      "C:\\tools\\Anaconda3\\lib\\site-packages\\ipykernel_launcher.py:13: UserWarning: Implicit dimension choice for log_softmax has been deprecated. Change the call to include dim=X as an argument.\n",
      "  del sys.path[0]\n",
      "C:\\tools\\Anaconda3\\lib\\site-packages\\torch\\nn\\_reduction.py:42: UserWarning: size_average and reduce args will be deprecated, please use reduction='sum' instead.\n",
      "  warnings.warn(warning.format(ret))\n"
     ]
    },
    {
     "name": "stdout",
     "output_type": "stream",
     "text": [
      "\n",
      "Test set: Avg. loss: 2.3204, Accuracy: 823/10000 (8%)\n",
      "\n",
      "Train Epoch: 1 [0/60000 (0%)]\tLoss: 2.320810\n",
      "Train Epoch: 1 [640/60000 (1%)]\tLoss: 2.309956\n",
      "Train Epoch: 1 [1280/60000 (2%)]\tLoss: 2.204622\n",
      "Train Epoch: 1 [1920/60000 (3%)]\tLoss: 2.144785\n",
      "Train Epoch: 1 [2560/60000 (4%)]\tLoss: 2.075159\n",
      "Train Epoch: 1 [3200/60000 (5%)]\tLoss: 1.914722\n",
      "Train Epoch: 1 [3840/60000 (6%)]\tLoss: 1.872151\n",
      "Train Epoch: 1 [4480/60000 (7%)]\tLoss: 1.634297\n",
      "Train Epoch: 1 [5120/60000 (9%)]\tLoss: 1.451464\n",
      "Train Epoch: 1 [5760/60000 (10%)]\tLoss: 1.189690\n",
      "Train Epoch: 1 [6400/60000 (11%)]\tLoss: 1.041302\n",
      "Train Epoch: 1 [7040/60000 (12%)]\tLoss: 1.078601\n",
      "Train Epoch: 1 [7680/60000 (13%)]\tLoss: 0.921918\n",
      "Train Epoch: 1 [8320/60000 (14%)]\tLoss: 0.891757\n",
      "Train Epoch: 1 [8960/60000 (15%)]\tLoss: 0.767973\n",
      "Train Epoch: 1 [9600/60000 (16%)]\tLoss: 0.814411\n",
      "Train Epoch: 1 [10240/60000 (17%)]\tLoss: 0.569233\n",
      "Train Epoch: 1 [10880/60000 (18%)]\tLoss: 0.573007\n",
      "Train Epoch: 1 [11520/60000 (19%)]\tLoss: 0.537260\n",
      "Train Epoch: 1 [12160/60000 (20%)]\tLoss: 0.543121\n",
      "Train Epoch: 1 [12800/60000 (21%)]\tLoss: 0.550685\n",
      "Train Epoch: 1 [13440/60000 (22%)]\tLoss: 0.533983\n",
      "Train Epoch: 1 [14080/60000 (23%)]\tLoss: 0.430198\n",
      "Train Epoch: 1 [14720/60000 (25%)]\tLoss: 0.482997\n",
      "Train Epoch: 1 [15360/60000 (26%)]\tLoss: 0.585844\n",
      "Train Epoch: 1 [16000/60000 (27%)]\tLoss: 0.300007\n",
      "Train Epoch: 1 [16640/60000 (28%)]\tLoss: 0.475185\n",
      "Train Epoch: 1 [17280/60000 (29%)]\tLoss: 0.559138\n",
      "Train Epoch: 1 [17920/60000 (30%)]\tLoss: 0.502334\n",
      "Train Epoch: 1 [18560/60000 (31%)]\tLoss: 0.386288\n",
      "Train Epoch: 1 [19200/60000 (32%)]\tLoss: 0.281845\n",
      "Train Epoch: 1 [19840/60000 (33%)]\tLoss: 0.374473\n",
      "Train Epoch: 1 [20480/60000 (34%)]\tLoss: 0.218244\n",
      "Train Epoch: 1 [21120/60000 (35%)]\tLoss: 0.559267\n",
      "Train Epoch: 1 [21760/60000 (36%)]\tLoss: 0.322925\n",
      "Train Epoch: 1 [22400/60000 (37%)]\tLoss: 0.406501\n",
      "Train Epoch: 1 [23040/60000 (38%)]\tLoss: 0.570717\n",
      "Train Epoch: 1 [23680/60000 (39%)]\tLoss: 0.491415\n",
      "Train Epoch: 1 [24320/60000 (41%)]\tLoss: 0.408371\n",
      "Train Epoch: 1 [24960/60000 (42%)]\tLoss: 0.251311\n",
      "Train Epoch: 1 [25600/60000 (43%)]\tLoss: 0.312253\n",
      "Train Epoch: 1 [26240/60000 (44%)]\tLoss: 0.381936\n",
      "Train Epoch: 1 [26880/60000 (45%)]\tLoss: 0.234267\n",
      "Train Epoch: 1 [27520/60000 (46%)]\tLoss: 0.243095\n",
      "Train Epoch: 1 [28160/60000 (47%)]\tLoss: 0.369740\n",
      "Train Epoch: 1 [28800/60000 (48%)]\tLoss: 0.282450\n",
      "Train Epoch: 1 [29440/60000 (49%)]\tLoss: 0.427335\n",
      "Train Epoch: 1 [30080/60000 (50%)]\tLoss: 0.252650\n",
      "Train Epoch: 1 [30720/60000 (51%)]\tLoss: 0.381502\n",
      "Train Epoch: 1 [31360/60000 (52%)]\tLoss: 0.186210\n",
      "Train Epoch: 1 [32000/60000 (53%)]\tLoss: 0.351907\n",
      "Train Epoch: 1 [32640/60000 (54%)]\tLoss: 0.238180\n",
      "Train Epoch: 1 [33280/60000 (55%)]\tLoss: 0.167651\n",
      "Train Epoch: 1 [33920/60000 (57%)]\tLoss: 0.311444\n",
      "Train Epoch: 1 [34560/60000 (58%)]\tLoss: 0.352991\n",
      "Train Epoch: 1 [35200/60000 (59%)]\tLoss: 0.398287\n",
      "Train Epoch: 1 [35840/60000 (60%)]\tLoss: 0.306468\n",
      "Train Epoch: 1 [36480/60000 (61%)]\tLoss: 0.407980\n",
      "Train Epoch: 1 [37120/60000 (62%)]\tLoss: 0.239387\n",
      "Train Epoch: 1 [37760/60000 (63%)]\tLoss: 0.396556\n",
      "Train Epoch: 1 [38400/60000 (64%)]\tLoss: 0.387888\n",
      "Train Epoch: 1 [39040/60000 (65%)]\tLoss: 0.317754\n",
      "Train Epoch: 1 [39680/60000 (66%)]\tLoss: 0.236621\n",
      "Train Epoch: 1 [40320/60000 (67%)]\tLoss: 0.314695\n",
      "Train Epoch: 1 [40960/60000 (68%)]\tLoss: 0.211453\n",
      "Train Epoch: 1 [41600/60000 (69%)]\tLoss: 0.422059\n",
      "Train Epoch: 1 [42240/60000 (70%)]\tLoss: 0.388428\n",
      "Train Epoch: 1 [42880/60000 (71%)]\tLoss: 0.397002\n",
      "Train Epoch: 1 [43520/60000 (72%)]\tLoss: 0.152892\n",
      "Train Epoch: 1 [44160/60000 (74%)]\tLoss: 0.429365\n",
      "Train Epoch: 1 [44800/60000 (75%)]\tLoss: 0.373805\n",
      "Train Epoch: 1 [45440/60000 (76%)]\tLoss: 0.275926\n",
      "Train Epoch: 1 [46080/60000 (77%)]\tLoss: 0.230396\n",
      "Train Epoch: 1 [46720/60000 (78%)]\tLoss: 0.357471\n",
      "Train Epoch: 1 [47360/60000 (79%)]\tLoss: 0.265379\n",
      "Train Epoch: 1 [48000/60000 (80%)]\tLoss: 0.334992\n",
      "Train Epoch: 1 [48640/60000 (81%)]\tLoss: 0.449775\n",
      "Train Epoch: 1 [49280/60000 (82%)]\tLoss: 0.369563\n",
      "Train Epoch: 1 [49920/60000 (83%)]\tLoss: 0.315549\n",
      "Train Epoch: 1 [50560/60000 (84%)]\tLoss: 0.505888\n",
      "Train Epoch: 1 [51200/60000 (85%)]\tLoss: 0.302017\n",
      "Train Epoch: 1 [51840/60000 (86%)]\tLoss: 0.423115\n",
      "Train Epoch: 1 [52480/60000 (87%)]\tLoss: 0.307048\n",
      "Train Epoch: 1 [53120/60000 (88%)]\tLoss: 0.396582\n",
      "Train Epoch: 1 [53760/60000 (90%)]\tLoss: 0.269190\n",
      "Train Epoch: 1 [54400/60000 (91%)]\tLoss: 0.347563\n",
      "Train Epoch: 1 [55040/60000 (92%)]\tLoss: 0.288207\n",
      "Train Epoch: 1 [55680/60000 (93%)]\tLoss: 0.180488\n",
      "Train Epoch: 1 [56320/60000 (94%)]\tLoss: 0.373379\n",
      "Train Epoch: 1 [56960/60000 (95%)]\tLoss: 0.243940\n",
      "Train Epoch: 1 [57600/60000 (96%)]\tLoss: 0.267540\n",
      "Train Epoch: 1 [58240/60000 (97%)]\tLoss: 0.513555\n",
      "Train Epoch: 1 [58880/60000 (98%)]\tLoss: 0.412010\n",
      "Train Epoch: 1 [59520/60000 (99%)]\tLoss: 0.157725\n",
      "\n",
      "Test set: Avg. loss: 0.2675, Accuracy: 9221/10000 (92%)\n",
      "\n",
      "Train Epoch: 2 [0/60000 (0%)]\tLoss: 0.516736\n",
      "Train Epoch: 2 [640/60000 (1%)]\tLoss: 0.224323\n",
      "Train Epoch: 2 [1280/60000 (2%)]\tLoss: 0.548789\n",
      "Train Epoch: 2 [1920/60000 (3%)]\tLoss: 0.361850\n",
      "Train Epoch: 2 [2560/60000 (4%)]\tLoss: 0.142018\n",
      "Train Epoch: 2 [3200/60000 (5%)]\tLoss: 0.312495\n",
      "Train Epoch: 2 [3840/60000 (6%)]\tLoss: 0.169419\n",
      "Train Epoch: 2 [4480/60000 (7%)]\tLoss: 0.202937\n",
      "Train Epoch: 2 [5120/60000 (9%)]\tLoss: 0.460952\n",
      "Train Epoch: 2 [5760/60000 (10%)]\tLoss: 0.325262\n",
      "Train Epoch: 2 [6400/60000 (11%)]\tLoss: 0.135669\n",
      "Train Epoch: 2 [7040/60000 (12%)]\tLoss: 0.297347\n",
      "Train Epoch: 2 [7680/60000 (13%)]\tLoss: 0.352484\n",
      "Train Epoch: 2 [8320/60000 (14%)]\tLoss: 0.224169\n",
      "Train Epoch: 2 [8960/60000 (15%)]\tLoss: 0.243284\n",
      "Train Epoch: 2 [9600/60000 (16%)]\tLoss: 0.171880\n",
      "Train Epoch: 2 [10240/60000 (17%)]\tLoss: 0.248208\n",
      "Train Epoch: 2 [10880/60000 (18%)]\tLoss: 0.223311\n",
      "Train Epoch: 2 [11520/60000 (19%)]\tLoss: 0.421310\n",
      "Train Epoch: 2 [12160/60000 (20%)]\tLoss: 0.142132\n",
      "Train Epoch: 2 [12800/60000 (21%)]\tLoss: 0.223187\n",
      "Train Epoch: 2 [13440/60000 (22%)]\tLoss: 0.341182\n",
      "Train Epoch: 2 [14080/60000 (23%)]\tLoss: 0.339273\n",
      "Train Epoch: 2 [14720/60000 (25%)]\tLoss: 0.196478\n",
      "Train Epoch: 2 [15360/60000 (26%)]\tLoss: 0.280683\n",
      "Train Epoch: 2 [16000/60000 (27%)]\tLoss: 0.160713\n",
      "Train Epoch: 2 [16640/60000 (28%)]\tLoss: 0.222074\n",
      "Train Epoch: 2 [17280/60000 (29%)]\tLoss: 0.228543\n",
      "Train Epoch: 2 [17920/60000 (30%)]\tLoss: 0.231282\n",
      "Train Epoch: 2 [18560/60000 (31%)]\tLoss: 0.266894\n",
      "Train Epoch: 2 [19200/60000 (32%)]\tLoss: 0.250524\n",
      "Train Epoch: 2 [19840/60000 (33%)]\tLoss: 0.332209\n",
      "Train Epoch: 2 [20480/60000 (34%)]\tLoss: 0.524398\n",
      "Train Epoch: 2 [21120/60000 (35%)]\tLoss: 0.349656\n",
      "Train Epoch: 2 [21760/60000 (36%)]\tLoss: 0.186542\n",
      "Train Epoch: 2 [22400/60000 (37%)]\tLoss: 0.217363\n",
      "Train Epoch: 2 [23040/60000 (38%)]\tLoss: 0.191922\n",
      "Train Epoch: 2 [23680/60000 (39%)]\tLoss: 0.319673\n",
      "Train Epoch: 2 [24320/60000 (41%)]\tLoss: 0.494773\n",
      "Train Epoch: 2 [24960/60000 (42%)]\tLoss: 0.184895\n",
      "Train Epoch: 2 [25600/60000 (43%)]\tLoss: 0.142153\n",
      "Train Epoch: 2 [26240/60000 (44%)]\tLoss: 0.162819\n",
      "Train Epoch: 2 [26880/60000 (45%)]\tLoss: 0.171986\n",
      "Train Epoch: 2 [27520/60000 (46%)]\tLoss: 0.253608\n",
      "Train Epoch: 2 [28160/60000 (47%)]\tLoss: 0.270285\n",
      "Train Epoch: 2 [28800/60000 (48%)]\tLoss: 0.551591\n",
      "Train Epoch: 2 [29440/60000 (49%)]\tLoss: 0.356526\n",
      "Train Epoch: 2 [30080/60000 (50%)]\tLoss: 0.171846\n",
      "Train Epoch: 2 [30720/60000 (51%)]\tLoss: 0.067649\n",
      "Train Epoch: 2 [31360/60000 (52%)]\tLoss: 0.221567\n",
      "Train Epoch: 2 [32000/60000 (53%)]\tLoss: 0.322719\n",
      "Train Epoch: 2 [32640/60000 (54%)]\tLoss: 0.363454\n",
      "Train Epoch: 2 [33280/60000 (55%)]\tLoss: 0.253458\n",
      "Train Epoch: 2 [33920/60000 (57%)]\tLoss: 0.368905\n",
      "Train Epoch: 2 [34560/60000 (58%)]\tLoss: 0.076147\n",
      "Train Epoch: 2 [35200/60000 (59%)]\tLoss: 0.260059\n",
      "Train Epoch: 2 [35840/60000 (60%)]\tLoss: 0.316208\n",
      "Train Epoch: 2 [36480/60000 (61%)]\tLoss: 0.180931\n",
      "Train Epoch: 2 [37120/60000 (62%)]\tLoss: 0.360762\n",
      "Train Epoch: 2 [37760/60000 (63%)]\tLoss: 0.109435\n",
      "Train Epoch: 2 [38400/60000 (64%)]\tLoss: 0.458590\n",
      "Train Epoch: 2 [39040/60000 (65%)]\tLoss: 0.257793\n",
      "Train Epoch: 2 [39680/60000 (66%)]\tLoss: 0.352034\n",
      "Train Epoch: 2 [40320/60000 (67%)]\tLoss: 0.283390\n",
      "Train Epoch: 2 [40960/60000 (68%)]\tLoss: 0.137288\n",
      "Train Epoch: 2 [41600/60000 (69%)]\tLoss: 0.242070\n",
      "Train Epoch: 2 [42240/60000 (70%)]\tLoss: 0.352627\n",
      "Train Epoch: 2 [42880/60000 (71%)]\tLoss: 0.236054\n",
      "Train Epoch: 2 [43520/60000 (72%)]\tLoss: 0.191954\n"
     ]
    },
    {
     "name": "stdout",
     "output_type": "stream",
     "text": [
      "Train Epoch: 2 [44160/60000 (74%)]\tLoss: 0.179482\n",
      "Train Epoch: 2 [44800/60000 (75%)]\tLoss: 0.173913\n",
      "Train Epoch: 2 [45440/60000 (76%)]\tLoss: 0.270773\n",
      "Train Epoch: 2 [46080/60000 (77%)]\tLoss: 0.131800\n",
      "Train Epoch: 2 [46720/60000 (78%)]\tLoss: 0.134195\n",
      "Train Epoch: 2 [47360/60000 (79%)]\tLoss: 0.291130\n",
      "Train Epoch: 2 [48000/60000 (80%)]\tLoss: 0.284875\n",
      "Train Epoch: 2 [48640/60000 (81%)]\tLoss: 0.169987\n",
      "Train Epoch: 2 [49280/60000 (82%)]\tLoss: 0.358879\n",
      "Train Epoch: 2 [49920/60000 (83%)]\tLoss: 0.199129\n",
      "Train Epoch: 2 [50560/60000 (84%)]\tLoss: 0.136240\n",
      "Train Epoch: 2 [51200/60000 (85%)]\tLoss: 0.172108\n",
      "Train Epoch: 2 [51840/60000 (86%)]\tLoss: 0.108764\n",
      "Train Epoch: 2 [52480/60000 (87%)]\tLoss: 0.509187\n",
      "Train Epoch: 2 [53120/60000 (88%)]\tLoss: 0.116726\n",
      "Train Epoch: 2 [53760/60000 (90%)]\tLoss: 0.258072\n",
      "Train Epoch: 2 [54400/60000 (91%)]\tLoss: 0.206528\n",
      "Train Epoch: 2 [55040/60000 (92%)]\tLoss: 0.163507\n",
      "Train Epoch: 2 [55680/60000 (93%)]\tLoss: 0.110977\n",
      "Train Epoch: 2 [56320/60000 (94%)]\tLoss: 0.166564\n",
      "Train Epoch: 2 [56960/60000 (95%)]\tLoss: 0.239486\n",
      "Train Epoch: 2 [57600/60000 (96%)]\tLoss: 0.096418\n",
      "Train Epoch: 2 [58240/60000 (97%)]\tLoss: 0.294964\n",
      "Train Epoch: 2 [58880/60000 (98%)]\tLoss: 0.300189\n",
      "Train Epoch: 2 [59520/60000 (99%)]\tLoss: 0.102790\n",
      "\n",
      "Test set: Avg. loss: 0.2068, Accuracy: 9389/10000 (94%)\n",
      "\n",
      "Train Epoch: 3 [0/60000 (0%)]\tLoss: 0.090284\n",
      "Train Epoch: 3 [640/60000 (1%)]\tLoss: 0.186967\n",
      "Train Epoch: 3 [1280/60000 (2%)]\tLoss: 0.115079\n",
      "Train Epoch: 3 [1920/60000 (3%)]\tLoss: 0.137753\n",
      "Train Epoch: 3 [2560/60000 (4%)]\tLoss: 0.211883\n",
      "Train Epoch: 3 [3200/60000 (5%)]\tLoss: 0.188729\n",
      "Train Epoch: 3 [3840/60000 (6%)]\tLoss: 0.211766\n",
      "Train Epoch: 3 [4480/60000 (7%)]\tLoss: 0.424402\n",
      "Train Epoch: 3 [5120/60000 (9%)]\tLoss: 0.267154\n",
      "Train Epoch: 3 [5760/60000 (10%)]\tLoss: 0.222145\n",
      "Train Epoch: 3 [6400/60000 (11%)]\tLoss: 0.066351\n",
      "Train Epoch: 3 [7040/60000 (12%)]\tLoss: 0.290410\n",
      "Train Epoch: 3 [7680/60000 (13%)]\tLoss: 0.039502\n",
      "Train Epoch: 3 [8320/60000 (14%)]\tLoss: 0.163597\n",
      "Train Epoch: 3 [8960/60000 (15%)]\tLoss: 0.162224\n",
      "Train Epoch: 3 [9600/60000 (16%)]\tLoss: 0.269864\n",
      "Train Epoch: 3 [10240/60000 (17%)]\tLoss: 0.159516\n",
      "Train Epoch: 3 [10880/60000 (18%)]\tLoss: 0.162936\n",
      "Train Epoch: 3 [11520/60000 (19%)]\tLoss: 0.280257\n",
      "Train Epoch: 3 [12160/60000 (20%)]\tLoss: 0.292071\n",
      "Train Epoch: 3 [12800/60000 (21%)]\tLoss: 0.340785\n",
      "Train Epoch: 3 [13440/60000 (22%)]\tLoss: 0.286636\n",
      "Train Epoch: 3 [14080/60000 (23%)]\tLoss: 0.121194\n",
      "Train Epoch: 3 [14720/60000 (25%)]\tLoss: 0.318573\n",
      "Train Epoch: 3 [15360/60000 (26%)]\tLoss: 0.185770\n",
      "Train Epoch: 3 [16000/60000 (27%)]\tLoss: 0.149619\n",
      "Train Epoch: 3 [16640/60000 (28%)]\tLoss: 0.097767\n",
      "Train Epoch: 3 [17280/60000 (29%)]\tLoss: 0.169346\n",
      "Train Epoch: 3 [17920/60000 (30%)]\tLoss: 0.171417\n",
      "Train Epoch: 3 [18560/60000 (31%)]\tLoss: 0.284992\n",
      "Train Epoch: 3 [19200/60000 (32%)]\tLoss: 0.149717\n",
      "Train Epoch: 3 [19840/60000 (33%)]\tLoss: 0.176528\n",
      "Train Epoch: 3 [20480/60000 (34%)]\tLoss: 0.206099\n",
      "Train Epoch: 3 [21120/60000 (35%)]\tLoss: 0.105346\n",
      "Train Epoch: 3 [21760/60000 (36%)]\tLoss: 0.135838\n",
      "Train Epoch: 3 [22400/60000 (37%)]\tLoss: 0.328798\n",
      "Train Epoch: 3 [23040/60000 (38%)]\tLoss: 0.115549\n",
      "Train Epoch: 3 [23680/60000 (39%)]\tLoss: 0.172819\n",
      "Train Epoch: 3 [24320/60000 (41%)]\tLoss: 0.179564\n",
      "Train Epoch: 3 [24960/60000 (42%)]\tLoss: 0.358081\n",
      "Train Epoch: 3 [25600/60000 (43%)]\tLoss: 0.169877\n",
      "Train Epoch: 3 [26240/60000 (44%)]\tLoss: 0.288422\n",
      "Train Epoch: 3 [26880/60000 (45%)]\tLoss: 0.169545\n",
      "Train Epoch: 3 [27520/60000 (46%)]\tLoss: 0.216063\n",
      "Train Epoch: 3 [28160/60000 (47%)]\tLoss: 0.127739\n",
      "Train Epoch: 3 [28800/60000 (48%)]\tLoss: 0.149050\n",
      "Train Epoch: 3 [29440/60000 (49%)]\tLoss: 0.095924\n",
      "Train Epoch: 3 [30080/60000 (50%)]\tLoss: 0.195294\n",
      "Train Epoch: 3 [30720/60000 (51%)]\tLoss: 0.258919\n",
      "Train Epoch: 3 [31360/60000 (52%)]\tLoss: 0.137781\n",
      "Train Epoch: 3 [32000/60000 (53%)]\tLoss: 0.143797\n",
      "Train Epoch: 3 [32640/60000 (54%)]\tLoss: 0.080491\n",
      "Train Epoch: 3 [33280/60000 (55%)]\tLoss: 0.157134\n",
      "Train Epoch: 3 [33920/60000 (57%)]\tLoss: 0.192768\n",
      "Train Epoch: 3 [34560/60000 (58%)]\tLoss: 0.082657\n",
      "Train Epoch: 3 [35200/60000 (59%)]\tLoss: 0.077136\n",
      "Train Epoch: 3 [35840/60000 (60%)]\tLoss: 0.277139\n",
      "Train Epoch: 3 [36480/60000 (61%)]\tLoss: 0.274958\n",
      "Train Epoch: 3 [37120/60000 (62%)]\tLoss: 0.089425\n",
      "Train Epoch: 3 [37760/60000 (63%)]\tLoss: 0.245188\n",
      "Train Epoch: 3 [38400/60000 (64%)]\tLoss: 0.147121\n",
      "Train Epoch: 3 [39040/60000 (65%)]\tLoss: 0.293985\n",
      "Train Epoch: 3 [39680/60000 (66%)]\tLoss: 0.135990\n",
      "Train Epoch: 3 [40320/60000 (67%)]\tLoss: 0.322538\n",
      "Train Epoch: 3 [40960/60000 (68%)]\tLoss: 0.151081\n",
      "Train Epoch: 3 [41600/60000 (69%)]\tLoss: 0.186188\n",
      "Train Epoch: 3 [42240/60000 (70%)]\tLoss: 0.323511\n",
      "Train Epoch: 3 [42880/60000 (71%)]\tLoss: 0.264334\n",
      "Train Epoch: 3 [43520/60000 (72%)]\tLoss: 0.132958\n",
      "Train Epoch: 3 [44160/60000 (74%)]\tLoss: 0.392876\n",
      "Train Epoch: 3 [44800/60000 (75%)]\tLoss: 0.138910\n",
      "Train Epoch: 3 [45440/60000 (76%)]\tLoss: 0.137820\n",
      "Train Epoch: 3 [46080/60000 (77%)]\tLoss: 0.301116\n",
      "Train Epoch: 3 [46720/60000 (78%)]\tLoss: 0.181228\n",
      "Train Epoch: 3 [47360/60000 (79%)]\tLoss: 0.086917\n",
      "Train Epoch: 3 [48000/60000 (80%)]\tLoss: 0.116719\n",
      "Train Epoch: 3 [48640/60000 (81%)]\tLoss: 0.115275\n",
      "Train Epoch: 3 [49280/60000 (82%)]\tLoss: 0.071444\n",
      "Train Epoch: 3 [49920/60000 (83%)]\tLoss: 0.307710\n",
      "Train Epoch: 3 [50560/60000 (84%)]\tLoss: 0.123895\n",
      "Train Epoch: 3 [51200/60000 (85%)]\tLoss: 0.180813\n",
      "Train Epoch: 3 [51840/60000 (86%)]\tLoss: 0.064903\n",
      "Train Epoch: 3 [52480/60000 (87%)]\tLoss: 0.247495\n",
      "Train Epoch: 3 [53120/60000 (88%)]\tLoss: 0.122880\n",
      "Train Epoch: 3 [53760/60000 (90%)]\tLoss: 0.122703\n",
      "Train Epoch: 3 [54400/60000 (91%)]\tLoss: 0.184698\n",
      "Train Epoch: 3 [55040/60000 (92%)]\tLoss: 0.387762\n",
      "Train Epoch: 3 [55680/60000 (93%)]\tLoss: 0.262036\n",
      "Train Epoch: 3 [56320/60000 (94%)]\tLoss: 0.088433\n",
      "Train Epoch: 3 [56960/60000 (95%)]\tLoss: 0.103463\n",
      "Train Epoch: 3 [57600/60000 (96%)]\tLoss: 0.296515\n",
      "Train Epoch: 3 [58240/60000 (97%)]\tLoss: 0.246672\n",
      "Train Epoch: 3 [58880/60000 (98%)]\tLoss: 0.106386\n",
      "Train Epoch: 3 [59520/60000 (99%)]\tLoss: 0.110779\n",
      "\n",
      "Test set: Avg. loss: 0.1603, Accuracy: 9523/10000 (95%)\n",
      "\n",
      "Wall time: 2min 45s\n"
     ]
    }
   ],
   "source": [
    "%%time\n",
    "test(simple_network, test_losses)\n",
    "for epoch in range(1, n_epochs + 1):\n",
    "  train(simple_network, optimizer, epoch, train_losses, train_counter, True)\n",
    "  test(simple_network, test_losses)"
   ]
  },
  {
   "cell_type": "code",
   "execution_count": 18,
   "metadata": {
    "colab": {
     "base_uri": "https://localhost:8080/",
     "height": 296
    },
    "colab_type": "code",
    "executionInfo": {
     "elapsed": 711,
     "status": "ok",
     "timestamp": 1575648559484,
     "user": {
      "displayName": "Alexander Sirotkin",
      "photoUrl": "https://lh3.googleusercontent.com/a-/AAuE7mBW7qmOqzB60j6niGnWLtaFoN8n0CAZDyJwBIqg-Q=s64",
      "userId": "04912911250217261721"
     },
     "user_tz": -180
    },
    "id": "gesvKdSsRUp9",
    "outputId": "269aa63b-1095-4241-8756-002c7770c066"
   },
   "outputs": [
    {
     "data": {
      "text/plain": [
       "Text(0, 0.5, 'negative log likelihood loss')"
      ]
     },
     "execution_count": 18,
     "metadata": {},
     "output_type": "execute_result"
    },
    {
     "data": {
      "image/png": "[encoded data removed]",
      "text/plain": [
       "<Figure size 432x288 with 1 Axes>"
      ]
     },
     "metadata": {
      "needs_background": "light"
     },
     "output_type": "display_data"
    }
   ],
   "source": [
    "fig = plt.figure()\n",
    "plt.plot(train_counter, train_losses, color='blue')\n",
    "plt.scatter(test_counter, test_losses, color='red')\n",
    "plt.legend(['Train Loss', 'Test Loss'], loc='upper right')\n",
    "plt.xlabel('number of training examples seen')\n",
    "plt.ylabel('negative log likelihood loss')"
   ]
  },
  {
   "cell_type": "code",
   "execution_count": 19,
   "metadata": {
    "colab": {
     "base_uri": "https://localhost:8080/",
     "height": 51
    },
    "colab_type": "code",
    "executionInfo": {
     "elapsed": 1038,
     "status": "ok",
     "timestamp": 1575648621710,
     "user": {
      "displayName": "Alexander Sirotkin",
      "photoUrl": "https://lh3.googleusercontent.com/a-/AAuE7mBW7qmOqzB60j6niGnWLtaFoN8n0CAZDyJwBIqg-Q=s64",
      "userId": "04912911250217261721"
     },
     "user_tz": -180
    },
    "id": "uQpyaDsBSVXV",
    "outputId": "07ba57ea-4e22-4afd-9af8-8132a0c9948d"
   },
   "outputs": [
    {
     "name": "stderr",
     "output_type": "stream",
     "text": [
      "C:\\tools\\Anaconda3\\lib\\site-packages\\ipykernel_launcher.py:13: UserWarning: Implicit dimension choice for log_softmax has been deprecated. Change the call to include dim=X as an argument.\n",
      "  del sys.path[0]\n"
     ]
    }
   ],
   "source": [
    "with torch.no_grad():\n",
    "  output = simple_network(example_data)"
   ]
  },
  {
   "cell_type": "code",
   "execution_count": 20,
   "metadata": {
    "colab": {
     "base_uri": "https://localhost:8080/",
     "height": 284
    },
    "colab_type": "code",
    "executionInfo": {
     "elapsed": 1286,
     "status": "ok",
     "timestamp": 1575648626622,
     "user": {
      "displayName": "Alexander Sirotkin",
      "photoUrl": "https://lh3.googleusercontent.com/a-/AAuE7mBW7qmOqzB60j6niGnWLtaFoN8n0CAZDyJwBIqg-Q=s64",
      "userId": "04912911250217261721"
     },
     "user_tz": -180
    },
    "id": "AGDx39cJT1pX",
    "outputId": "fda796bf-8ee5-4a11-a611-431e0bfbe531"
   },
   "outputs": [
    {
     "data": {
      "image/png": "[encoded data removed]",
      "text/plain": [
       "<Figure size 432x288 with 6 Axes>"
      ]
     },
     "metadata": {},
     "output_type": "display_data"
    }
   ],
   "source": [
    "fig = plt.figure()\n",
    "for i in range(6):\n",
    "  plt.subplot(2,3,i+1)\n",
    "  plt.tight_layout()\n",
    "  plt.imshow(example_data[i][0], cmap='gray', interpolation='none')\n",
    "  plt.title(\"Prediction: {}\".format(\n",
    "    output.data.max(1, keepdim=True)[1][i].item()))\n",
    "  plt.xticks([])\n",
    "  plt.yticks([])"
   ]
  },
  {
   "cell_type": "code",
   "execution_count": 21,
   "metadata": {
    "colab": {},
    "colab_type": "code",
    "id": "cTga2RXBpjT_"
   },
   "outputs": [],
   "source": [
    "bad = [i for  i in range(1000) if output.data.max(1, keepdim=True)[1][i].item() != example_targets[i]]"
   ]
  },
  {
   "cell_type": "code",
   "execution_count": 22,
   "metadata": {
    "colab": {
     "base_uri": "https://localhost:8080/",
     "height": 34
    },
    "colab_type": "code",
    "executionInfo": {
     "elapsed": 895,
     "status": "ok",
     "timestamp": 1575649074149,
     "user": {
      "displayName": "Alexander Sirotkin",
      "photoUrl": "https://lh3.googleusercontent.com/a-/AAuE7mBW7qmOqzB60j6niGnWLtaFoN8n0CAZDyJwBIqg-Q=s64",
      "userId": "04912911250217261721"
     },
     "user_tz": -180
    },
    "id": "3SL4bJia-pw3",
    "outputId": "91f5d9bf-eae2-4f7d-a2a9-97a4db3da3ab"
   },
   "outputs": [
    {
     "data": {
      "text/plain": [
       "53"
      ]
     },
     "execution_count": 22,
     "metadata": {},
     "output_type": "execute_result"
    }
   ],
   "source": [
    "len(bad)"
   ]
  },
  {
   "cell_type": "code",
   "execution_count": 23,
   "metadata": {
    "colab": {
     "base_uri": "https://localhost:8080/",
     "height": 284
    },
    "colab_type": "code",
    "executionInfo": {
     "elapsed": 1002,
     "status": "ok",
     "timestamp": 1575649077053,
     "user": {
      "displayName": "Alexander Sirotkin",
      "photoUrl": "https://lh3.googleusercontent.com/a-/AAuE7mBW7qmOqzB60j6niGnWLtaFoN8n0CAZDyJwBIqg-Q=s64",
      "userId": "04912911250217261721"
     },
     "user_tz": -180
    },
    "id": "FvsMeb0tptHh",
    "outputId": "a78911c7-ca82-450c-e97c-fcae2ecd2514"
   },
   "outputs": [
    {
     "data": {
      "image/png": "[encoded data removed]",
      "text/plain": [
       "<Figure size 432x288 with 6 Axes>"
      ]
     },
     "metadata": {},
     "output_type": "display_data"
    }
   ],
   "source": [
    "fig = plt.figure()\n",
    "for i in range(6):\n",
    "  plt.subplot(2,3,i+1)\n",
    "  plt.tight_layout()\n",
    "  plt.imshow(example_data[bad[i]][0], cmap='gray', interpolation='none')\n",
    "  plt.title(\"Pred: {} Real: {}\".format(\n",
    "    output.data.max(1, keepdim=True)[1][bad[i]].item(), example_targets[bad[i]]))\n",
    "  plt.xticks([])\n",
    "  plt.yticks([])"
   ]
  },
  {
   "cell_type": "code",
   "execution_count": 24,
   "metadata": {
    "colab": {},
    "colab_type": "code",
    "id": "eMZFutb8T31o"
   },
   "outputs": [],
   "source": [
    "continued_network = Simple_Net()\n",
    "continued_optimizer = optim.SGD(continued_network.parameters(), lr=learning_rate,\n",
    "                                momentum=momentum)"
   ]
  },
  {
   "cell_type": "code",
   "execution_count": 25,
   "metadata": {
    "colab": {},
    "colab_type": "code",
    "id": "wpeh5rR2UVev"
   },
   "outputs": [],
   "source": [
    "network_state_dict = torch.load(\"model.pth\")\n",
    "continued_network.load_state_dict(network_state_dict)\n",
    "\n",
    "optimizer_state_dict = torch.load(\"optimizer.pth\")\n",
    "continued_optimizer.load_state_dict(optimizer_state_dict)"
   ]
  },
  {
   "cell_type": "code",
   "execution_count": 26,
   "metadata": {
    "colab": {
     "base_uri": "https://localhost:8080/",
     "height": 374
    },
    "colab_type": "code",
    "executionInfo": {
     "elapsed": 60785,
     "status": "ok",
     "timestamp": 1575648852450,
     "user": {
      "displayName": "Alexander Sirotkin",
      "photoUrl": "https://lh3.googleusercontent.com/a-/AAuE7mBW7qmOqzB60j6niGnWLtaFoN8n0CAZDyJwBIqg-Q=s64",
      "userId": "04912911250217261721"
     },
     "user_tz": -180
    },
    "id": "O-dNuL4XUYb3",
    "outputId": "b1ad88da-b91b-421b-af4d-226f2a1c09f6"
   },
   "outputs": [
    {
     "name": "stderr",
     "output_type": "stream",
     "text": [
      "C:\\tools\\Anaconda3\\lib\\site-packages\\ipykernel_launcher.py:13: UserWarning: Implicit dimension choice for log_softmax has been deprecated. Change the call to include dim=X as an argument.\n",
      "  del sys.path[0]\n"
     ]
    },
    {
     "name": "stdout",
     "output_type": "stream",
     "text": [
      "\n",
      "Test set: Avg. loss: 0.1380, Accuracy: 9585/10000 (96%)\n",
      "\n",
      "\n",
      "Test set: Avg. loss: 0.1141, Accuracy: 9645/10000 (96%)\n",
      "\n",
      "\n",
      "Test set: Avg. loss: 0.1052, Accuracy: 9679/10000 (97%)\n",
      "\n",
      "\n",
      "Test set: Avg. loss: 0.0947, Accuracy: 9709/10000 (97%)\n",
      "\n",
      "\n",
      "Test set: Avg. loss: 0.0900, Accuracy: 9713/10000 (97%)\n",
      "\n",
      "Wall time: 3min 30s\n"
     ]
    }
   ],
   "source": [
    "%%time\n",
    "for i in range(4,9):\n",
    "  test_counter.append(i*len(train_loader.dataset))\n",
    "  train(continued_network, continued_optimizer, i, train_losses, train_counter, False)\n",
    "  test(continued_network, test_losses)"
   ]
  },
  {
   "cell_type": "code",
   "execution_count": 27,
   "metadata": {
    "colab": {
     "base_uri": "https://localhost:8080/",
     "height": 374
    },
    "colab_type": "code",
    "executionInfo": {
     "elapsed": 59803,
     "status": "ok",
     "timestamp": 1575648935019,
     "user": {
      "displayName": "Alexander Sirotkin",
      "photoUrl": "https://lh3.googleusercontent.com/a-/AAuE7mBW7qmOqzB60j6niGnWLtaFoN8n0CAZDyJwBIqg-Q=s64",
      "userId": "04912911250217261721"
     },
     "user_tz": -180
    },
    "id": "VKJXHnvO_YeF",
    "outputId": "f9df6d03-0613-4150-8e0a-6389d85cb1f4"
   },
   "outputs": [
    {
     "name": "stderr",
     "output_type": "stream",
     "text": [
      "C:\\tools\\Anaconda3\\lib\\site-packages\\ipykernel_launcher.py:13: UserWarning: Implicit dimension choice for log_softmax has been deprecated. Change the call to include dim=X as an argument.\n",
      "  del sys.path[0]\n"
     ]
    },
    {
     "name": "stdout",
     "output_type": "stream",
     "text": [
      "\n",
      "Test set: Avg. loss: 0.0844, Accuracy: 9730/10000 (97%)\n",
      "\n",
      "\n",
      "Test set: Avg. loss: 0.0829, Accuracy: 9736/10000 (97%)\n",
      "\n",
      "\n",
      "Test set: Avg. loss: 0.0778, Accuracy: 9754/10000 (98%)\n",
      "\n",
      "\n",
      "Test set: Avg. loss: 0.0742, Accuracy: 9767/10000 (98%)\n",
      "\n",
      "\n",
      "Test set: Avg. loss: 0.0698, Accuracy: 9778/10000 (98%)\n",
      "\n",
      "Wall time: 2min 4s\n"
     ]
    }
   ],
   "source": [
    "%%time\n",
    "for i in range(9,14):\n",
    "  test_counter.append(i*len(train_loader.dataset))\n",
    "  train(continued_network, continued_optimizer, i, train_losses, train_counter, False)\n",
    "  test(continued_network, test_losses)"
   ]
  },
  {
   "cell_type": "code",
   "execution_count": 28,
   "metadata": {
    "colab": {
     "base_uri": "https://localhost:8080/",
     "height": 296
    },
    "colab_type": "code",
    "executionInfo": {
     "elapsed": 698,
     "status": "ok",
     "timestamp": 1575648999226,
     "user": {
      "displayName": "Alexander Sirotkin",
      "photoUrl": "https://lh3.googleusercontent.com/a-/AAuE7mBW7qmOqzB60j6niGnWLtaFoN8n0CAZDyJwBIqg-Q=s64",
      "userId": "04912911250217261721"
     },
     "user_tz": -180
    },
    "id": "g0DDRnDFUnec",
    "outputId": "5d352ced-f6ed-47eb-ca63-093b38e1d047"
   },
   "outputs": [
    {
     "data": {
      "text/plain": [
       "Text(0, 0.5, 'negative log likelihood loss')"
      ]
     },
     "execution_count": 28,
     "metadata": {},
     "output_type": "execute_result"
    },
    {
     "data": {
      "image/png": "[encoded data removed]",
      "text/plain": [
       "<Figure size 432x288 with 1 Axes>"
      ]
     },
     "metadata": {
      "needs_background": "light"
     },
     "output_type": "display_data"
    }
   ],
   "source": [
    "fig = plt.figure()\n",
    "plt.plot(train_counter, train_losses, color='blue')\n",
    "plt.scatter(test_counter, test_losses, color='red')\n",
    "plt.legend(['Train Loss', 'Test Loss'], loc='upper right')\n",
    "plt.xlabel('number of training examples seen')\n",
    "plt.ylabel('negative log likelihood loss')"
   ]
  },
  {
   "cell_type": "code",
   "execution_count": 29,
   "metadata": {
    "colab": {},
    "colab_type": "code",
    "id": "PrRQTex5OjTx"
   },
   "outputs": [],
   "source": [
    "class Net(nn.Module):\n",
    "    def __init__(self):\n",
    "        super(Net, self).__init__()\n",
    "        self.conv1 = nn.Conv2d(1, 10, kernel_size=5)\n",
    "        self.conv2 = nn.Conv2d(10, 20, kernel_size=5)\n",
    "        self.conv2_drop = nn.Dropout2d()\n",
    "        self.fc1 = nn.Linear(320, 50)\n",
    "        self.fc2 = nn.Linear(50, 10)\n",
    "\n",
    "    def forward(self, x):\n",
    "        x = F.relu(F.max_pool2d(self.conv1(x), 2))\n",
    "        x = F.relu(F.max_pool2d(self.conv2_drop(self.conv2(x)), 2))\n",
    "        x = x.view(-1, 320)\n",
    "        x = F.relu(self.fc1(x))\n",
    "        x = F.dropout(x, training=self.training)\n",
    "        x = self.fc2(x)\n",
    "        return F.log_softmax(x)"
   ]
  },
  {
   "cell_type": "code",
   "execution_count": 30,
   "metadata": {
    "colab": {},
    "colab_type": "code",
    "id": "pNfeKdUWPNkc"
   },
   "outputs": [],
   "source": [
    "conv_network = Net()\n",
    "optimizer = optim.SGD(conv_network.parameters(), lr=learning_rate,\n",
    "                      momentum=momentum)"
   ]
  },
  {
   "cell_type": "code",
   "execution_count": 31,
   "metadata": {
    "colab": {},
    "colab_type": "code",
    "id": "dlIJVjrbwcOR"
   },
   "outputs": [],
   "source": [
    "conv_train_losses = []\n",
    "conv_train_counter = []\n",
    "conv_test_losses = []\n",
    "conv_test_counter = [i*len(train_loader.dataset) for i in range(n_epochs + 1)]"
   ]
  },
  {
   "cell_type": "code",
   "execution_count": 32,
   "metadata": {
    "colab": {
     "base_uri": "https://localhost:8080/",
     "height": 1000
    },
    "colab_type": "code",
    "executionInfo": {
     "elapsed": 94611,
     "status": "ok",
     "timestamp": 1575649898829,
     "user": {
      "displayName": "Alexander Sirotkin",
      "photoUrl": "https://lh3.googleusercontent.com/a-/AAuE7mBW7qmOqzB60j6niGnWLtaFoN8n0CAZDyJwBIqg-Q=s64",
      "userId": "04912911250217261721"
     },
     "user_tz": -180
    },
    "id": "FFCQ_X_daCGh",
    "outputId": "6d5d6306-458a-4cd9-9b35-8d73fc1ee859"
   },
   "outputs": [
    {
     "name": "stderr",
     "output_type": "stream",
     "text": [
      "C:\\tools\\Anaconda3\\lib\\site-packages\\ipykernel_launcher.py:17: UserWarning: Implicit dimension choice for log_softmax has been deprecated. Change the call to include dim=X as an argument.\n"
     ]
    },
    {
     "name": "stdout",
     "output_type": "stream",
     "text": [
      "\n",
      "Test set: Avg. loss: 2.3167, Accuracy: 986/10000 (10%)\n",
      "\n",
      "Train Epoch: 1 [0/60000 (0%)]\tLoss: 2.321712\n",
      "Train Epoch: 1 [640/60000 (1%)]\tLoss: 2.278752\n",
      "Train Epoch: 1 [1280/60000 (2%)]\tLoss: 2.298218\n",
      "Train Epoch: 1 [1920/60000 (3%)]\tLoss: 2.249570\n",
      "Train Epoch: 1 [2560/60000 (4%)]\tLoss: 2.239993\n",
      "Train Epoch: 1 [3200/60000 (5%)]\tLoss: 2.231383\n",
      "Train Epoch: 1 [3840/60000 (6%)]\tLoss: 2.224427\n",
      "Train Epoch: 1 [4480/60000 (7%)]\tLoss: 2.103338\n",
      "Train Epoch: 1 [5120/60000 (9%)]\tLoss: 2.108814\n",
      "Train Epoch: 1 [5760/60000 (10%)]\tLoss: 1.960340\n",
      "Train Epoch: 1 [6400/60000 (11%)]\tLoss: 1.915859\n",
      "Train Epoch: 1 [7040/60000 (12%)]\tLoss: 1.682681\n",
      "Train Epoch: 1 [7680/60000 (13%)]\tLoss: 1.493476\n",
      "Train Epoch: 1 [8320/60000 (14%)]\tLoss: 1.591703\n",
      "Train Epoch: 1 [8960/60000 (15%)]\tLoss: 1.469570\n",
      "Train Epoch: 1 [9600/60000 (16%)]\tLoss: 1.457554\n",
      "Train Epoch: 1 [10240/60000 (17%)]\tLoss: 1.171996\n",
      "Train Epoch: 1 [10880/60000 (18%)]\tLoss: 1.439364\n",
      "Train Epoch: 1 [11520/60000 (19%)]\tLoss: 1.132398\n",
      "Train Epoch: 1 [12160/60000 (20%)]\tLoss: 0.944083\n",
      "Train Epoch: 1 [12800/60000 (21%)]\tLoss: 1.292758\n",
      "Train Epoch: 1 [13440/60000 (22%)]\tLoss: 1.284986\n",
      "Train Epoch: 1 [14080/60000 (23%)]\tLoss: 1.064921\n",
      "Train Epoch: 1 [14720/60000 (25%)]\tLoss: 0.918669\n",
      "Train Epoch: 1 [15360/60000 (26%)]\tLoss: 0.976871\n",
      "Train Epoch: 1 [16000/60000 (27%)]\tLoss: 0.939255\n",
      "Train Epoch: 1 [16640/60000 (28%)]\tLoss: 0.796439\n",
      "Train Epoch: 1 [17280/60000 (29%)]\tLoss: 0.872991\n",
      "Train Epoch: 1 [17920/60000 (30%)]\tLoss: 0.772902\n",
      "Train Epoch: 1 [18560/60000 (31%)]\tLoss: 0.857786\n",
      "Train Epoch: 1 [19200/60000 (32%)]\tLoss: 0.576380\n",
      "Train Epoch: 1 [19840/60000 (33%)]\tLoss: 0.795517\n",
      "Train Epoch: 1 [20480/60000 (34%)]\tLoss: 0.739967\n",
      "Train Epoch: 1 [21120/60000 (35%)]\tLoss: 0.984366\n",
      "Train Epoch: 1 [21760/60000 (36%)]\tLoss: 0.508630\n",
      "Train Epoch: 1 [22400/60000 (37%)]\tLoss: 0.683740\n",
      "Train Epoch: 1 [23040/60000 (38%)]\tLoss: 0.758576\n",
      "Train Epoch: 1 [23680/60000 (39%)]\tLoss: 0.829684\n",
      "Train Epoch: 1 [24320/60000 (41%)]\tLoss: 0.700412\n",
      "Train Epoch: 1 [24960/60000 (42%)]\tLoss: 0.819444\n",
      "Train Epoch: 1 [25600/60000 (43%)]\tLoss: 0.572067\n",
      "Train Epoch: 1 [26240/60000 (44%)]\tLoss: 0.888406\n",
      "Train Epoch: 1 [26880/60000 (45%)]\tLoss: 0.527239\n",
      "Train Epoch: 1 [27520/60000 (46%)]\tLoss: 0.584709\n",
      "Train Epoch: 1 [28160/60000 (47%)]\tLoss: 0.585387\n",
      "Train Epoch: 1 [28800/60000 (48%)]\tLoss: 0.511592\n",
      "Train Epoch: 1 [29440/60000 (49%)]\tLoss: 0.655560\n",
      "Train Epoch: 1 [30080/60000 (50%)]\tLoss: 0.601384\n",
      "Train Epoch: 1 [30720/60000 (51%)]\tLoss: 0.833544\n",
      "Train Epoch: 1 [31360/60000 (52%)]\tLoss: 0.476218\n",
      "Train Epoch: 1 [32000/60000 (53%)]\tLoss: 0.679715\n",
      "Train Epoch: 1 [32640/60000 (54%)]\tLoss: 0.566480\n",
      "Train Epoch: 1 [33280/60000 (55%)]\tLoss: 0.403402\n",
      "Train Epoch: 1 [33920/60000 (57%)]\tLoss: 0.516358\n",
      "Train Epoch: 1 [34560/60000 (58%)]\tLoss: 0.593558\n",
      "Train Epoch: 1 [35200/60000 (59%)]\tLoss: 0.764178\n",
      "Train Epoch: 1 [35840/60000 (60%)]\tLoss: 0.548797\n",
      "Train Epoch: 1 [36480/60000 (61%)]\tLoss: 0.547925\n",
      "Train Epoch: 1 [37120/60000 (62%)]\tLoss: 0.654854\n",
      "Train Epoch: 1 [37760/60000 (63%)]\tLoss: 0.823206\n",
      "Train Epoch: 1 [38400/60000 (64%)]\tLoss: 0.543520\n",
      "Train Epoch: 1 [39040/60000 (65%)]\tLoss: 0.496995\n",
      "Train Epoch: 1 [39680/60000 (66%)]\tLoss: 0.460642\n",
      "Train Epoch: 1 [40320/60000 (67%)]\tLoss: 0.439525\n",
      "Train Epoch: 1 [40960/60000 (68%)]\tLoss: 0.617567\n",
      "Train Epoch: 1 [41600/60000 (69%)]\tLoss: 0.462179\n",
      "Train Epoch: 1 [42240/60000 (70%)]\tLoss: 0.541913\n",
      "Train Epoch: 1 [42880/60000 (71%)]\tLoss: 0.431534\n",
      "Train Epoch: 1 [43520/60000 (72%)]\tLoss: 0.842673\n",
      "Train Epoch: 1 [44160/60000 (74%)]\tLoss: 0.802699\n",
      "Train Epoch: 1 [44800/60000 (75%)]\tLoss: 0.506902\n",
      "Train Epoch: 1 [45440/60000 (76%)]\tLoss: 0.459734\n",
      "Train Epoch: 1 [46080/60000 (77%)]\tLoss: 0.458826\n",
      "Train Epoch: 1 [46720/60000 (78%)]\tLoss: 0.588109\n",
      "Train Epoch: 1 [47360/60000 (79%)]\tLoss: 0.641393\n",
      "Train Epoch: 1 [48000/60000 (80%)]\tLoss: 0.361150\n",
      "Train Epoch: 1 [48640/60000 (81%)]\tLoss: 0.528103\n",
      "Train Epoch: 1 [49280/60000 (82%)]\tLoss: 0.420459\n",
      "Train Epoch: 1 [49920/60000 (83%)]\tLoss: 0.414173\n",
      "Train Epoch: 1 [50560/60000 (84%)]\tLoss: 0.857147\n",
      "Train Epoch: 1 [51200/60000 (85%)]\tLoss: 0.511225\n",
      "Train Epoch: 1 [51840/60000 (86%)]\tLoss: 0.526480\n",
      "Train Epoch: 1 [52480/60000 (87%)]\tLoss: 0.675038\n",
      "Train Epoch: 1 [53120/60000 (88%)]\tLoss: 0.474464\n",
      "Train Epoch: 1 [53760/60000 (90%)]\tLoss: 0.367534\n",
      "Train Epoch: 1 [54400/60000 (91%)]\tLoss: 0.503213\n",
      "Train Epoch: 1 [55040/60000 (92%)]\tLoss: 0.584855\n",
      "Train Epoch: 1 [55680/60000 (93%)]\tLoss: 0.449593\n",
      "Train Epoch: 1 [56320/60000 (94%)]\tLoss: 0.429657\n",
      "Train Epoch: 1 [56960/60000 (95%)]\tLoss: 0.340463\n",
      "Train Epoch: 1 [57600/60000 (96%)]\tLoss: 0.353669\n",
      "Train Epoch: 1 [58240/60000 (97%)]\tLoss: 0.417298\n",
      "Train Epoch: 1 [58880/60000 (98%)]\tLoss: 0.476429\n",
      "Train Epoch: 1 [59520/60000 (99%)]\tLoss: 0.423283\n",
      "\n",
      "Test set: Avg. loss: 0.1785, Accuracy: 9457/10000 (95%)\n",
      "\n",
      "Train Epoch: 2 [0/60000 (0%)]\tLoss: 0.442929\n",
      "Train Epoch: 2 [640/60000 (1%)]\tLoss: 0.476259\n",
      "Train Epoch: 2 [1280/60000 (2%)]\tLoss: 0.388225\n",
      "Train Epoch: 2 [1920/60000 (3%)]\tLoss: 0.444934\n",
      "Train Epoch: 2 [2560/60000 (4%)]\tLoss: 0.562698\n",
      "Train Epoch: 2 [3200/60000 (5%)]\tLoss: 0.386416\n",
      "Train Epoch: 2 [3840/60000 (6%)]\tLoss: 0.518832\n",
      "Train Epoch: 2 [4480/60000 (7%)]\tLoss: 0.637842\n",
      "Train Epoch: 2 [5120/60000 (9%)]\tLoss: 0.281226\n",
      "Train Epoch: 2 [5760/60000 (10%)]\tLoss: 0.310199\n",
      "Train Epoch: 2 [6400/60000 (11%)]\tLoss: 0.284585\n",
      "Train Epoch: 2 [7040/60000 (12%)]\tLoss: 0.266071\n",
      "Train Epoch: 2 [7680/60000 (13%)]\tLoss: 0.592984\n",
      "Train Epoch: 2 [8320/60000 (14%)]\tLoss: 0.430107\n",
      "Train Epoch: 2 [8960/60000 (15%)]\tLoss: 0.766410\n",
      "Train Epoch: 2 [9600/60000 (16%)]\tLoss: 0.593291\n",
      "Train Epoch: 2 [10240/60000 (17%)]\tLoss: 0.538406\n",
      "Train Epoch: 2 [10880/60000 (18%)]\tLoss: 0.293754\n",
      "Train Epoch: 2 [11520/60000 (19%)]\tLoss: 0.310856\n",
      "Train Epoch: 2 [12160/60000 (20%)]\tLoss: 0.483224\n",
      "Train Epoch: 2 [12800/60000 (21%)]\tLoss: 0.385378\n",
      "Train Epoch: 2 [13440/60000 (22%)]\tLoss: 0.434314\n",
      "Train Epoch: 2 [14080/60000 (23%)]\tLoss: 0.376988\n",
      "Train Epoch: 2 [14720/60000 (25%)]\tLoss: 0.514436\n",
      "Train Epoch: 2 [15360/60000 (26%)]\tLoss: 0.383160\n",
      "Train Epoch: 2 [16000/60000 (27%)]\tLoss: 0.433341\n",
      "Train Epoch: 2 [16640/60000 (28%)]\tLoss: 0.393224\n",
      "Train Epoch: 2 [17280/60000 (29%)]\tLoss: 0.295011\n",
      "Train Epoch: 2 [17920/60000 (30%)]\tLoss: 0.321295\n",
      "Train Epoch: 2 [18560/60000 (31%)]\tLoss: 0.248366\n",
      "Train Epoch: 2 [19200/60000 (32%)]\tLoss: 0.489245\n",
      "Train Epoch: 2 [19840/60000 (33%)]\tLoss: 0.379294\n",
      "Train Epoch: 2 [20480/60000 (34%)]\tLoss: 0.285190\n",
      "Train Epoch: 2 [21120/60000 (35%)]\tLoss: 0.451971\n",
      "Train Epoch: 2 [21760/60000 (36%)]\tLoss: 0.247765\n",
      "Train Epoch: 2 [22400/60000 (37%)]\tLoss: 0.307335\n",
      "Train Epoch: 2 [23040/60000 (38%)]\tLoss: 0.475803\n",
      "Train Epoch: 2 [23680/60000 (39%)]\tLoss: 0.514929\n",
      "Train Epoch: 2 [24320/60000 (41%)]\tLoss: 0.403233\n",
      "Train Epoch: 2 [24960/60000 (42%)]\tLoss: 0.494396\n",
      "Train Epoch: 2 [25600/60000 (43%)]\tLoss: 0.296471\n",
      "Train Epoch: 2 [26240/60000 (44%)]\tLoss: 0.508298\n",
      "Train Epoch: 2 [26880/60000 (45%)]\tLoss: 0.308333\n",
      "Train Epoch: 2 [27520/60000 (46%)]\tLoss: 0.406546\n",
      "Train Epoch: 2 [28160/60000 (47%)]\tLoss: 0.393455\n",
      "Train Epoch: 2 [28800/60000 (48%)]\tLoss: 0.342295\n",
      "Train Epoch: 2 [29440/60000 (49%)]\tLoss: 0.241343\n",
      "Train Epoch: 2 [30080/60000 (50%)]\tLoss: 0.432961\n",
      "Train Epoch: 2 [30720/60000 (51%)]\tLoss: 0.723951\n",
      "Train Epoch: 2 [31360/60000 (52%)]\tLoss: 0.337503\n",
      "Train Epoch: 2 [32000/60000 (53%)]\tLoss: 0.462915\n",
      "Train Epoch: 2 [32640/60000 (54%)]\tLoss: 0.346568\n",
      "Train Epoch: 2 [33280/60000 (55%)]\tLoss: 0.193398\n",
      "Train Epoch: 2 [33920/60000 (57%)]\tLoss: 0.244011\n",
      "Train Epoch: 2 [34560/60000 (58%)]\tLoss: 0.395050\n",
      "Train Epoch: 2 [35200/60000 (59%)]\tLoss: 0.357964\n",
      "Train Epoch: 2 [35840/60000 (60%)]\tLoss: 0.134107\n",
      "Train Epoch: 2 [36480/60000 (61%)]\tLoss: 0.311434\n",
      "Train Epoch: 2 [37120/60000 (62%)]\tLoss: 0.438773\n",
      "Train Epoch: 2 [37760/60000 (63%)]\tLoss: 0.464696\n",
      "Train Epoch: 2 [38400/60000 (64%)]\tLoss: 0.219039\n",
      "Train Epoch: 2 [39040/60000 (65%)]\tLoss: 0.448317\n",
      "Train Epoch: 2 [39680/60000 (66%)]\tLoss: 0.293788\n",
      "Train Epoch: 2 [40320/60000 (67%)]\tLoss: 0.285694\n",
      "Train Epoch: 2 [40960/60000 (68%)]\tLoss: 0.226139\n",
      "Train Epoch: 2 [41600/60000 (69%)]\tLoss: 0.294542\n",
      "Train Epoch: 2 [42240/60000 (70%)]\tLoss: 0.267621\n",
      "Train Epoch: 2 [42880/60000 (71%)]\tLoss: 0.424496\n",
      "Train Epoch: 2 [43520/60000 (72%)]\tLoss: 0.288972\n"
     ]
    },
    {
     "name": "stdout",
     "output_type": "stream",
     "text": [
      "Train Epoch: 2 [44160/60000 (74%)]\tLoss: 0.271426\n",
      "Train Epoch: 2 [44800/60000 (75%)]\tLoss: 0.282481\n",
      "Train Epoch: 2 [45440/60000 (76%)]\tLoss: 0.303695\n",
      "Train Epoch: 2 [46080/60000 (77%)]\tLoss: 0.251624\n",
      "Train Epoch: 2 [46720/60000 (78%)]\tLoss: 0.352667\n",
      "Train Epoch: 2 [47360/60000 (79%)]\tLoss: 0.239515\n",
      "Train Epoch: 2 [48000/60000 (80%)]\tLoss: 0.273371\n",
      "Train Epoch: 2 [48640/60000 (81%)]\tLoss: 0.486889\n",
      "Train Epoch: 2 [49280/60000 (82%)]\tLoss: 0.311224\n",
      "Train Epoch: 2 [49920/60000 (83%)]\tLoss: 0.296303\n",
      "Train Epoch: 2 [50560/60000 (84%)]\tLoss: 0.333306\n",
      "Train Epoch: 2 [51200/60000 (85%)]\tLoss: 0.205246\n",
      "Train Epoch: 2 [51840/60000 (86%)]\tLoss: 0.256252\n",
      "Train Epoch: 2 [52480/60000 (87%)]\tLoss: 0.256199\n",
      "Train Epoch: 2 [53120/60000 (88%)]\tLoss: 0.224454\n",
      "Train Epoch: 2 [53760/60000 (90%)]\tLoss: 0.234943\n",
      "Train Epoch: 2 [54400/60000 (91%)]\tLoss: 0.166538\n",
      "Train Epoch: 2 [55040/60000 (92%)]\tLoss: 0.418010\n",
      "Train Epoch: 2 [55680/60000 (93%)]\tLoss: 0.233936\n",
      "Train Epoch: 2 [56320/60000 (94%)]\tLoss: 0.407805\n",
      "Train Epoch: 2 [56960/60000 (95%)]\tLoss: 0.294017\n",
      "Train Epoch: 2 [57600/60000 (96%)]\tLoss: 0.272643\n",
      "Train Epoch: 2 [58240/60000 (97%)]\tLoss: 0.269586\n",
      "Train Epoch: 2 [58880/60000 (98%)]\tLoss: 0.436514\n",
      "Train Epoch: 2 [59520/60000 (99%)]\tLoss: 0.359599\n",
      "\n",
      "Test set: Avg. loss: 0.1193, Accuracy: 9630/10000 (96%)\n",
      "\n",
      "Train Epoch: 3 [0/60000 (0%)]\tLoss: 0.341904\n",
      "Train Epoch: 3 [640/60000 (1%)]\tLoss: 0.450105\n",
      "Train Epoch: 3 [1280/60000 (2%)]\tLoss: 0.217665\n",
      "Train Epoch: 3 [1920/60000 (3%)]\tLoss: 0.270058\n",
      "Train Epoch: 3 [2560/60000 (4%)]\tLoss: 0.448814\n",
      "Train Epoch: 3 [3200/60000 (5%)]\tLoss: 0.514753\n",
      "Train Epoch: 3 [3840/60000 (6%)]\tLoss: 0.394474\n",
      "Train Epoch: 3 [4480/60000 (7%)]\tLoss: 0.450005\n",
      "Train Epoch: 3 [5120/60000 (9%)]\tLoss: 0.330746\n",
      "Train Epoch: 3 [5760/60000 (10%)]\tLoss: 0.289705\n",
      "Train Epoch: 3 [6400/60000 (11%)]\tLoss: 0.437049\n",
      "Train Epoch: 3 [7040/60000 (12%)]\tLoss: 0.210991\n",
      "Train Epoch: 3 [7680/60000 (13%)]\tLoss: 0.402821\n",
      "Train Epoch: 3 [8320/60000 (14%)]\tLoss: 0.303953\n",
      "Train Epoch: 3 [8960/60000 (15%)]\tLoss: 0.243029\n",
      "Train Epoch: 3 [9600/60000 (16%)]\tLoss: 0.462083\n",
      "Train Epoch: 3 [10240/60000 (17%)]\tLoss: 0.501158\n",
      "Train Epoch: 3 [10880/60000 (18%)]\tLoss: 0.195492\n",
      "Train Epoch: 3 [11520/60000 (19%)]\tLoss: 0.338389\n",
      "Train Epoch: 3 [12160/60000 (20%)]\tLoss: 0.196027\n",
      "Train Epoch: 3 [12800/60000 (21%)]\tLoss: 0.335667\n",
      "Train Epoch: 3 [13440/60000 (22%)]\tLoss: 0.192382\n",
      "Train Epoch: 3 [14080/60000 (23%)]\tLoss: 0.360325\n",
      "Train Epoch: 3 [14720/60000 (25%)]\tLoss: 0.213025\n",
      "Train Epoch: 3 [15360/60000 (26%)]\tLoss: 0.273123\n",
      "Train Epoch: 3 [16000/60000 (27%)]\tLoss: 0.511990\n",
      "Train Epoch: 3 [16640/60000 (28%)]\tLoss: 0.257216\n",
      "Train Epoch: 3 [17280/60000 (29%)]\tLoss: 0.206121\n",
      "Train Epoch: 3 [17920/60000 (30%)]\tLoss: 0.433933\n",
      "Train Epoch: 3 [18560/60000 (31%)]\tLoss: 0.329246\n",
      "Train Epoch: 3 [19200/60000 (32%)]\tLoss: 0.481453\n",
      "Train Epoch: 3 [19840/60000 (33%)]\tLoss: 0.192078\n",
      "Train Epoch: 3 [20480/60000 (34%)]\tLoss: 0.431733\n",
      "Train Epoch: 3 [21120/60000 (35%)]\tLoss: 0.223838\n",
      "Train Epoch: 3 [21760/60000 (36%)]\tLoss: 0.243043\n",
      "Train Epoch: 3 [22400/60000 (37%)]\tLoss: 0.302887\n",
      "Train Epoch: 3 [23040/60000 (38%)]\tLoss: 0.338055\n",
      "Train Epoch: 3 [23680/60000 (39%)]\tLoss: 0.420739\n",
      "Train Epoch: 3 [24320/60000 (41%)]\tLoss: 0.464554\n",
      "Train Epoch: 3 [24960/60000 (42%)]\tLoss: 0.231758\n",
      "Train Epoch: 3 [25600/60000 (43%)]\tLoss: 0.291044\n",
      "Train Epoch: 3 [26240/60000 (44%)]\tLoss: 0.347901\n",
      "Train Epoch: 3 [26880/60000 (45%)]\tLoss: 0.204211\n",
      "Train Epoch: 3 [27520/60000 (46%)]\tLoss: 0.290871\n",
      "Train Epoch: 3 [28160/60000 (47%)]\tLoss: 0.225421\n",
      "Train Epoch: 3 [28800/60000 (48%)]\tLoss: 0.489370\n",
      "Train Epoch: 3 [29440/60000 (49%)]\tLoss: 0.338432\n",
      "Train Epoch: 3 [30080/60000 (50%)]\tLoss: 0.339056\n",
      "Train Epoch: 3 [30720/60000 (51%)]\tLoss: 0.150942\n",
      "Train Epoch: 3 [31360/60000 (52%)]\tLoss: 0.154802\n",
      "Train Epoch: 3 [32000/60000 (53%)]\tLoss: 0.287758\n",
      "Train Epoch: 3 [32640/60000 (54%)]\tLoss: 0.404144\n",
      "Train Epoch: 3 [33280/60000 (55%)]\tLoss: 0.094327\n",
      "Train Epoch: 3 [33920/60000 (57%)]\tLoss: 0.360723\n",
      "Train Epoch: 3 [34560/60000 (58%)]\tLoss: 0.319908\n",
      "Train Epoch: 3 [35200/60000 (59%)]\tLoss: 0.207637\n",
      "Train Epoch: 3 [35840/60000 (60%)]\tLoss: 0.248449\n",
      "Train Epoch: 3 [36480/60000 (61%)]\tLoss: 0.085779\n",
      "Train Epoch: 3 [37120/60000 (62%)]\tLoss: 0.209335\n",
      "Train Epoch: 3 [37760/60000 (63%)]\tLoss: 0.310149\n",
      "Train Epoch: 3 [38400/60000 (64%)]\tLoss: 0.350032\n",
      "Train Epoch: 3 [39040/60000 (65%)]\tLoss: 0.147236\n",
      "Train Epoch: 3 [39680/60000 (66%)]\tLoss: 0.447995\n",
      "Train Epoch: 3 [40320/60000 (67%)]\tLoss: 0.321659\n",
      "Train Epoch: 3 [40960/60000 (68%)]\tLoss: 0.495142\n",
      "Train Epoch: 3 [41600/60000 (69%)]\tLoss: 0.133400\n",
      "Train Epoch: 3 [42240/60000 (70%)]\tLoss: 0.330488\n",
      "Train Epoch: 3 [42880/60000 (71%)]\tLoss: 0.382415\n",
      "Train Epoch: 3 [43520/60000 (72%)]\tLoss: 0.151389\n",
      "Train Epoch: 3 [44160/60000 (74%)]\tLoss: 0.210932\n",
      "Train Epoch: 3 [44800/60000 (75%)]\tLoss: 0.195151\n",
      "Train Epoch: 3 [45440/60000 (76%)]\tLoss: 0.372960\n",
      "Train Epoch: 3 [46080/60000 (77%)]\tLoss: 0.276669\n",
      "Train Epoch: 3 [46720/60000 (78%)]\tLoss: 0.294910\n",
      "Train Epoch: 3 [47360/60000 (79%)]\tLoss: 0.492271\n",
      "Train Epoch: 3 [48000/60000 (80%)]\tLoss: 0.221565\n",
      "Train Epoch: 3 [48640/60000 (81%)]\tLoss: 0.291991\n",
      "Train Epoch: 3 [49280/60000 (82%)]\tLoss: 0.186303\n",
      "Train Epoch: 3 [49920/60000 (83%)]\tLoss: 0.305959\n",
      "Train Epoch: 3 [50560/60000 (84%)]\tLoss: 0.188810\n",
      "Train Epoch: 3 [51200/60000 (85%)]\tLoss: 0.138522\n",
      "Train Epoch: 3 [51840/60000 (86%)]\tLoss: 0.246094\n",
      "Train Epoch: 3 [52480/60000 (87%)]\tLoss: 0.320741\n",
      "Train Epoch: 3 [53120/60000 (88%)]\tLoss: 0.177841\n",
      "Train Epoch: 3 [53760/60000 (90%)]\tLoss: 0.297510\n",
      "Train Epoch: 3 [54400/60000 (91%)]\tLoss: 0.326640\n",
      "Train Epoch: 3 [55040/60000 (92%)]\tLoss: 0.301093\n",
      "Train Epoch: 3 [55680/60000 (93%)]\tLoss: 0.128437\n",
      "Train Epoch: 3 [56320/60000 (94%)]\tLoss: 0.288351\n",
      "Train Epoch: 3 [56960/60000 (95%)]\tLoss: 0.424791\n",
      "Train Epoch: 3 [57600/60000 (96%)]\tLoss: 0.272859\n",
      "Train Epoch: 3 [58240/60000 (97%)]\tLoss: 0.213215\n",
      "Train Epoch: 3 [58880/60000 (98%)]\tLoss: 0.499370\n",
      "Train Epoch: 3 [59520/60000 (99%)]\tLoss: 0.316427\n",
      "\n",
      "Test set: Avg. loss: 0.0933, Accuracy: 9705/10000 (97%)\n",
      "\n",
      "Wall time: 2min 31s\n"
     ]
    }
   ],
   "source": [
    "%%time\n",
    "test(conv_network, conv_test_losses)\n",
    "for epoch in range(1, n_epochs + 1):\n",
    "  train(conv_network, optimizer, epoch, conv_train_losses, conv_train_counter, True)\n",
    "  test(conv_network, conv_test_losses)"
   ]
  },
  {
   "cell_type": "code",
   "execution_count": 38,
   "metadata": {
    "colab": {
     "base_uri": "https://localhost:8080/",
     "height": 296
    },
    "colab_type": "code",
    "executionInfo": {
     "elapsed": 918,
     "status": "ok",
     "timestamp": 1575649916567,
     "user": {
      "displayName": "Alexander Sirotkin",
      "photoUrl": "https://lh3.googleusercontent.com/a-/AAuE7mBW7qmOqzB60j6niGnWLtaFoN8n0CAZDyJwBIqg-Q=s64",
      "userId": "04912911250217261721"
     },
     "user_tz": -180
    },
    "id": "D_dWDMaho0-z",
    "outputId": "a92c34ce-1611-41e3-b083-9cbb45967a71"
   },
   "outputs": [
    {
     "data": {
      "text/plain": [
       "Text(0, 0.5, 'negative log likelihood loss')"
      ]
     },
     "execution_count": 38,
     "metadata": {
      "tags": []
     },
     "output_type": "execute_result"
    },
    {
     "data": {
      "image/png": "[encoded data removed]",
      "text/plain": [
       "<Figure size 432x288 with 1 Axes>"
      ]
     },
     "metadata": {
      "tags": []
     },
     "output_type": "display_data"
    }
   ],
   "source": [
    "fig = plt.figure()\n",
    "plt.plot(train_counter, train_losses, color='blue')\n",
    "plt.scatter(test_counter, test_losses, color='red')\n",
    "plt.plot(conv_train_counter, conv_train_losses, color='yellow')\n",
    "plt.scatter(conv_test_counter, conv_test_losses, color='green')\n",
    "plt.legend(['Train Loss', 'Test Loss', 'Conv Train Loss', 'Conv Test Loss'], loc='upper right')\n",
    "plt.xlabel('number of training examples seen')\n",
    "plt.ylabel('negative log likelihood loss')"
   ]
  },
  {
   "cell_type": "code",
   "execution_count": 0,
   "metadata": {
    "colab": {},
    "colab_type": "code",
    "id": "iXQ801P7xvN1"
   },
   "outputs": [],
   "source": []
  },
  {
   "cell_type": "code",
   "execution_count": 0,
   "metadata": {
    "colab": {},
    "colab_type": "code",
    "id": "JBkhxmB8x3Zg"
   },
   "outputs": [],
   "source": []
  },
  {
   "cell_type": "code",
   "execution_count": 0,
   "metadata": {
    "colab": {},
    "colab_type": "code",
    "id": "GWxYk0aHx7Xz"
   },
   "outputs": [],
   "source": []
  }
 ],
 "metadata": {
  "colab": {
   "collapsed_sections": [],
   "name": "MNIST.ipynb",
   "provenance": []
  },
  "kernelspec": {
   "display_name": "Python 3",
   "language": "python",
   "name": "python3"
  },
  "language_info": {
   "codemirror_mode": {
    "name": "ipython",
    "version": 3
   },
   "file_extension": ".py",
   "mimetype": "text/x-python",
   "name": "python",
   "nbconvert_exporter": "python",
   "pygments_lexer": "ipython3",
   "version": "3.7.4"
  }
 },
 "nbformat": 4,
 "nbformat_minor": 1
}

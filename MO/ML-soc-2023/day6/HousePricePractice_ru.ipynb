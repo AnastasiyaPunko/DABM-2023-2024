{
 "cells": [
  {
   "cell_type": "markdown",
   "metadata": {
    "colab_type": "text",
    "id": "EO8hcuRmcVPk"
   },
   "source": [
    "Сегодня у нас практическое занятие посвященное общей схеме анализа данных.\n",
    "Работаем с данными по стоимости недвижимости с соревнования https://www.kaggle.com/c/house-prices-advanced-regression-techniques\n"
   ]
  },
  {
   "cell_type": "code",
   "execution_count": 0,
   "metadata": {
    "colab": {},
    "colab_type": "code",
    "id": "_bvKa93uSy0e"
   },
   "outputs": [],
   "source": [
    "import pandas as pd"
   ]
  },
  {
   "cell_type": "code",
   "execution_count": 0,
   "metadata": {
    "colab": {},
    "colab_type": "code",
    "id": "ZGwOmsxkXalI"
   },
   "outputs": [],
   "source": [
    "HouseData = pd.read_csv(\"https://raw.githubusercontent.com/AVSirotkin/data_for_classes/master/HousePrices/train.csv\")\n",
    "DataForPrediction = pd.read_csv(\"https://raw.githubusercontent.com/AVSirotkin/data_for_classes/master/HousePrices/test.csv\")"
   ]
  },
  {
   "cell_type": "markdown",
   "metadata": {
    "colab_type": "text",
    "id": "z0DpHQ4ygSPJ"
   },
   "source": [
    "Проведите предварительный анализ. Посмотрите на пропущенные данные. На данном этапе уберите все столбцы в которых пропущено не менее половины данных."
   ]
  },
  {
   "cell_type": "code",
   "execution_count": 0,
   "metadata": {
    "colab": {},
    "colab_type": "code",
    "id": "dZ2tY7eAXair"
   },
   "outputs": [],
   "source": [
    "HouseData.info()"
   ]
  },
  {
   "cell_type": "code",
   "execution_count": 0,
   "metadata": {
    "colab": {},
    "colab_type": "code",
    "id": "b2jzm7hIhxcA"
   },
   "outputs": [],
   "source": [
    "#ваш код здесь"
   ]
  },
  {
   "cell_type": "markdown",
   "metadata": {
    "colab_type": "text",
    "id": "OwVW_tXbhE7e"
   },
   "source": [
    "Из описания данных и из информации которая у нас есть решите какие данные действительно числовые, а какие на самом деле категориальные. Преобразуйте категориальные данные в тип object."
   ]
  },
  {
   "cell_type": "code",
   "execution_count": 0,
   "metadata": {
    "colab": {},
    "colab_type": "code",
    "id": "SJLSoZztXaeW"
   },
   "outputs": [],
   "source": [
    "#ваш код здесь"
   ]
  },
  {
   "cell_type": "markdown",
   "metadata": {
    "colab_type": "text",
    "id": "3ynwkoHvh2IX"
   },
   "source": [
    "Так как в нашей задаче используется логарифмическая ошибка, то логарифмируйте цену."
   ]
  },
  {
   "cell_type": "code",
   "execution_count": 0,
   "metadata": {
    "colab": {},
    "colab_type": "code",
    "id": "Gzu3OjeChDya"
   },
   "outputs": [],
   "source": []
  },
  {
   "cell_type": "markdown",
   "metadata": {
    "colab_type": "text",
    "id": "PrR8j0vHieiU"
   },
   "source": [
    "Попробуйте визуализировать данные. Предложите для всех полей графики, которые могли бы помочь понять есть ли связь между переменной и логарифмом цены. По результатам визуализации выбирете 10-15 полей, которые на ваш взгляд наиболее сильно связаны с ценой."
   ]
  },
  {
   "cell_type": "code",
   "execution_count": 0,
   "metadata": {
    "colab": {},
    "colab_type": "code",
    "id": "Fwv7UMzyidU9"
   },
   "outputs": [],
   "source": [
    "#ваш код здесь"
   ]
  },
  {
   "cell_type": "code",
   "execution_count": 0,
   "metadata": {
    "colab": {},
    "colab_type": "code",
    "id": "15zVsUSWh1mB"
   },
   "outputs": [],
   "source": []
  },
  {
   "cell_type": "markdown",
   "metadata": {
    "colab_type": "text",
    "id": "_1i0WFssjdax"
   },
   "source": [
    "Дальше работаем только с выбранными переменными. Оставьте только их."
   ]
  },
  {
   "cell_type": "code",
   "execution_count": 0,
   "metadata": {
    "colab": {},
    "colab_type": "code",
    "id": "i8e-wajRjqFp"
   },
   "outputs": [],
   "source": [
    "#ваш код здесь"
   ]
  },
  {
   "cell_type": "markdown",
   "metadata": {
    "colab_type": "text",
    "id": "NndEjhnbjrZV"
   },
   "source": [
    "Разбейте данные на тестовую (25%) и обучающую (75%) выборку."
   ]
  },
  {
   "cell_type": "code",
   "execution_count": 0,
   "metadata": {
    "colab": {},
    "colab_type": "code",
    "id": "C9ZnsaWOkMRJ"
   },
   "outputs": [],
   "source": [
    "#ваш код здесь"
   ]
  },
  {
   "cell_type": "markdown",
   "metadata": {
    "colab_type": "text",
    "id": "qR0loaa0kNO5"
   },
   "source": [
    "Попробуйте построить следующие модели:\n",
    "\n",
    "Ridge и Lasso регрессию, выбрав параметр регуляризации с помошью кросcвалидации.\n",
    "\n",
    "RandomForest, подобрав количество деревьев, их глубину, количество используемых фич в каждом дереве и минимальное число примеров в каждом листе с помощью кросс-валидации, например, используя greed_search() "
   ]
  },
  {
   "cell_type": "code",
   "execution_count": 0,
   "metadata": {
    "colab": {},
    "colab_type": "code",
    "id": "E9bnrsR6m6Th"
   },
   "outputs": [],
   "source": []
  },
  {
   "cell_type": "markdown",
   "metadata": {
    "colab_type": "text",
    "id": "epjfpE3tm7Qv"
   },
   "source": [
    "Сравните 3 получившихся модели. Какая из них лучше?"
   ]
  },
  {
   "cell_type": "code",
   "execution_count": 0,
   "metadata": {
    "colab": {},
    "colab_type": "code",
    "id": "-olliBB5niE5"
   },
   "outputs": [],
   "source": []
  },
  {
   "cell_type": "markdown",
   "metadata": {
    "colab_type": "text",
    "id": "55h_LImDnvL4"
   },
   "source": [
    "Разбейте тестовую выборку на две части валидация (60% от тестовой выборки) и финальный тест (40%).\n"
   ]
  },
  {
   "cell_type": "code",
   "execution_count": 0,
   "metadata": {
    "colab": {},
    "colab_type": "code",
    "id": "PKtPqqyGodpL"
   },
   "outputs": [],
   "source": []
  },
  {
   "cell_type": "markdown",
   "metadata": {
    "colab_type": "text",
    "id": "ivvY2_uYoepU"
   },
   "source": [
    "Обучите на валидационной выборке линейную регрессию, используя в качестве пременных прогнозы всех трех ранее построенных моделей.\n",
    "\n",
    "Стала ли такая модель работать лучше, чем каждая по отдельности?"
   ]
  },
  {
   "cell_type": "code",
   "execution_count": 0,
   "metadata": {
    "colab": {},
    "colab_type": "code",
    "id": "0TUjIyxVoz9E"
   },
   "outputs": [],
   "source": []
  },
  {
   "cell_type": "markdown",
   "metadata": {
    "colab_type": "text",
    "id": "6Ch09KlDpFsO"
   },
   "source": [
    "Поробуйте еще как-нибудь скомбинировать выходы трех моделей, например среднее геометрическое."
   ]
  },
  {
   "cell_type": "code",
   "execution_count": 0,
   "metadata": {
    "colab": {},
    "colab_type": "code",
    "id": "DzKummZBpS7Y"
   },
   "outputs": [],
   "source": []
  },
  {
   "cell_type": "markdown",
   "metadata": {
    "colab_type": "text",
    "id": "ime-6IgfpT4M"
   },
   "source": [
    "Сравните все получившиеся модели на финальном тесте. Какая работает лучше?"
   ]
  },
  {
   "cell_type": "code",
   "execution_count": 0,
   "metadata": {
    "colab": {},
    "colab_type": "code",
    "id": "m4B1LdQaplzl"
   },
   "outputs": [],
   "source": []
  },
  {
   "cell_type": "markdown",
   "metadata": {
    "colab_type": "text",
    "id": "_vFBTse4pmpD"
   },
   "source": [
    "В качестве бонуса можете использовать вашу лучшую модель для предсказания результатов на DataForPrediction. Получившиеся прогнозы можно загрузить на Kaggle и сравнить свои результаты с другими."
   ]
  },
  {
   "cell_type": "code",
   "execution_count": 0,
   "metadata": {
    "colab": {},
    "colab_type": "code",
    "id": "im2hDBlQp_Zt"
   },
   "outputs": [],
   "source": []
  }
 ],
 "metadata": {
  "colab": {
   "collapsed_sections": [],
   "name": "HousePricePractice.ipynb",
   "provenance": []
  },
  "kernelspec": {
   "display_name": "Python 3",
   "language": "python",
   "name": "python3"
  },
  "language_info": {
   "codemirror_mode": {
    "name": "ipython",
    "version": 3
   },
   "file_extension": ".py",
   "mimetype": "text/x-python",
   "name": "python",
   "nbconvert_exporter": "python",
   "pygments_lexer": "ipython3",
   "version": "3.7.4"
  }
 },
 "nbformat": 4,
 "nbformat_minor": 1
}

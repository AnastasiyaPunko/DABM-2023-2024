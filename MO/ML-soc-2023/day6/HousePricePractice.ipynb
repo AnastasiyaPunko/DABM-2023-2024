{
 "cells": [
  {
   "cell_type": "markdown",
   "metadata": {
    "colab_type": "text",
    "id": "EO8hcuRmcVPk"
   },
   "source": [
    "Today we have a practical lesson dedicated to the general scheme of data analysis.\n",
    "Working with real estate price data from the competition https://www.kaggle.com/c/house-prices-advanced-regression-techniques\n"
   ]
  },
  {
   "cell_type": "code",
   "execution_count": 0,
   "metadata": {
    "colab": {},
    "colab_type": "code",
    "id": "_bvKa93uSy0e"
   },
   "outputs": [],
   "source": [
    "import pandas as pd"
   ]
  },
  {
   "cell_type": "code",
   "execution_count": 0,
   "metadata": {
    "colab": {},
    "colab_type": "code",
    "id": "ZGwOmsxkXalI"
   },
   "outputs": [],
   "source": [
    "HouseData = pd.read_csv(\"https://raw.githubusercontent.com/AVSirotkin/data_for_classes/master/HousePrices/train.csv\")\n",
    "DataForPrediction = pd.read_csv(\"https://raw.githubusercontent.com/AVSirotkin/data_for_classes/master/HousePrices/test.csv\")"
   ]
  },
  {
   "cell_type": "markdown",
   "metadata": {
    "colab_type": "text",
    "id": "z0DpHQ4ygSPJ"
   },
   "source": [
    "Do a preliminary analysis. Look for missing data. At this point, remove all columns that are missing at least half of the data."
   ]
  },
  {
   "cell_type": "code",
   "execution_count": 0,
   "metadata": {
    "colab": {},
    "colab_type": "code",
    "id": "dZ2tY7eAXair"
   },
   "outputs": [],
   "source": [
    "HouseData.info()"
   ]
  },
  {
   "cell_type": "code",
   "execution_count": 0,
   "metadata": {
    "colab": {},
    "colab_type": "code",
    "id": "b2jzm7hIhxcA"
   },
   "outputs": [],
   "source": []
  },
  {
   "cell_type": "markdown",
   "metadata": {
    "colab_type": "text",
    "id": "OwVW_tXbhE7e"
   },
   "source": [
    "From the description of the data and from the information we have, decide which data is truly numeric and which is actually categorical. Convert categorical data to type object."
   ]
  },
  {
   "cell_type": "code",
   "execution_count": 0,
   "metadata": {
    "colab": {},
    "colab_type": "code",
    "id": "SJLSoZztXaeW"
   },
   "outputs": [],
   "source": []
  },
  {
   "cell_type": "markdown",
   "metadata": {
    "colab_type": "text",
    "id": "3ynwkoHvh2IX"
   },
   "source": [
    "Since our problem uses a logarithmic error, take the logarithm of the price."
   ]
  },
  {
   "cell_type": "code",
   "execution_count": 0,
   "metadata": {
    "colab": {},
    "colab_type": "code",
    "id": "Gzu3OjeChDya"
   },
   "outputs": [],
   "source": []
  },
  {
   "cell_type": "markdown",
   "metadata": {
    "colab_type": "text",
    "id": "PrR8j0vHieiU"
   },
   "source": [
    "Try to visualize the data. Suggest for all fields graphs that could help to understand if there is a relationship between the variable and the logarithm of the price. Based on the visualization results, select 10-15 fields that, in your opinion, are most strongly related to the price."
   ]
  },
  {
   "cell_type": "code",
   "execution_count": 0,
   "metadata": {
    "colab": {},
    "colab_type": "code",
    "id": "Fwv7UMzyidU9"
   },
   "outputs": [],
   "source": []
  },
  {
   "cell_type": "code",
   "execution_count": 0,
   "metadata": {
    "colab": {},
    "colab_type": "code",
    "id": "15zVsUSWh1mB"
   },
   "outputs": [],
   "source": []
  },
  {
   "cell_type": "markdown",
   "metadata": {
    "colab_type": "text",
    "id": "_1i0WFssjdax"
   },
   "source": [
    "Further we work only with the selected variables. Leave only them."
   ]
  },
  {
   "cell_type": "code",
   "execution_count": 0,
   "metadata": {
    "colab": {},
    "colab_type": "code",
    "id": "i8e-wajRjqFp"
   },
   "outputs": [],
   "source": []
  },
  {
   "cell_type": "markdown",
   "metadata": {
    "colab_type": "text",
    "id": "NndEjhnbjrZV"
   },
   "source": [
    "Split the data into test (25%) and training (75%) samples."
   ]
  },
  {
   "cell_type": "code",
   "execution_count": 0,
   "metadata": {
    "colab": {},
    "colab_type": "code",
    "id": "C9ZnsaWOkMRJ"
   },
   "outputs": [],
   "source": []
  },
  {
   "cell_type": "markdown",
   "metadata": {
    "colab_type": "text",
    "id": "qR0loaa0kNO5"
   },
   "source": [
    "Try building the following models:\n",
    "\n",
    "Ridge and Lasso regression by choosing a regularization option using cross-validation.\n",
    "\n",
    "RandomForest by selecting the number of trees, their depth, the number of features used in each tree, and the minimum number of examples in each leaf using cross-validation, for example, using greed_search()"
   ]
  },
  {
   "cell_type": "code",
   "execution_count": 0,
   "metadata": {
    "colab": {},
    "colab_type": "code",
    "id": "E9bnrsR6m6Th"
   },
   "outputs": [],
   "source": []
  },
  {
   "cell_type": "markdown",
   "metadata": {
    "colab_type": "text",
    "id": "epjfpE3tm7Qv"
   },
   "source": [
    "Compare the 3 resulting models. Which one is better?"
   ]
  },
  {
   "cell_type": "code",
   "execution_count": 0,
   "metadata": {
    "colab": {},
    "colab_type": "code",
    "id": "-olliBB5niE5"
   },
   "outputs": [],
   "source": []
  },
  {
   "cell_type": "markdown",
   "metadata": {
    "colab_type": "text",
    "id": "55h_LImDnvL4"
   },
   "source": [
    "Divide the test set into two parts: validation (60% of the test set) and final test (40%).\n"
   ]
  },
  {
   "cell_type": "code",
   "execution_count": 0,
   "metadata": {
    "colab": {},
    "colab_type": "code",
    "id": "PKtPqqyGodpL"
   },
   "outputs": [],
   "source": []
  },
  {
   "cell_type": "markdown",
   "metadata": {
    "colab_type": "text",
    "id": "ivvY2_uYoepU"
   },
   "source": [
    "Train a linear regression on the validation set using the predictions of all three previously built models as variables.\n",
    "\n",
    "Has this model started to work better than either one on its own?"
   ]
  },
  {
   "cell_type": "code",
   "execution_count": 0,
   "metadata": {
    "colab": {},
    "colab_type": "code",
    "id": "0TUjIyxVoz9E"
   },
   "outputs": [],
   "source": []
  },
  {
   "cell_type": "markdown",
   "metadata": {
    "colab_type": "text",
    "id": "6Ch09KlDpFsO"
   },
   "source": [
    "Try some other way to combine the outputs of the three models, such as the geometric mean."
   ]
  },
  {
   "cell_type": "code",
   "execution_count": 0,
   "metadata": {
    "colab": {},
    "colab_type": "code",
    "id": "DzKummZBpS7Y"
   },
   "outputs": [],
   "source": []
  },
  {
   "cell_type": "markdown",
   "metadata": {
    "colab_type": "text",
    "id": "ime-6IgfpT4M"
   },
   "source": [
    "Compare all the resulting models on the final test. Which works best?"
   ]
  },
  {
   "cell_type": "code",
   "execution_count": 0,
   "metadata": {
    "colab": {},
    "colab_type": "code",
    "id": "m4B1LdQaplzl"
   },
   "outputs": [],
   "source": []
  },
  {
   "cell_type": "markdown",
   "metadata": {
    "colab_type": "text",
    "id": "_vFBTse4pmpD"
   },
   "source": [
    "As a bonus, you can use your best model to predict results on DataForPrediction. The resulting predictions can be uploaded to Kaggle and compared with others."
   ]
  },
  {
   "cell_type": "code",
   "execution_count": 0,
   "metadata": {
    "colab": {},
    "colab_type": "code",
    "id": "im2hDBlQp_Zt"
   },
   "outputs": [],
   "source": []
  }
 ],
 "metadata": {
  "colab": {
   "collapsed_sections": [],
   "name": "HousePricePractice.ipynb",
   "provenance": []
  },
  "kernelspec": {
   "display_name": "Python 3",
   "language": "python",
   "name": "python3"
  },
  "language_info": {
   "codemirror_mode": {
    "name": "ipython",
    "version": 3
   },
   "file_extension": ".py",
   "mimetype": "text/x-python",
   "name": "python",
   "nbconvert_exporter": "python",
   "pygments_lexer": "ipython3",
   "version": "3.7.4"
  }
 },
 "nbformat": 4,
 "nbformat_minor": 1
}

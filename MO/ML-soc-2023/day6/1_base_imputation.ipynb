{
 "cells": [
  {
   "cell_type": "markdown",
   "metadata": {},
   "source": [
    "## Missing Values and Imputing"
   ]
  },
  {
   "cell_type": "markdown",
   "metadata": {},
   "source": [
    "### Reasons for NA:\n",
    "1. **Data is Lost:** a common problem with the production date. The company changes servers, becomes overgrown with bureaucracy, digitizes slowly and in stages -> data will be lost.\n",
    "2. **Data is not captured:** normal history. For example, the respondent did not want to answer the question, or the metric was invented in the middle of the data collection process, and it is not cost-effective to restart the algorithm.\n",
    "3. **Wrong values present in Dataset:** when the values are explicit outlayers even in the intended population. For example, age 221, city of Moscow, etc. (often incorrectly working algorithms send random data or zeros, although in fact it is NA)\n",
    "   \n",
    "Another division:\n",
    "1. **Missing completely at random**\n",
    "2. **Missing at Random**\n",
    "3. **Missing not at random**\n",
    "\n",
    "*The more data is missing (MNAR), the more biased are the estimations*. That is why in ML tasks it is important to pay attention to missing data in the dataset before *training* models. What's more: many python packages don't work well with whitespace (try the `.mean` method on a `numpy` c na array and you'll be surprised)."
   ]
  },
  {
   "cell_type": "markdown",
   "metadata": {},
   "source": [
    "### Methods for working with NA (on the example of [dataset with penguins](https://www.kaggle.com/parulpandey/penguin-dataset-the-new-iris))"
   ]
  },
  {
   "cell_type": "code",
   "execution_count": 1,
   "metadata": {},
   "outputs": [
    {
     "name": "stdout",
     "output_type": "stream",
     "text": [
      "Requirement already satisfied: palmerpenguins in c:\\tools\\anaconda3\\lib\\site-packages (0.1.4)\n",
      "Requirement already satisfied: numpy in c:\\tools\\anaconda3\\lib\\site-packages (from palmerpenguins) (1.21.6)\n",
      "Requirement already satisfied: pandas in c:\\tools\\anaconda3\\lib\\site-packages (from palmerpenguins) (1.3.5)\n",
      "Requirement already satisfied: python-dateutil>=2.7.3 in c:\\tools\\anaconda3\\lib\\site-packages (from pandas->palmerpenguins) (2.8.0)\n",
      "Requirement already satisfied: pytz>=2017.3 in c:\\tools\\anaconda3\\lib\\site-packages (from pandas->palmerpenguins) (2019.3)\n",
      "Requirement already satisfied: six>=1.5 in c:\\tools\\anaconda3\\lib\\site-packages (from python-dateutil>=2.7.3->pandas->palmerpenguins) (1.13.0)\n",
      "\n",
      "[notice] A new release of pip available: 22.1.2 -> 23.1.2\n",
      "[notice] To update, run: python.exe -m pip install --upgrade pip\n"
     ]
    },
    {
     "name": "stderr",
     "output_type": "stream",
     "text": [
      "WARNING: Ignoring invalid distribution -umpy (c:\\tools\\anaconda3\\lib\\site-packages)\n",
      "WARNING: Ignoring invalid distribution -ordcloud (c:\\tools\\anaconda3\\lib\\site-packages)\n",
      "WARNING: Ignoring invalid distribution -cipy (c:\\tools\\anaconda3\\lib\\site-packages)\n",
      "WARNING: Ignoring invalid distribution -umpy (c:\\tools\\anaconda3\\lib\\site-packages)\n",
      "WARNING: Ignoring invalid distribution -ordcloud (c:\\tools\\anaconda3\\lib\\site-packages)\n",
      "WARNING: Ignoring invalid distribution -cipy (c:\\tools\\anaconda3\\lib\\site-packages)\n",
      "WARNING: Ignoring invalid distribution -umpy (c:\\tools\\anaconda3\\lib\\site-packages)\n",
      "WARNING: Ignoring invalid distribution -ordcloud (c:\\tools\\anaconda3\\lib\\site-packages)\n",
      "WARNING: Ignoring invalid distribution -cipy (c:\\tools\\anaconda3\\lib\\site-packages)\n",
      "WARNING: Ignoring invalid distribution -umpy (c:\\tools\\anaconda3\\lib\\site-packages)\n",
      "WARNING: Ignoring invalid distribution -ordcloud (c:\\tools\\anaconda3\\lib\\site-packages)\n",
      "WARNING: Ignoring invalid distribution -cipy (c:\\tools\\anaconda3\\lib\\site-packages)\n",
      "WARNING: Ignoring invalid distribution -umpy (c:\\tools\\anaconda3\\lib\\site-packages)\n",
      "WARNING: Ignoring invalid distribution -ordcloud (c:\\tools\\anaconda3\\lib\\site-packages)\n",
      "WARNING: Ignoring invalid distribution -cipy (c:\\tools\\anaconda3\\lib\\site-packages)\n",
      "WARNING: Ignoring invalid distribution -umpy (c:\\tools\\anaconda3\\lib\\site-packages)\n",
      "WARNING: Ignoring invalid distribution -ordcloud (c:\\tools\\anaconda3\\lib\\site-packages)\n",
      "WARNING: Ignoring invalid distribution -cipy (c:\\tools\\anaconda3\\lib\\site-packages)\n"
     ]
    }
   ],
   "source": [
    "! pip install palmerpenguins"
   ]
  },
  {
   "cell_type": "code",
   "execution_count": 17,
   "metadata": {},
   "outputs": [
    {
     "data": {
      "text/html": [
       "<div>\n",
       "<style scoped>\n",
       "    .dataframe tbody tr th:only-of-type {\n",
       "        vertical-align: middle;\n",
       "    }\n",
       "\n",
       "    .dataframe tbody tr th {\n",
       "        vertical-align: top;\n",
       "    }\n",
       "\n",
       "    .dataframe thead th {\n",
       "        text-align: right;\n",
       "    }\n",
       "</style>\n",
       "<table border=\"1\" class=\"dataframe\">\n",
       "  <thead>\n",
       "    <tr style=\"text-align: right;\">\n",
       "      <th></th>\n",
       "      <th>species</th>\n",
       "      <th>island</th>\n",
       "      <th>bill_length_mm</th>\n",
       "      <th>bill_depth_mm</th>\n",
       "      <th>flipper_length_mm</th>\n",
       "      <th>body_mass_g</th>\n",
       "      <th>sex</th>\n",
       "      <th>year</th>\n",
       "    </tr>\n",
       "  </thead>\n",
       "  <tbody>\n",
       "    <tr>\n",
       "      <th>0</th>\n",
       "      <td>Adelie</td>\n",
       "      <td>Torgersen</td>\n",
       "      <td>39.1</td>\n",
       "      <td>18.7</td>\n",
       "      <td>181.0</td>\n",
       "      <td>3750.0</td>\n",
       "      <td>male</td>\n",
       "      <td>2007</td>\n",
       "    </tr>\n",
       "    <tr>\n",
       "      <th>1</th>\n",
       "      <td>Adelie</td>\n",
       "      <td>Torgersen</td>\n",
       "      <td>39.5</td>\n",
       "      <td>17.4</td>\n",
       "      <td>186.0</td>\n",
       "      <td>3800.0</td>\n",
       "      <td>female</td>\n",
       "      <td>2007</td>\n",
       "    </tr>\n",
       "    <tr>\n",
       "      <th>2</th>\n",
       "      <td>Adelie</td>\n",
       "      <td>Torgersen</td>\n",
       "      <td>40.3</td>\n",
       "      <td>18.0</td>\n",
       "      <td>195.0</td>\n",
       "      <td>3250.0</td>\n",
       "      <td>female</td>\n",
       "      <td>2007</td>\n",
       "    </tr>\n",
       "    <tr>\n",
       "      <th>3</th>\n",
       "      <td>Adelie</td>\n",
       "      <td>Torgersen</td>\n",
       "      <td>NaN</td>\n",
       "      <td>NaN</td>\n",
       "      <td>NaN</td>\n",
       "      <td>NaN</td>\n",
       "      <td>NaN</td>\n",
       "      <td>2007</td>\n",
       "    </tr>\n",
       "    <tr>\n",
       "      <th>4</th>\n",
       "      <td>Adelie</td>\n",
       "      <td>Torgersen</td>\n",
       "      <td>36.7</td>\n",
       "      <td>19.3</td>\n",
       "      <td>193.0</td>\n",
       "      <td>3450.0</td>\n",
       "      <td>female</td>\n",
       "      <td>2007</td>\n",
       "    </tr>\n",
       "  </tbody>\n",
       "</table>\n",
       "</div>"
      ],
      "text/plain": [
       "  species     island  bill_length_mm  bill_depth_mm  flipper_length_mm  \\\n",
       "0  Adelie  Torgersen            39.1           18.7              181.0   \n",
       "1  Adelie  Torgersen            39.5           17.4              186.0   \n",
       "2  Adelie  Torgersen            40.3           18.0              195.0   \n",
       "3  Adelie  Torgersen             NaN            NaN                NaN   \n",
       "4  Adelie  Torgersen            36.7           19.3              193.0   \n",
       "\n",
       "   body_mass_g     sex  year  \n",
       "0       3750.0    male  2007  \n",
       "1       3800.0  female  2007  \n",
       "2       3250.0  female  2007  \n",
       "3          NaN     NaN  2007  \n",
       "4       3450.0  female  2007  "
      ]
     },
     "execution_count": 17,
     "metadata": {},
     "output_type": "execute_result"
    }
   ],
   "source": [
    "\n",
    "from palmerpenguins import load_penguins\n",
    "import pandas as pd\n",
    "import numpy as np \n",
    "import math\n",
    "\n",
    "df = load_penguins()\n",
    "df.head()"
   ]
  },
  {
   "cell_type": "code",
   "execution_count": 18,
   "metadata": {},
   "outputs": [
    {
     "name": "stdout",
     "output_type": "stream",
     "text": [
      "The length of the original dataset: 344\n"
     ]
    }
   ],
   "source": [
    "print(\"The length of the original dataset:\", len(df))"
   ]
  },
  {
   "cell_type": "markdown",
   "metadata": {},
   "source": [
    "#### 0. **Leave everything as it is** (if the algorithm ***can and knows how*** to work with gaps)"
   ]
  },
  {
   "cell_type": "markdown",
   "metadata": {
    "heading_collapsed": true
   },
   "source": [
    "#### 1. **Simple**: drop missing values.\n",
    "\n",
    "We discard rows/columns containing at least one/several/all NaNs.\n",
    "\n",
    "**+:** minimum cognitive load, maximum result.\n",
    "\n",
    "**--:** total rows with missing values can be so many that they eat up your dataset."
   ]
  },
  {
   "cell_type": "markdown",
   "metadata": {
    "hidden": true
   },
   "source": [
    "NB: don't forget about the option to call the function help - there might be options there that you need!"
   ]
  },
  {
   "cell_type": "code",
   "execution_count": 19,
   "metadata": {
    "hidden": true
   },
   "outputs": [
    {
     "data": {
      "text/html": [
       "<div>\n",
       "<style scoped>\n",
       "    .dataframe tbody tr th:only-of-type {\n",
       "        vertical-align: middle;\n",
       "    }\n",
       "\n",
       "    .dataframe tbody tr th {\n",
       "        vertical-align: top;\n",
       "    }\n",
       "\n",
       "    .dataframe thead th {\n",
       "        text-align: right;\n",
       "    }\n",
       "</style>\n",
       "<table border=\"1\" class=\"dataframe\">\n",
       "  <thead>\n",
       "    <tr style=\"text-align: right;\">\n",
       "      <th></th>\n",
       "      <th>species</th>\n",
       "      <th>island</th>\n",
       "      <th>bill_length_mm</th>\n",
       "      <th>bill_depth_mm</th>\n",
       "      <th>flipper_length_mm</th>\n",
       "      <th>body_mass_g</th>\n",
       "      <th>sex</th>\n",
       "      <th>year</th>\n",
       "    </tr>\n",
       "  </thead>\n",
       "  <tbody>\n",
       "    <tr>\n",
       "      <th>0</th>\n",
       "      <td>Adelie</td>\n",
       "      <td>Torgersen</td>\n",
       "      <td>39.1</td>\n",
       "      <td>18.7</td>\n",
       "      <td>181.0</td>\n",
       "      <td>3750.0</td>\n",
       "      <td>male</td>\n",
       "      <td>2007</td>\n",
       "    </tr>\n",
       "    <tr>\n",
       "      <th>1</th>\n",
       "      <td>Adelie</td>\n",
       "      <td>Torgersen</td>\n",
       "      <td>39.5</td>\n",
       "      <td>17.4</td>\n",
       "      <td>186.0</td>\n",
       "      <td>3800.0</td>\n",
       "      <td>female</td>\n",
       "      <td>2007</td>\n",
       "    </tr>\n",
       "    <tr>\n",
       "      <th>2</th>\n",
       "      <td>Adelie</td>\n",
       "      <td>Torgersen</td>\n",
       "      <td>40.3</td>\n",
       "      <td>18.0</td>\n",
       "      <td>195.0</td>\n",
       "      <td>3250.0</td>\n",
       "      <td>female</td>\n",
       "      <td>2007</td>\n",
       "    </tr>\n",
       "    <tr>\n",
       "      <th>4</th>\n",
       "      <td>Adelie</td>\n",
       "      <td>Torgersen</td>\n",
       "      <td>36.7</td>\n",
       "      <td>19.3</td>\n",
       "      <td>193.0</td>\n",
       "      <td>3450.0</td>\n",
       "      <td>female</td>\n",
       "      <td>2007</td>\n",
       "    </tr>\n",
       "    <tr>\n",
       "      <th>5</th>\n",
       "      <td>Adelie</td>\n",
       "      <td>Torgersen</td>\n",
       "      <td>39.3</td>\n",
       "      <td>20.6</td>\n",
       "      <td>190.0</td>\n",
       "      <td>3650.0</td>\n",
       "      <td>male</td>\n",
       "      <td>2007</td>\n",
       "    </tr>\n",
       "  </tbody>\n",
       "</table>\n",
       "</div>"
      ],
      "text/plain": [
       "  species     island  bill_length_mm  bill_depth_mm  flipper_length_mm  \\\n",
       "0  Adelie  Torgersen            39.1           18.7              181.0   \n",
       "1  Adelie  Torgersen            39.5           17.4              186.0   \n",
       "2  Adelie  Torgersen            40.3           18.0              195.0   \n",
       "4  Adelie  Torgersen            36.7           19.3              193.0   \n",
       "5  Adelie  Torgersen            39.3           20.6              190.0   \n",
       "\n",
       "   body_mass_g     sex  year  \n",
       "0       3750.0    male  2007  \n",
       "1       3800.0  female  2007  \n",
       "2       3250.0  female  2007  \n",
       "4       3450.0  female  2007  \n",
       "5       3650.0    male  2007  "
      ]
     },
     "execution_count": 19,
     "metadata": {},
     "output_type": "execute_result"
    }
   ],
   "source": [
    "# help(pd.DataFrame.dropna) # - help\n",
    "\n",
    "df1 = df.dropna() # this is how we drop all lines containing at least 1 NA\n",
    "df1.head()"
   ]
  },
  {
   "cell_type": "code",
   "execution_count": 21,
   "metadata": {
    "hidden": true
   },
   "outputs": [
    {
     "data": {
      "text/plain": [
       "333"
      ]
     },
     "execution_count": 21,
     "metadata": {},
     "output_type": "execute_result"
    }
   ],
   "source": [
    "len(df1)"
   ]
  },
  {
   "cell_type": "code",
   "execution_count": 22,
   "metadata": {
    "hidden": true
   },
   "outputs": [
    {
     "data": {
      "text/html": [
       "<div>\n",
       "<style scoped>\n",
       "    .dataframe tbody tr th:only-of-type {\n",
       "        vertical-align: middle;\n",
       "    }\n",
       "\n",
       "    .dataframe tbody tr th {\n",
       "        vertical-align: top;\n",
       "    }\n",
       "\n",
       "    .dataframe thead th {\n",
       "        text-align: right;\n",
       "    }\n",
       "</style>\n",
       "<table border=\"1\" class=\"dataframe\">\n",
       "  <thead>\n",
       "    <tr style=\"text-align: right;\">\n",
       "      <th></th>\n",
       "      <th>species</th>\n",
       "      <th>island</th>\n",
       "      <th>year</th>\n",
       "    </tr>\n",
       "  </thead>\n",
       "  <tbody>\n",
       "    <tr>\n",
       "      <th>0</th>\n",
       "      <td>Adelie</td>\n",
       "      <td>Torgersen</td>\n",
       "      <td>2007</td>\n",
       "    </tr>\n",
       "    <tr>\n",
       "      <th>1</th>\n",
       "      <td>Adelie</td>\n",
       "      <td>Torgersen</td>\n",
       "      <td>2007</td>\n",
       "    </tr>\n",
       "    <tr>\n",
       "      <th>2</th>\n",
       "      <td>Adelie</td>\n",
       "      <td>Torgersen</td>\n",
       "      <td>2007</td>\n",
       "    </tr>\n",
       "    <tr>\n",
       "      <th>3</th>\n",
       "      <td>Adelie</td>\n",
       "      <td>Torgersen</td>\n",
       "      <td>2007</td>\n",
       "    </tr>\n",
       "    <tr>\n",
       "      <th>4</th>\n",
       "      <td>Adelie</td>\n",
       "      <td>Torgersen</td>\n",
       "      <td>2007</td>\n",
       "    </tr>\n",
       "  </tbody>\n",
       "</table>\n",
       "</div>"
      ],
      "text/plain": [
       "  species     island  year\n",
       "0  Adelie  Torgersen  2007\n",
       "1  Adelie  Torgersen  2007\n",
       "2  Adelie  Torgersen  2007\n",
       "3  Adelie  Torgersen  2007\n",
       "4  Adelie  Torgersen  2007"
      ]
     },
     "execution_count": 22,
     "metadata": {},
     "output_type": "execute_result"
    }
   ],
   "source": [
    "df.dropna(axis = 'columns', how = \"any\").head(5) # а так мы отбрасываем все *колонки*, где есть *хоть один* NA, иногда полезно"
   ]
  },
  {
   "cell_type": "markdown",
   "metadata": {
    "heading_collapsed": true
   },
   "source": [
    "#### 2. **Imputation**: mask with something similar (medium)\n",
    "\n",
    "Quickly replace NA with median/mean/modal values with `SimpleImputer`\n",
    "\n",
    "**+ :** quickly makes numeric data look neat.\n",
    "\n",
    "**-- :** only numeric, with a large number of substitutions, the bias of the dataset grows."
   ]
  },
  {
   "cell_type": "markdown",
   "metadata": {
    "hidden": true
   },
   "source": [
    "    NB: you can also use mode for categorical ones - just substitute the most frequent value in the gaps"
   ]
  },
  {
   "cell_type": "code",
   "execution_count": 23,
   "metadata": {
    "hidden": true
   },
   "outputs": [
    {
     "name": "stdout",
     "output_type": "stream",
     "text": [
      "Mean penguin mass: nan\n"
     ]
    }
   ],
   "source": [
    "from sklearn.impute import SimpleImputer\n",
    "# help(SimpleImputer) # - help\n",
    "\n",
    "x = np.array(df['body_mass_g'])\n",
    "x = x.reshape(-1,1)\n",
    "\n",
    "print(\"Mean penguin mass:\", x.mean())"
   ]
  },
  {
   "cell_type": "code",
   "execution_count": 24,
   "metadata": {
    "hidden": true
   },
   "outputs": [
    {
     "name": "stdout",
     "output_type": "stream",
     "text": [
      "Mean penguin mass: 4201.754385964912\n"
     ]
    }
   ],
   "source": [
    "#strategies: mean, median, most_frequent, constant\n",
    "\n",
    "imputer = SimpleImputer(strategy = 'mean')\n",
    "imputer.fit(x)\n",
    "x1 = imputer.transform(x)\n",
    "\n",
    "print(\"Mean penguin mass:\", x1.mean())\n",
    "# df['body_mass_g'] = imputer.transform(x)"
   ]
  },
  {
   "cell_type": "markdown",
   "metadata": {
    "heading_collapsed": true
   },
   "source": [
    "#### 3. Imputation: k-NN method (classification classic)\n",
    "   **++ :** cooler and more varied than a гыштп simple imputer.\n",
    "   \n",
    "   **--** : Computing on large datasets will take time."
   ]
  },
  {
   "cell_type": "code",
   "execution_count": 25,
   "metadata": {
    "hidden": true
   },
   "outputs": [
    {
     "name": "stdout",
     "output_type": "stream",
     "text": [
      "Mean penguin mass: nan\n"
     ]
    }
   ],
   "source": [
    "from sklearn.impute import KNNImputer\n",
    "# help(KNNImputer) # - help\n",
    "\n",
    "k = np.array(df['body_mass_g'])\n",
    "k = x.reshape(-1,1)\n",
    "\n",
    "print(\"Mean penguin mass:\", k.mean())"
   ]
  },
  {
   "cell_type": "code",
   "execution_count": 26,
   "metadata": {
    "hidden": true,
    "scrolled": true
   },
   "outputs": [
    {
     "name": "stdout",
     "output_type": "stream",
     "text": [
      "Mean penguin mass: 4201.754385964912\n"
     ]
    }
   ],
   "source": [
    "# set - n_neighbors\n",
    "\n",
    "imputer = KNNImputer(n_neighbors = 3, weights='uniform', metric='nan_euclidean')\n",
    "k1 = imputer.fit_transform(k)\n",
    "\n",
    "print(\"Mean penguin mass:\", k1.mean())\n",
    "# df['body_mass_g'] = imputer.transform(x)"
   ]
  },
  {
   "cell_type": "markdown",
   "metadata": {
    "hidden": true
   },
   "source": [
    "For a whole dataset"
   ]
  },
  {
   "cell_type": "code",
   "execution_count": 27,
   "metadata": {
    "hidden": true
   },
   "outputs": [
    {
     "name": "stdout",
     "output_type": "stream",
     "text": [
      "old Missing: 8\n",
      "new Missing: 0\n"
     ]
    }
   ],
   "source": [
    "data = df.select_dtypes(include=np.number).values\n",
    "ix = [i for i in  range(data.shape[1])]\n",
    "X = data[:, ix]\n",
    "print('old Missing: %d' % sum(np.isnan(X).flatten()))\n",
    "\n",
    "imputer = KNNImputer()\n",
    "imputer.fit(X)\n",
    "Xtrans = imputer.transform(X)\n",
    "\n",
    "print('new Missing: %d' % sum(np.isnan(Xtrans).flatten()))"
   ]
  },
  {
   "cell_type": "markdown",
   "metadata": {
    "hidden": true
   },
   "source": [
    "By the way, ***categorical*** variables ***can also be imputed*** - just turn them into dummy and back:"
   ]
  },
  {
   "cell_type": "code",
   "execution_count": 15,
   "metadata": {
    "hidden": true
   },
   "outputs": [
    {
     "data": {
      "text/html": [
       "<div>\n",
       "<style scoped>\n",
       "    .dataframe tbody tr th:only-of-type {\n",
       "        vertical-align: middle;\n",
       "    }\n",
       "\n",
       "    .dataframe tbody tr th {\n",
       "        vertical-align: top;\n",
       "    }\n",
       "\n",
       "    .dataframe thead th {\n",
       "        text-align: right;\n",
       "    }\n",
       "</style>\n",
       "<table border=\"1\" class=\"dataframe\">\n",
       "  <thead>\n",
       "    <tr style=\"text-align: right;\">\n",
       "      <th></th>\n",
       "      <th>species</th>\n",
       "      <th>island</th>\n",
       "      <th>bill_length_mm</th>\n",
       "      <th>bill_depth_mm</th>\n",
       "      <th>flipper_length_mm</th>\n",
       "      <th>body_mass_g</th>\n",
       "      <th>sex</th>\n",
       "      <th>year</th>\n",
       "      <th>is_male</th>\n",
       "    </tr>\n",
       "  </thead>\n",
       "  <tbody>\n",
       "    <tr>\n",
       "      <th>0</th>\n",
       "      <td>Adelie</td>\n",
       "      <td>Torgersen</td>\n",
       "      <td>39.1</td>\n",
       "      <td>18.7</td>\n",
       "      <td>181.0</td>\n",
       "      <td>3750.0</td>\n",
       "      <td>male</td>\n",
       "      <td>2007</td>\n",
       "      <td>1.0</td>\n",
       "    </tr>\n",
       "    <tr>\n",
       "      <th>1</th>\n",
       "      <td>Adelie</td>\n",
       "      <td>Torgersen</td>\n",
       "      <td>39.5</td>\n",
       "      <td>17.4</td>\n",
       "      <td>186.0</td>\n",
       "      <td>3800.0</td>\n",
       "      <td>female</td>\n",
       "      <td>2007</td>\n",
       "      <td>0.0</td>\n",
       "    </tr>\n",
       "    <tr>\n",
       "      <th>2</th>\n",
       "      <td>Adelie</td>\n",
       "      <td>Torgersen</td>\n",
       "      <td>40.3</td>\n",
       "      <td>18.0</td>\n",
       "      <td>195.0</td>\n",
       "      <td>3250.0</td>\n",
       "      <td>female</td>\n",
       "      <td>2007</td>\n",
       "      <td>0.0</td>\n",
       "    </tr>\n",
       "    <tr>\n",
       "      <th>3</th>\n",
       "      <td>Adelie</td>\n",
       "      <td>Torgersen</td>\n",
       "      <td>NaN</td>\n",
       "      <td>NaN</td>\n",
       "      <td>NaN</td>\n",
       "      <td>NaN</td>\n",
       "      <td>NaN</td>\n",
       "      <td>2007</td>\n",
       "      <td>NaN</td>\n",
       "    </tr>\n",
       "    <tr>\n",
       "      <th>4</th>\n",
       "      <td>Adelie</td>\n",
       "      <td>Torgersen</td>\n",
       "      <td>36.7</td>\n",
       "      <td>19.3</td>\n",
       "      <td>193.0</td>\n",
       "      <td>3450.0</td>\n",
       "      <td>female</td>\n",
       "      <td>2007</td>\n",
       "      <td>0.0</td>\n",
       "    </tr>\n",
       "  </tbody>\n",
       "</table>\n",
       "</div>"
      ],
      "text/plain": [
       "  species     island  bill_length_mm  bill_depth_mm  flipper_length_mm  \\\n",
       "0  Adelie  Torgersen            39.1           18.7              181.0   \n",
       "1  Adelie  Torgersen            39.5           17.4              186.0   \n",
       "2  Adelie  Torgersen            40.3           18.0              195.0   \n",
       "3  Adelie  Torgersen             NaN            NaN                NaN   \n",
       "4  Adelie  Torgersen            36.7           19.3              193.0   \n",
       "\n",
       "   body_mass_g     sex  year  is_male  \n",
       "0       3750.0    male  2007      1.0  \n",
       "1       3800.0  female  2007      0.0  \n",
       "2       3250.0  female  2007      0.0  \n",
       "3          NaN     NaN  2007      NaN  \n",
       "4       3450.0  female  2007      0.0  "
      ]
     },
     "execution_count": 15,
     "metadata": {},
     "output_type": "execute_result"
    }
   ],
   "source": [
    "df['is_male'] = df['sex'].map({'male': 1,\n",
    "                             'female': 0})\n",
    "df.head()"
   ]
  },
  {
   "cell_type": "code",
   "execution_count": 16,
   "metadata": {
    "hidden": true
   },
   "outputs": [
    {
     "data": {
      "text/plain": [
       "array([[1.       ],\n",
       "       [0.       ],\n",
       "       [0.       ],\n",
       "       [0.5045045],\n",
       "       [0.       ],\n",
       "       [1.       ],\n",
       "       [0.       ],\n",
       "       [1.       ],\n",
       "       [0.5045045],\n",
       "       [0.5045045],\n",
       "       [0.5045045],\n",
       "       [0.5045045],\n",
       "       [0.       ],\n",
       "       [1.       ],\n",
       "       [1.       ],\n",
       "       [0.       ],\n",
       "       [0.       ],\n",
       "       [1.       ],\n",
       "       [0.       ],\n",
       "       [1.       ],\n",
       "       [0.       ],\n",
       "       [1.       ],\n",
       "       [0.       ],\n",
       "       [1.       ],\n",
       "       [1.       ],\n",
       "       [0.       ],\n",
       "       [1.       ],\n",
       "       [0.       ],\n",
       "       [0.       ],\n",
       "       [1.       ],\n",
       "       [0.       ],\n",
       "       [1.       ],\n",
       "       [0.       ],\n",
       "       [1.       ],\n",
       "       [0.       ],\n",
       "       [1.       ],\n",
       "       [1.       ],\n",
       "       [0.       ],\n",
       "       [0.       ],\n",
       "       [1.       ],\n",
       "       [0.       ],\n",
       "       [1.       ],\n",
       "       [0.       ],\n",
       "       [1.       ],\n",
       "       [0.       ],\n",
       "       [1.       ],\n",
       "       [1.       ],\n",
       "       [0.5045045],\n",
       "       [0.       ],\n",
       "       [1.       ],\n",
       "       [0.       ],\n",
       "       [1.       ],\n",
       "       [0.       ],\n",
       "       [1.       ],\n",
       "       [0.       ],\n",
       "       [1.       ],\n",
       "       [0.       ],\n",
       "       [1.       ],\n",
       "       [0.       ],\n",
       "       [1.       ],\n",
       "       [0.       ],\n",
       "       [1.       ],\n",
       "       [0.       ],\n",
       "       [1.       ],\n",
       "       [0.       ],\n",
       "       [1.       ],\n",
       "       [0.       ],\n",
       "       [1.       ],\n",
       "       [0.       ],\n",
       "       [1.       ],\n",
       "       [0.       ],\n",
       "       [1.       ],\n",
       "       [0.       ],\n",
       "       [1.       ],\n",
       "       [0.       ],\n",
       "       [1.       ],\n",
       "       [0.       ],\n",
       "       [1.       ],\n",
       "       [0.       ],\n",
       "       [1.       ],\n",
       "       [0.       ],\n",
       "       [1.       ],\n",
       "       [0.       ],\n",
       "       [1.       ],\n",
       "       [0.       ],\n",
       "       [1.       ],\n",
       "       [1.       ],\n",
       "       [0.       ],\n",
       "       [1.       ],\n",
       "       [0.       ],\n",
       "       [0.       ],\n",
       "       [1.       ],\n",
       "       [0.       ],\n",
       "       [1.       ],\n",
       "       [0.       ],\n",
       "       [1.       ],\n",
       "       [0.       ],\n",
       "       [1.       ],\n",
       "       [0.       ],\n",
       "       [1.       ],\n",
       "       [0.       ],\n",
       "       [1.       ],\n",
       "       [0.       ],\n",
       "       [1.       ],\n",
       "       [0.       ],\n",
       "       [1.       ],\n",
       "       [0.       ],\n",
       "       [1.       ],\n",
       "       [0.       ],\n",
       "       [1.       ],\n",
       "       [0.       ],\n",
       "       [1.       ],\n",
       "       [0.       ],\n",
       "       [1.       ],\n",
       "       [0.       ],\n",
       "       [1.       ],\n",
       "       [0.       ],\n",
       "       [1.       ],\n",
       "       [0.       ],\n",
       "       [1.       ],\n",
       "       [0.       ],\n",
       "       [1.       ],\n",
       "       [0.       ],\n",
       "       [1.       ],\n",
       "       [0.       ],\n",
       "       [1.       ],\n",
       "       [0.       ],\n",
       "       [1.       ],\n",
       "       [0.       ],\n",
       "       [1.       ],\n",
       "       [0.       ],\n",
       "       [1.       ],\n",
       "       [0.       ],\n",
       "       [1.       ],\n",
       "       [0.       ],\n",
       "       [1.       ],\n",
       "       [0.       ],\n",
       "       [1.       ],\n",
       "       [0.       ],\n",
       "       [1.       ],\n",
       "       [0.       ],\n",
       "       [1.       ],\n",
       "       [0.       ],\n",
       "       [1.       ],\n",
       "       [0.       ],\n",
       "       [1.       ],\n",
       "       [1.       ],\n",
       "       [0.       ],\n",
       "       [0.       ],\n",
       "       [1.       ],\n",
       "       [0.       ],\n",
       "       [1.       ],\n",
       "       [0.       ],\n",
       "       [1.       ],\n",
       "       [0.       ],\n",
       "       [1.       ],\n",
       "       [1.       ],\n",
       "       [0.       ],\n",
       "       [0.       ],\n",
       "       [1.       ],\n",
       "       [0.       ],\n",
       "       [1.       ],\n",
       "       [0.       ],\n",
       "       [1.       ],\n",
       "       [0.       ],\n",
       "       [1.       ],\n",
       "       [0.       ],\n",
       "       [1.       ],\n",
       "       [0.       ],\n",
       "       [1.       ],\n",
       "       [0.       ],\n",
       "       [1.       ],\n",
       "       [1.       ],\n",
       "       [0.       ],\n",
       "       [0.       ],\n",
       "       [1.       ],\n",
       "       [0.       ],\n",
       "       [1.       ],\n",
       "       [0.5045045],\n",
       "       [1.       ],\n",
       "       [0.       ],\n",
       "       [1.       ],\n",
       "       [1.       ],\n",
       "       [0.       ],\n",
       "       [0.       ],\n",
       "       [1.       ],\n",
       "       [0.       ],\n",
       "       [1.       ],\n",
       "       [0.       ],\n",
       "       [1.       ],\n",
       "       [0.       ],\n",
       "       [1.       ],\n",
       "       [0.       ],\n",
       "       [1.       ],\n",
       "       [0.       ],\n",
       "       [1.       ],\n",
       "       [1.       ],\n",
       "       [0.       ],\n",
       "       [0.       ],\n",
       "       [1.       ],\n",
       "       [0.       ],\n",
       "       [1.       ],\n",
       "       [0.       ],\n",
       "       [1.       ],\n",
       "       [0.       ],\n",
       "       [1.       ],\n",
       "       [0.       ],\n",
       "       [1.       ],\n",
       "       [0.       ],\n",
       "       [1.       ],\n",
       "       [0.       ],\n",
       "       [1.       ],\n",
       "       [0.       ],\n",
       "       [1.       ],\n",
       "       [0.       ],\n",
       "       [1.       ],\n",
       "       [0.       ],\n",
       "       [1.       ],\n",
       "       [0.5045045],\n",
       "       [1.       ],\n",
       "       [0.       ],\n",
       "       [1.       ],\n",
       "       [0.       ],\n",
       "       [1.       ],\n",
       "       [1.       ],\n",
       "       [0.       ],\n",
       "       [0.       ],\n",
       "       [1.       ],\n",
       "       [0.       ],\n",
       "       [1.       ],\n",
       "       [0.       ],\n",
       "       [1.       ],\n",
       "       [0.       ],\n",
       "       [1.       ],\n",
       "       [0.       ],\n",
       "       [1.       ],\n",
       "       [0.       ],\n",
       "       [1.       ],\n",
       "       [0.       ],\n",
       "       [1.       ],\n",
       "       [0.       ],\n",
       "       [1.       ],\n",
       "       [0.       ],\n",
       "       [1.       ],\n",
       "       [0.       ],\n",
       "       [1.       ],\n",
       "       [0.       ],\n",
       "       [1.       ],\n",
       "       [1.       ],\n",
       "       [0.       ],\n",
       "       [0.       ],\n",
       "       [1.       ],\n",
       "       [0.       ],\n",
       "       [1.       ],\n",
       "       [0.       ],\n",
       "       [1.       ],\n",
       "       [0.5045045],\n",
       "       [1.       ],\n",
       "       [0.       ],\n",
       "       [1.       ],\n",
       "       [0.       ],\n",
       "       [1.       ],\n",
       "       [0.       ],\n",
       "       [1.       ],\n",
       "       [0.       ],\n",
       "       [1.       ],\n",
       "       [0.       ],\n",
       "       [1.       ],\n",
       "       [0.5045045],\n",
       "       [1.       ],\n",
       "       [0.       ],\n",
       "       [0.5045045],\n",
       "       [0.       ],\n",
       "       [1.       ],\n",
       "       [0.       ],\n",
       "       [1.       ],\n",
       "       [0.       ],\n",
       "       [1.       ],\n",
       "       [1.       ],\n",
       "       [0.       ],\n",
       "       [1.       ],\n",
       "       [0.       ],\n",
       "       [0.       ],\n",
       "       [1.       ],\n",
       "       [0.       ],\n",
       "       [1.       ],\n",
       "       [0.       ],\n",
       "       [1.       ],\n",
       "       [0.       ],\n",
       "       [1.       ],\n",
       "       [0.       ],\n",
       "       [1.       ],\n",
       "       [1.       ],\n",
       "       [0.       ],\n",
       "       [0.       ],\n",
       "       [1.       ],\n",
       "       [0.       ],\n",
       "       [1.       ],\n",
       "       [0.       ],\n",
       "       [1.       ],\n",
       "       [0.       ],\n",
       "       [1.       ],\n",
       "       [0.       ],\n",
       "       [1.       ],\n",
       "       [0.       ],\n",
       "       [1.       ],\n",
       "       [0.       ],\n",
       "       [1.       ],\n",
       "       [0.       ],\n",
       "       [1.       ],\n",
       "       [1.       ],\n",
       "       [0.       ],\n",
       "       [0.       ],\n",
       "       [1.       ],\n",
       "       [0.       ],\n",
       "       [1.       ],\n",
       "       [1.       ],\n",
       "       [0.       ],\n",
       "       [1.       ],\n",
       "       [0.       ],\n",
       "       [0.       ],\n",
       "       [1.       ],\n",
       "       [0.       ],\n",
       "       [1.       ],\n",
       "       [1.       ],\n",
       "       [0.       ],\n",
       "       [0.       ],\n",
       "       [1.       ],\n",
       "       [0.       ],\n",
       "       [1.       ],\n",
       "       [0.       ],\n",
       "       [1.       ],\n",
       "       [0.       ],\n",
       "       [1.       ],\n",
       "       [1.       ],\n",
       "       [0.       ],\n",
       "       [1.       ],\n",
       "       [0.       ],\n",
       "       [0.       ],\n",
       "       [1.       ],\n",
       "       [0.       ],\n",
       "       [1.       ],\n",
       "       [1.       ],\n",
       "       [0.       ]])"
      ]
     },
     "execution_count": 16,
     "metadata": {},
     "output_type": "execute_result"
    }
   ],
   "source": [
    "sex = df['is_male'].values\n",
    "sex = sex.reshape(-1,1)\n",
    "\n",
    "imputer = KNNImputer(n_neighbors = 2)\n",
    "sex1 = imputer.fit_transform(sex)\n",
    "sex1"
   ]
  },
  {
   "cell_type": "markdown",
   "metadata": {
    "hidden": true
   },
   "source": [
    "*really I don't know how to interpret gender 0.5*"
   ]
  },
  {
   "cell_type": "markdown",
   "metadata": {
    "heading_collapsed": true
   },
   "source": [
    "### What else to read on the topic:\n",
    "  * [Medium](https://towardsdatascience.com/the-robustness-of-machine-learning-algorithms-against-missing-or-abnormal-values-ec3222379905) where the author compares the performance of rf, boosting and lasso with different methods imputation;\n",
    "  * [yet another Medium](https://medium.com/analytics-vidhya/why-it-is-important-to-handle-missing-data-and-10-methods-to-do-it-29d32ec4e6a), where it is possible to esteem descriptions of methods;\n",
    "  * [guide](https://machinelearningmastery.com/knn-imputation-for-missing-values-in-machine-learning/) by kNN."
   ]
  },
  {
   "cell_type": "code",
   "execution_count": null,
   "metadata": {},
   "outputs": [],
   "source": []
  }
 ],
 "metadata": {
  "kernelspec": {
   "display_name": "Python 3",
   "language": "python",
   "name": "python3"
  },
  "language_info": {
   "codemirror_mode": {
    "name": "ipython",
    "version": 3
   },
   "file_extension": ".py",
   "mimetype": "text/x-python",
   "name": "python",
   "nbconvert_exporter": "python",
   "pygments_lexer": "ipython3",
   "version": "3.7.4"
  },
  "toc": {
   "base_numbering": 1,
   "nav_menu": {},
   "number_sections": false,
   "sideBar": true,
   "skip_h1_title": false,
   "title_cell": "Table of Contents",
   "title_sidebar": "Contents",
   "toc_cell": false,
   "toc_position": {},
   "toc_section_display": true,
   "toc_window_display": false
  },
  "varInspector": {
   "cols": {
    "lenName": 16,
    "lenType": 16,
    "lenVar": 40
   },
   "kernels_config": {
    "python": {
     "delete_cmd_postfix": "",
     "delete_cmd_prefix": "del ",
     "library": "var_list.py",
     "varRefreshCmd": "print(var_dic_list())"
    },
    "r": {
     "delete_cmd_postfix": ") ",
     "delete_cmd_prefix": "rm(",
     "library": "var_list.r",
     "varRefreshCmd": "cat(var_dic_list()) "
    }
   },
   "types_to_exclude": [
    "module",
    "function",
    "builtin_function_or_method",
    "instance",
    "_Feature"
   ],
   "window_display": false
  }
 },
 "nbformat": 4,
 "nbformat_minor": 4
}

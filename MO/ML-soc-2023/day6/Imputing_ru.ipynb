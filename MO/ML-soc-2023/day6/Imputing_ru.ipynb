{
 "cells": [
  {
   "cell_type": "markdown",
   "metadata": {
    "colab_type": "text",
    "id": "VplZZscPWodL"
   },
   "source": [
    "Сегодня мы поговорим о восстановлении пропусков"
   ]
  },
  {
   "cell_type": "code",
   "execution_count": null,
   "metadata": {
    "colab": {},
    "colab_type": "code",
    "id": "aFwA9T3cWodM"
   },
   "outputs": [],
   "source": [
    "import pandas as pd\n",
    "from matplotlib import pyplot as plt\n",
    "import seaborn as sns\n",
    "%matplotlib inline\n",
    "from pylab import rcParams\n",
    "rcParams['figure.figsize'] = 16, 10\n",
    "import numpy as np\n"
   ]
  },
  {
   "cell_type": "code",
   "execution_count": null,
   "metadata": {
    "colab": {},
    "colab_type": "code",
    "id": "7n6TwwyzWodR"
   },
   "outputs": [],
   "source": [
    "HouseDataOriginal = pd.read_csv(\"https://raw.githubusercontent.com/AVSirotkin/data_for_classes/master/HousePrices/train.csv\")\n",
    "DataForPrediction = pd.read_csv(\"https://raw.githubusercontent.com/AVSirotkin/data_for_classes/master/HousePrices/test.csv\")\n",
    "HouseData = pd.read_csv(\"https://raw.githubusercontent.com/AVSirotkin/data_for_classes/master/HousePrices/train.csv\")"
   ]
  },
  {
   "cell_type": "code",
   "execution_count": null,
   "metadata": {
    "colab": {},
    "colab_type": "code",
    "id": "4ELI37L7WodW"
   },
   "outputs": [],
   "source": [
    "HouseData.isna().sum()[HouseData.isna().sum()>0]"
   ]
  },
  {
   "cell_type": "code",
   "execution_count": null,
   "metadata": {
    "colab": {},
    "colab_type": "code",
    "id": "f6WcMm-VWodb"
   },
   "outputs": [],
   "source": [
    "HouseData[HouseData.MasVnrType.isna()]"
   ]
  },
  {
   "cell_type": "code",
   "execution_count": null,
   "metadata": {
    "colab": {},
    "colab_type": "code",
    "id": "ytCss0c8Wodf"
   },
   "outputs": [],
   "source": [
    "HouseData.MasVnrType.value_counts()"
   ]
  },
  {
   "cell_type": "code",
   "execution_count": null,
   "metadata": {
    "colab": {},
    "colab_type": "code",
    "id": "gmg9a7mZWodk"
   },
   "outputs": [],
   "source": [
    "HouseData.MasVnrArea.value_counts()"
   ]
  },
  {
   "cell_type": "code",
   "execution_count": null,
   "metadata": {
    "colab": {},
    "colab_type": "code",
    "id": "uLRv7kQTWodo"
   },
   "outputs": [],
   "source": [
    "HouseData.MasVnrArea.hist()"
   ]
  },
  {
   "cell_type": "code",
   "execution_count": null,
   "metadata": {
    "colab": {},
    "colab_type": "code",
    "id": "wg7bwB2lWods"
   },
   "outputs": [],
   "source": [
    "HouseData.MasVnrArea.fillna(0, inplace = True)\n",
    "HouseData.MasVnrType.fillna(\"None\", inplace = True)"
   ]
  },
  {
   "cell_type": "code",
   "execution_count": null,
   "metadata": {
    "colab": {},
    "colab_type": "code",
    "id": "y4gMFeTUWodv"
   },
   "outputs": [],
   "source": [
    "from sklearn.impute import SimpleImputer"
   ]
  },
  {
   "cell_type": "code",
   "execution_count": null,
   "metadata": {
    "colab": {},
    "colab_type": "code",
    "id": "EaqghVkiWody"
   },
   "outputs": [],
   "source": [
    "HouseData.BsmtQual.value_counts()"
   ]
  },
  {
   "cell_type": "code",
   "execution_count": null,
   "metadata": {
    "colab": {},
    "colab_type": "code",
    "id": "aV_y0nEVWod1"
   },
   "outputs": [],
   "source": [
    "HouseData.BsmtCond.value_counts()"
   ]
  },
  {
   "cell_type": "markdown",
   "metadata": {
    "colab_type": "text",
    "id": "kkSIZpfvWod6"
   },
   "source": [
    "* BsmtQual: Height of the basement\n",
    "* BsmtCond: General condition of the basement\n",
    "* BsmtExposure: Walkout or garden level basement walls\n",
    "* BsmtFinType1: Quality of basement finished area\n",
    "* BsmtFinSF1: Type 1 finished square feet\n",
    "* BsmtFinType2: Quality of second finished area (if present)"
   ]
  },
  {
   "cell_type": "code",
   "execution_count": null,
   "metadata": {
    "colab": {},
    "colab_type": "code",
    "id": "bMA8W6aeWod7"
   },
   "outputs": [],
   "source": [
    "HouseData[[\"BsmtQual\", \"BsmtCond\", \"BsmtExposure\", \"BsmtFinType1\", \"BsmtFinType2\"]].describe()"
   ]
  },
  {
   "cell_type": "code",
   "execution_count": null,
   "metadata": {
    "colab": {},
    "colab_type": "code",
    "id": "FBsKr0hiWoeA"
   },
   "outputs": [],
   "source": [
    "HouseData.BsmtFinType1.value_counts()"
   ]
  },
  {
   "cell_type": "code",
   "execution_count": null,
   "metadata": {
    "colab": {},
    "colab_type": "code",
    "id": "xHlbBdUDWoeE"
   },
   "outputs": [],
   "source": [
    "imp = SimpleImputer(missing_values=np.nan, strategy='most_frequent', copy=False)\n",
    "imp.fit(HouseData[[\"BsmtQual\", \"BsmtCond\", \"BsmtExposure\", \"BsmtFinType1\", \"BsmtFinType2\"]])"
   ]
  },
  {
   "cell_type": "markdown",
   "metadata": {
    "colab_type": "text",
    "id": "wlmi-0wtWoeJ"
   },
   "source": [
    "* If “mean”, then replace missing values using the mean along each column. Can only be used with numeric data.\n",
    "* If “median”, then replace missing values using the median along each column. Can only be used with numeric data.\n",
    "* If “most_frequent”, then replace missing using the most frequent value along each column. Can be used with strings or numeric data.\n",
    "* If “constant”, then replace missing values with fill_value. Can be used with strings or numeric data."
   ]
  },
  {
   "cell_type": "code",
   "execution_count": null,
   "metadata": {
    "colab": {},
    "colab_type": "code",
    "id": "nR2d-x8YWoeK"
   },
   "outputs": [],
   "source": [
    "HouseData[[\"BsmtQual\", \"BsmtCond\", \"BsmtExposure\", \"BsmtFinType1\", \"BsmtFinType2\"]] = imp.transform(HouseData[[\"BsmtQual\", \"BsmtCond\", \"BsmtExposure\", \"BsmtFinType1\", \"BsmtFinType2\"]])"
   ]
  },
  {
   "cell_type": "code",
   "execution_count": null,
   "metadata": {
    "colab": {},
    "colab_type": "code",
    "id": "S6mF_GsxWoeO"
   },
   "outputs": [],
   "source": [
    "HouseData.BsmtFinType1.value_counts()"
   ]
  },
  {
   "cell_type": "code",
   "execution_count": null,
   "metadata": {
    "colab": {},
    "colab_type": "code",
    "id": "34wyt5STWoeS"
   },
   "outputs": [],
   "source": [
    "HouseData.isna().sum()[HouseData.isna().sum()>0]"
   ]
  },
  {
   "cell_type": "code",
   "execution_count": null,
   "metadata": {
    "colab": {},
    "colab_type": "code",
    "id": "u3qRAe9uhuIF"
   },
   "outputs": [],
   "source": [
    "HouseDataOriginal.isna().sum()[HouseDataOriginal.isna().sum()>0]"
   ]
  },
  {
   "cell_type": "code",
   "execution_count": null,
   "metadata": {
    "colab": {},
    "colab_type": "code",
    "id": "e-4R7_tJWoeW"
   },
   "outputs": [],
   "source": [
    "HouseData[\"GarageType\"].value_counts()"
   ]
  },
  {
   "cell_type": "code",
   "execution_count": null,
   "metadata": {
    "colab": {},
    "colab_type": "code",
    "id": "KioiIusBWoea"
   },
   "outputs": [],
   "source": [
    "HouseData[\"GarageYrBlt\"].hist()       "
   ]
  },
  {
   "cell_type": "code",
   "execution_count": null,
   "metadata": {
    "colab": {},
    "colab_type": "code",
    "id": "jp0LfE8eWoee"
   },
   "outputs": [],
   "source": [
    "sns.scatterplot(\"YearBuilt\", \"GarageYrBlt\", data = HouseData)"
   ]
  },
  {
   "cell_type": "code",
   "execution_count": null,
   "metadata": {
    "colab": {},
    "colab_type": "code",
    "id": "xuJtRH3kWoem"
   },
   "outputs": [],
   "source": [
    "sns.scatterplot(\"YearBuilt\", \"GarageYrBlt\", data = HouseData, hue = \"GarageType\" )"
   ]
  },
  {
   "cell_type": "code",
   "execution_count": null,
   "metadata": {
    "colab": {},
    "colab_type": "code",
    "id": "ZQZDS11dWoet"
   },
   "outputs": [],
   "source": [
    "HouseData[\"GarageType\"].value_counts()"
   ]
  },
  {
   "cell_type": "code",
   "execution_count": null,
   "metadata": {
    "colab": {},
    "colab_type": "code",
    "id": "WynlL2n0Woex"
   },
   "outputs": [],
   "source": [
    "HouseData[\"GarageFinish\"].value_counts()"
   ]
  },
  {
   "cell_type": "code",
   "execution_count": null,
   "metadata": {
    "colab": {},
    "colab_type": "code",
    "id": "X8-dBE3nWoe0"
   },
   "outputs": [],
   "source": [
    "HouseData[\"GarageQual\"].value_counts()"
   ]
  },
  {
   "cell_type": "code",
   "execution_count": null,
   "metadata": {
    "colab": {},
    "colab_type": "code",
    "id": "1OYCtMM0Woe4"
   },
   "outputs": [],
   "source": [
    "HouseData[\"GarageCond\"].value_counts()"
   ]
  },
  {
   "cell_type": "code",
   "execution_count": null,
   "metadata": {
    "colab": {},
    "colab_type": "code",
    "id": "IRinBz5nWoe8"
   },
   "outputs": [],
   "source": [
    "impG = SimpleImputer(missing_values=np.nan, strategy='most_frequent', copy=False)\n",
    "impG.fit(HouseData[[\"GarageType\", \"GarageFinish\", \"GarageQual\", \"GarageCond\"]])\n",
    "HouseData[[\"GarageType\", \"GarageFinish\", \"GarageQual\", \"GarageCond\"]] = impG.transform(HouseData[[\"GarageType\", \"GarageFinish\", \"GarageQual\", \"GarageCond\"]])"
   ]
  },
  {
   "cell_type": "code",
   "execution_count": null,
   "metadata": {
    "colab": {},
    "colab_type": "code",
    "id": "IF0sjTFEWoe-"
   },
   "outputs": [],
   "source": [
    "HouseData[\"GarageYrBlt\"] = HouseData[\"YearBuilt\"]   "
   ]
  },
  {
   "cell_type": "code",
   "execution_count": null,
   "metadata": {
    "colab": {},
    "colab_type": "code",
    "id": "DA2dD_RMWofA"
   },
   "outputs": [],
   "source": [
    "HouseData.isna().sum()[HouseData.isna().sum()>0]"
   ]
  },
  {
   "cell_type": "code",
   "execution_count": null,
   "metadata": {
    "colab": {},
    "colab_type": "code",
    "id": "2snFS_z2WofC"
   },
   "outputs": [],
   "source": [
    "HouseData[\"LotFrontage\"].hist()"
   ]
  },
  {
   "cell_type": "code",
   "execution_count": null,
   "metadata": {
    "colab": {},
    "colab_type": "code",
    "id": "bL6v3JP4WofF"
   },
   "outputs": [],
   "source": [
    "sns.scatterplot(HouseData[\"LotFrontage\"], HouseData[\"LotArea\"], hue = HouseData[\"Neighborhood\"])"
   ]
  },
  {
   "cell_type": "code",
   "execution_count": null,
   "metadata": {
    "colab": {},
    "colab_type": "code",
    "id": "2OwVuKHeWofJ"
   },
   "outputs": [],
   "source": [
    "HouseData[\"Neighborhood\"].value_counts()"
   ]
  },
  {
   "cell_type": "markdown",
   "metadata": {
    "colab_type": "text",
    "id": "roOewJNdYHMa"
   },
   "source": [
    "Постепенно появляются более продвинутые варианты. "
   ]
  },
  {
   "cell_type": "code",
   "execution_count": null,
   "metadata": {
    "colab": {},
    "colab_type": "code",
    "id": "BkbmMUINWofS"
   },
   "outputs": [],
   "source": [
    "HouseData['LotFrontage'] = HouseData.groupby('Neighborhood')['LotFrontage'].transform(lambda x: x.fillna(x.median()))"
   ]
  },
  {
   "cell_type": "code",
   "execution_count": null,
   "metadata": {
    "colab": {},
    "colab_type": "code",
    "id": "riBcC-Y-Zn-r"
   },
   "outputs": [],
   "source": [
    "HouseData.isna().sum()[HouseData.isna().sum()>0]"
   ]
  },
  {
   "cell_type": "code",
   "execution_count": null,
   "metadata": {
    "colab": {},
    "colab_type": "code",
    "id": "heNOPd_8Zs__"
   },
   "outputs": [],
   "source": [
    "HouseData[\"FireplaceQu\"].value_counts()"
   ]
  },
  {
   "cell_type": "code",
   "execution_count": null,
   "metadata": {
    "colab": {},
    "colab_type": "code",
    "id": "nADB5Ir8Z5AD"
   },
   "outputs": [],
   "source": [
    "sns.violinplot(x=\"FireplaceQu\", y=\"SalePrice\", data=HouseData);"
   ]
  },
  {
   "cell_type": "code",
   "execution_count": null,
   "metadata": {
    "colab": {},
    "colab_type": "code",
    "id": "WVIh_aPEasnP"
   },
   "outputs": [],
   "source": [
    "sns.violinplot(x=HouseData[\"FireplaceQu\"], y=np.log(HouseData[\"SalePrice\"]))"
   ]
  },
  {
   "cell_type": "code",
   "execution_count": null,
   "metadata": {
    "colab": {},
    "colab_type": "code",
    "id": "qiRQK6OlbEAK"
   },
   "outputs": [],
   "source": [
    "sns.countplot(x='OverallQual', hue='FireplaceQu', data=HouseData);"
   ]
  },
  {
   "cell_type": "code",
   "execution_count": null,
   "metadata": {
    "colab": {},
    "colab_type": "code",
    "id": "C8aiYMjPcB7y"
   },
   "outputs": [],
   "source": [
    "HouseData.Fireplaces[HouseData.FireplaceQu.isna()].value_counts()"
   ]
  },
  {
   "cell_type": "code",
   "execution_count": null,
   "metadata": {
    "colab": {},
    "colab_type": "code",
    "id": "FgGdh0wCcQNU"
   },
   "outputs": [],
   "source": [
    "HouseData.FireplaceQu.fillna(\"None\", inplace=True)"
   ]
  },
  {
   "cell_type": "code",
   "execution_count": null,
   "metadata": {
    "colab": {},
    "colab_type": "code",
    "id": "JrFJJBbVWofO"
   },
   "outputs": [],
   "source": [
    "from sklearn.experimental import enable_iterative_imputer\n",
    "from sklearn.impute import IterativeImputer\n"
   ]
  },
  {
   "cell_type": "code",
   "execution_count": null,
   "metadata": {
    "colab": {},
    "colab_type": "code",
    "id": "-j8ep-kZuYfi"
   },
   "outputs": [],
   "source": [
    "df =  pd.DataFrame({\"x1\":[1 , 2, 3, np.nan, 5], \"x2\": [2, 4, np.nan, 8, 10]})"
   ]
  },
  {
   "cell_type": "code",
   "execution_count": null,
   "metadata": {
    "colab": {},
    "colab_type": "code",
    "id": "FDOq8wIIuYpJ"
   },
   "outputs": [],
   "source": [
    "df"
   ]
  },
  {
   "cell_type": "code",
   "execution_count": null,
   "metadata": {
    "colab": {},
    "colab_type": "code",
    "id": "ve968lIBuYu_"
   },
   "outputs": [],
   "source": [
    "it = IterativeImputer()"
   ]
  },
  {
   "cell_type": "code",
   "execution_count": null,
   "metadata": {
    "colab": {},
    "colab_type": "code",
    "id": "G-vEb3qIuYta"
   },
   "outputs": [],
   "source": [
    "it.fit(df)"
   ]
  },
  {
   "cell_type": "code",
   "execution_count": null,
   "metadata": {
    "colab": {},
    "colab_type": "code",
    "id": "3xnNJ3tYvZwj"
   },
   "outputs": [],
   "source": [
    "it.transform(df)"
   ]
  },
  {
   "cell_type": "code",
   "execution_count": null,
   "metadata": {
    "colab": {},
    "colab_type": "code",
    "id": "1he2YMf4vaup"
   },
   "outputs": [],
   "source": [
    "df2 =  pd.DataFrame({\"x1\":[1 , 2, 3, np.nan, 5], \"x2\": [1, 4, np.nan, 16, 25]})"
   ]
  },
  {
   "cell_type": "code",
   "execution_count": null,
   "metadata": {
    "colab": {},
    "colab_type": "code",
    "id": "dY7twnBdvayT"
   },
   "outputs": [],
   "source": [
    "it.fit_transform(df2)"
   ]
  },
  {
   "cell_type": "code",
   "execution_count": null,
   "metadata": {
    "colab": {},
    "colab_type": "code",
    "id": "r0pwqEMvKZ00"
   },
   "outputs": [],
   "source": [
    "!pip install --force sklearn"
   ]
  },
  {
   "cell_type": "code",
   "execution_count": null,
   "metadata": {
    "colab": {},
    "colab_type": "code",
    "id": "zkZciGbPfUHC"
   },
   "outputs": [],
   "source": [
    "from sklearn.impute import KNNImputer"
   ]
  },
  {
   "cell_type": "code",
   "execution_count": null,
   "metadata": {
    "colab": {},
    "colab_type": "code",
    "id": "qTlmNcv9fwC4"
   },
   "outputs": [],
   "source": [
    "KNN_imp = KNNImputer(n_neighbors = 3)\n",
    "KNN_imp.fit_transform(df2)"
   ]
  },
  {
   "cell_type": "markdown",
   "metadata": {
    "colab_type": "text",
    "id": "4Da6lQSGc_eP"
   },
   "source": [
    "Немного об альтернативах. Мы можем обучить произвольную модель (например дерево) и использовать ее для пронозов пропущеных значени.\n",
    "\n",
    "Восстановите несколькими способами LotFrontage и сравните результаты. Для контроля можно удалить несколько значений самостоятельно и восстановить их."
   ]
  },
  {
   "cell_type": "code",
   "execution_count": null,
   "metadata": {
    "colab": {},
    "colab_type": "code",
    "id": "a9o17P4llGvq"
   },
   "outputs": [],
   "source": []
  }
 ],
 "metadata": {
  "colab": {
   "collapsed_sections": [],
   "name": "Imputing.ipynb",
   "provenance": []
  },
  "kernelspec": {
   "display_name": "Python 3",
   "language": "python",
   "name": "python3"
  },
  "language_info": {
   "codemirror_mode": {
    "name": "ipython",
    "version": 3
   },
   "file_extension": ".py",
   "mimetype": "text/x-python",
   "name": "python",
   "nbconvert_exporter": "python",
   "pygments_lexer": "ipython3",
   "version": "3.7.4"
  }
 },
 "nbformat": 4,
 "nbformat_minor": 1
}

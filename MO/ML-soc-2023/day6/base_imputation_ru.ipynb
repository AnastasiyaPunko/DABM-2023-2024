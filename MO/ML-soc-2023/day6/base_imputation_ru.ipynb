{
 "cells": [
  {
   "cell_type": "markdown",
   "metadata": {},
   "source": [
    "## Missing Values and Imputing"
   ]
  },
  {
   "cell_type": "markdown",
   "metadata": {},
   "source": [
    "### Причины NA:  \n",
    "   1. **Data is Lost:** частая проблема в производственной дате. Компания меняет сервера, обрастает бюрократией, цифровизуется медленно и поэтапно -> данные будут теряться.\n",
    "   2. **Data is not captured:** нормальная история. Например, респондент не захотел отвечать на вопрос, или метрика была придуманна посреди процесса сбора данных, а перезапускать алгоритм нерентабельно.\n",
    "   3. **Wrong values present in Dataset:** когда значения являются явными аутлейерами даже в предполагаемой генеральной совокупности. Например, возраст 221 год, город Москав, и т.д. (зачастую неверно работающие алгоритмы присылают случайные данные или нули, хотя на самом деле это именно NA)\n",
    "   \n",
    "Ещё одно разделение:  \n",
    "   1. **Missing completely at random**\n",
    "   2. **Missing at Random**\n",
    "   3. **Missing not at random**\n",
    "   \n",
    "*The more data is missing (MNAR), the more biased are the estimations*. Именно поэтому в задачах МЛ важно обращать внимание на пропущенные данные в датасете перед *тренировкой* моделей. Более того: многие пакеты питона плохо работают с пропусками (попробуйте применить метод `.mean` к `numpy`евскому массиву c na, и вы удивитесь)."
   ]
  },
  {
   "cell_type": "markdown",
   "metadata": {},
   "source": [
    "### Методы работы с NA (на примере [датасета с пингвинами](https://www.kaggle.com/parulpandey/penguin-dataset-the-new-iris))"
   ]
  },
  {
   "cell_type": "code",
   "execution_count": 1,
   "metadata": {},
   "outputs": [
    {
     "name": "stdout",
     "output_type": "stream",
     "text": [
      "Requirement already satisfied: palmerpenguins in c:\\tools\\anaconda3\\lib\\site-packages (0.1.4)\n",
      "Requirement already satisfied: pandas in c:\\tools\\anaconda3\\lib\\site-packages (from palmerpenguins) (0.25.1)\n",
      "Requirement already satisfied: numpy in c:\\tools\\anaconda3\\lib\\site-packages (from palmerpenguins) (1.17.4)\n",
      "Requirement already satisfied: pytz>=2017.2 in c:\\tools\\anaconda3\\lib\\site-packages (from pandas->palmerpenguins) (2019.3)\n",
      "Requirement already satisfied: python-dateutil>=2.6.1 in c:\\tools\\anaconda3\\lib\\site-packages (from pandas->palmerpenguins) (2.8.0)\n",
      "Requirement already satisfied: six>=1.5 in c:\\tools\\anaconda3\\lib\\site-packages (from python-dateutil>=2.6.1->pandas->palmerpenguins) (1.13.0)\n"
     ]
    }
   ],
   "source": [
    "! pip install palmerpenguins"
   ]
  },
  {
   "cell_type": "code",
   "execution_count": 2,
   "metadata": {},
   "outputs": [
    {
     "data": {
      "text/html": [
       "<div>\n",
       "<style scoped>\n",
       "    .dataframe tbody tr th:only-of-type {\n",
       "        vertical-align: middle;\n",
       "    }\n",
       "\n",
       "    .dataframe tbody tr th {\n",
       "        vertical-align: top;\n",
       "    }\n",
       "\n",
       "    .dataframe thead th {\n",
       "        text-align: right;\n",
       "    }\n",
       "</style>\n",
       "<table border=\"1\" class=\"dataframe\">\n",
       "  <thead>\n",
       "    <tr style=\"text-align: right;\">\n",
       "      <th></th>\n",
       "      <th>species</th>\n",
       "      <th>island</th>\n",
       "      <th>bill_length_mm</th>\n",
       "      <th>bill_depth_mm</th>\n",
       "      <th>flipper_length_mm</th>\n",
       "      <th>body_mass_g</th>\n",
       "      <th>sex</th>\n",
       "      <th>year</th>\n",
       "    </tr>\n",
       "  </thead>\n",
       "  <tbody>\n",
       "    <tr>\n",
       "      <td>0</td>\n",
       "      <td>Adelie</td>\n",
       "      <td>Torgersen</td>\n",
       "      <td>39.1</td>\n",
       "      <td>18.7</td>\n",
       "      <td>181.0</td>\n",
       "      <td>3750.0</td>\n",
       "      <td>male</td>\n",
       "      <td>2007</td>\n",
       "    </tr>\n",
       "    <tr>\n",
       "      <td>1</td>\n",
       "      <td>Adelie</td>\n",
       "      <td>Torgersen</td>\n",
       "      <td>39.5</td>\n",
       "      <td>17.4</td>\n",
       "      <td>186.0</td>\n",
       "      <td>3800.0</td>\n",
       "      <td>female</td>\n",
       "      <td>2007</td>\n",
       "    </tr>\n",
       "    <tr>\n",
       "      <td>2</td>\n",
       "      <td>Adelie</td>\n",
       "      <td>Torgersen</td>\n",
       "      <td>40.3</td>\n",
       "      <td>18.0</td>\n",
       "      <td>195.0</td>\n",
       "      <td>3250.0</td>\n",
       "      <td>female</td>\n",
       "      <td>2007</td>\n",
       "    </tr>\n",
       "    <tr>\n",
       "      <td>3</td>\n",
       "      <td>Adelie</td>\n",
       "      <td>Torgersen</td>\n",
       "      <td>NaN</td>\n",
       "      <td>NaN</td>\n",
       "      <td>NaN</td>\n",
       "      <td>NaN</td>\n",
       "      <td>NaN</td>\n",
       "      <td>2007</td>\n",
       "    </tr>\n",
       "    <tr>\n",
       "      <td>4</td>\n",
       "      <td>Adelie</td>\n",
       "      <td>Torgersen</td>\n",
       "      <td>36.7</td>\n",
       "      <td>19.3</td>\n",
       "      <td>193.0</td>\n",
       "      <td>3450.0</td>\n",
       "      <td>female</td>\n",
       "      <td>2007</td>\n",
       "    </tr>\n",
       "  </tbody>\n",
       "</table>\n",
       "</div>"
      ],
      "text/plain": [
       "  species     island  bill_length_mm  bill_depth_mm  flipper_length_mm  \\\n",
       "0  Adelie  Torgersen            39.1           18.7              181.0   \n",
       "1  Adelie  Torgersen            39.5           17.4              186.0   \n",
       "2  Adelie  Torgersen            40.3           18.0              195.0   \n",
       "3  Adelie  Torgersen             NaN            NaN                NaN   \n",
       "4  Adelie  Torgersen            36.7           19.3              193.0   \n",
       "\n",
       "   body_mass_g     sex  year  \n",
       "0       3750.0    male  2007  \n",
       "1       3800.0  female  2007  \n",
       "2       3250.0  female  2007  \n",
       "3          NaN     NaN  2007  \n",
       "4       3450.0  female  2007  "
      ]
     },
     "execution_count": 2,
     "metadata": {},
     "output_type": "execute_result"
    }
   ],
   "source": [
    "# гланвый чанк в селе\n",
    "from palmerpenguins import load_penguins\n",
    "import pandas as pd\n",
    "import numpy as np \n",
    "import math\n",
    "\n",
    "df = load_penguins()\n",
    "df.head()"
   ]
  },
  {
   "cell_type": "code",
   "execution_count": 3,
   "metadata": {},
   "outputs": [
    {
     "name": "stdout",
     "output_type": "stream",
     "text": [
      "Длина первоначального датасета: 344\n"
     ]
    }
   ],
   "source": [
    "print(\"Длина первоначального датасета:\", len(df))"
   ]
  },
  {
   "cell_type": "markdown",
   "metadata": {},
   "source": [
    "#### 0. **Оставить всё как есть** (если алгоритм ***может и умеет*** работать с пропусками)"
   ]
  },
  {
   "cell_type": "markdown",
   "metadata": {
    "heading_collapsed": true
   },
   "source": [
    "#### 1. **Простой**: дропнуть пропущенные значения.  \n",
    "\n",
    "Отбрасываем строки/колонки, содержащие хоть_одну/несколько/все NaN.\n",
    "\n",
    "   **+ :** минимум когнитивной нагрузки, максимум результата.  \n",
    "   **-- :** суммарно строк с пропущенными значениями может быть настолько много, что они съедают ваш датасет."
   ]
  },
  {
   "cell_type": "markdown",
   "metadata": {
    "hidden": true
   },
   "source": [
    "    NB: не забывайте об опции вызова справки по функции - возможно, там есть параметры, которые нужны именно вам!"
   ]
  },
  {
   "cell_type": "code",
   "execution_count": 4,
   "metadata": {
    "hidden": true
   },
   "outputs": [
    {
     "data": {
      "text/html": [
       "<div>\n",
       "<style scoped>\n",
       "    .dataframe tbody tr th:only-of-type {\n",
       "        vertical-align: middle;\n",
       "    }\n",
       "\n",
       "    .dataframe tbody tr th {\n",
       "        vertical-align: top;\n",
       "    }\n",
       "\n",
       "    .dataframe thead th {\n",
       "        text-align: right;\n",
       "    }\n",
       "</style>\n",
       "<table border=\"1\" class=\"dataframe\">\n",
       "  <thead>\n",
       "    <tr style=\"text-align: right;\">\n",
       "      <th></th>\n",
       "      <th>species</th>\n",
       "      <th>island</th>\n",
       "      <th>bill_length_mm</th>\n",
       "      <th>bill_depth_mm</th>\n",
       "      <th>flipper_length_mm</th>\n",
       "      <th>body_mass_g</th>\n",
       "      <th>sex</th>\n",
       "      <th>year</th>\n",
       "    </tr>\n",
       "  </thead>\n",
       "  <tbody>\n",
       "    <tr>\n",
       "      <td>0</td>\n",
       "      <td>Adelie</td>\n",
       "      <td>Torgersen</td>\n",
       "      <td>39.1</td>\n",
       "      <td>18.7</td>\n",
       "      <td>181.0</td>\n",
       "      <td>3750.0</td>\n",
       "      <td>male</td>\n",
       "      <td>2007</td>\n",
       "    </tr>\n",
       "    <tr>\n",
       "      <td>1</td>\n",
       "      <td>Adelie</td>\n",
       "      <td>Torgersen</td>\n",
       "      <td>39.5</td>\n",
       "      <td>17.4</td>\n",
       "      <td>186.0</td>\n",
       "      <td>3800.0</td>\n",
       "      <td>female</td>\n",
       "      <td>2007</td>\n",
       "    </tr>\n",
       "    <tr>\n",
       "      <td>2</td>\n",
       "      <td>Adelie</td>\n",
       "      <td>Torgersen</td>\n",
       "      <td>40.3</td>\n",
       "      <td>18.0</td>\n",
       "      <td>195.0</td>\n",
       "      <td>3250.0</td>\n",
       "      <td>female</td>\n",
       "      <td>2007</td>\n",
       "    </tr>\n",
       "    <tr>\n",
       "      <td>4</td>\n",
       "      <td>Adelie</td>\n",
       "      <td>Torgersen</td>\n",
       "      <td>36.7</td>\n",
       "      <td>19.3</td>\n",
       "      <td>193.0</td>\n",
       "      <td>3450.0</td>\n",
       "      <td>female</td>\n",
       "      <td>2007</td>\n",
       "    </tr>\n",
       "    <tr>\n",
       "      <td>5</td>\n",
       "      <td>Adelie</td>\n",
       "      <td>Torgersen</td>\n",
       "      <td>39.3</td>\n",
       "      <td>20.6</td>\n",
       "      <td>190.0</td>\n",
       "      <td>3650.0</td>\n",
       "      <td>male</td>\n",
       "      <td>2007</td>\n",
       "    </tr>\n",
       "  </tbody>\n",
       "</table>\n",
       "</div>"
      ],
      "text/plain": [
       "  species     island  bill_length_mm  bill_depth_mm  flipper_length_mm  \\\n",
       "0  Adelie  Torgersen            39.1           18.7              181.0   \n",
       "1  Adelie  Torgersen            39.5           17.4              186.0   \n",
       "2  Adelie  Torgersen            40.3           18.0              195.0   \n",
       "4  Adelie  Torgersen            36.7           19.3              193.0   \n",
       "5  Adelie  Torgersen            39.3           20.6              190.0   \n",
       "\n",
       "   body_mass_g     sex  year  \n",
       "0       3750.0    male  2007  \n",
       "1       3800.0  female  2007  \n",
       "2       3250.0  female  2007  \n",
       "4       3450.0  female  2007  \n",
       "5       3650.0    male  2007  "
      ]
     },
     "execution_count": 4,
     "metadata": {},
     "output_type": "execute_result"
    }
   ],
   "source": [
    "# help(pd.DataFrame.dropna) # - cправка\n",
    "\n",
    "df1 = df.dropna() # так мы дропаем все строки, содержащие хотя бы 1 NA\n",
    "df1.head()"
   ]
  },
  {
   "cell_type": "code",
   "execution_count": 5,
   "metadata": {
    "hidden": true
   },
   "outputs": [
    {
     "data": {
      "text/plain": [
       "333"
      ]
     },
     "execution_count": 5,
     "metadata": {},
     "output_type": "execute_result"
    }
   ],
   "source": [
    "len(df1)"
   ]
  },
  {
   "cell_type": "code",
   "execution_count": 6,
   "metadata": {
    "hidden": true
   },
   "outputs": [
    {
     "data": {
      "text/html": [
       "<div>\n",
       "<style scoped>\n",
       "    .dataframe tbody tr th:only-of-type {\n",
       "        vertical-align: middle;\n",
       "    }\n",
       "\n",
       "    .dataframe tbody tr th {\n",
       "        vertical-align: top;\n",
       "    }\n",
       "\n",
       "    .dataframe thead th {\n",
       "        text-align: right;\n",
       "    }\n",
       "</style>\n",
       "<table border=\"1\" class=\"dataframe\">\n",
       "  <thead>\n",
       "    <tr style=\"text-align: right;\">\n",
       "      <th></th>\n",
       "      <th>species</th>\n",
       "      <th>island</th>\n",
       "      <th>year</th>\n",
       "    </tr>\n",
       "  </thead>\n",
       "  <tbody>\n",
       "    <tr>\n",
       "      <td>0</td>\n",
       "      <td>Adelie</td>\n",
       "      <td>Torgersen</td>\n",
       "      <td>2007</td>\n",
       "    </tr>\n",
       "    <tr>\n",
       "      <td>1</td>\n",
       "      <td>Adelie</td>\n",
       "      <td>Torgersen</td>\n",
       "      <td>2007</td>\n",
       "    </tr>\n",
       "    <tr>\n",
       "      <td>2</td>\n",
       "      <td>Adelie</td>\n",
       "      <td>Torgersen</td>\n",
       "      <td>2007</td>\n",
       "    </tr>\n",
       "    <tr>\n",
       "      <td>3</td>\n",
       "      <td>Adelie</td>\n",
       "      <td>Torgersen</td>\n",
       "      <td>2007</td>\n",
       "    </tr>\n",
       "    <tr>\n",
       "      <td>4</td>\n",
       "      <td>Adelie</td>\n",
       "      <td>Torgersen</td>\n",
       "      <td>2007</td>\n",
       "    </tr>\n",
       "  </tbody>\n",
       "</table>\n",
       "</div>"
      ],
      "text/plain": [
       "  species     island  year\n",
       "0  Adelie  Torgersen  2007\n",
       "1  Adelie  Torgersen  2007\n",
       "2  Adelie  Torgersen  2007\n",
       "3  Adelie  Torgersen  2007\n",
       "4  Adelie  Torgersen  2007"
      ]
     },
     "execution_count": 6,
     "metadata": {},
     "output_type": "execute_result"
    }
   ],
   "source": [
    "df.dropna(axis = 'columns', how = \"any\").head(5) # а так мы отбрасываем все *колонки*, где есть *хоть один* NA, иногда полезно"
   ]
  },
  {
   "cell_type": "markdown",
   "metadata": {
    "heading_collapsed": true
   },
   "source": [
    "#### 2. **Импутация**: маскируем чем-то похожим (средними)\n",
    "\n",
    "Быстро заменяем NA медианными/средними/модными значениями с помощью `SimpleImputer`\n",
    "\n",
    "   **+ :** быстро делает numeric data ухоженными.  \n",
    "   **-- :** только numeric, при большом количестве подстановок растёт bias датасета."
   ]
  },
  {
   "cell_type": "markdown",
   "metadata": {
    "hidden": true
   },
   "source": [
    "    NB: для категориальных тоже можно использовать моду - просто подставляем самое частотное значение в пропуски"
   ]
  },
  {
   "cell_type": "code",
   "execution_count": 7,
   "metadata": {
    "hidden": true
   },
   "outputs": [
    {
     "name": "stdout",
     "output_type": "stream",
     "text": [
      "Средняя масса пингвига: nan\n"
     ]
    }
   ],
   "source": [
    "from sklearn.impute import SimpleImputer\n",
    "# help(SimpleImputer) # - справка\n",
    "\n",
    "x = np.array(df['body_mass_g'])\n",
    "x = x.reshape(-1,1)\n",
    "\n",
    "print(\"Средняя масса пингвига:\", x.mean())"
   ]
  },
  {
   "cell_type": "code",
   "execution_count": 8,
   "metadata": {
    "hidden": true
   },
   "outputs": [
    {
     "name": "stdout",
     "output_type": "stream",
     "text": [
      "Средняя масса пингвига: 4201.754385964912\n"
     ]
    }
   ],
   "source": [
    "#стратегии: mean, median, most_frequent, constant\n",
    "\n",
    "imputer = SimpleImputer(strategy = 'mean')\n",
    "imputer.fit(x)\n",
    "x1 = imputer.transform(x)\n",
    "\n",
    "print(\"Средняя масса пингвига:\", x1.mean())\n",
    "# df['body_mass_g'] = imputer.transform(x)"
   ]
  },
  {
   "cell_type": "markdown",
   "metadata": {
    "heading_collapsed": true
   },
   "source": [
    "#### 3. Импутация: метод k-NN (классика классификации)\n",
    "**+** : прикольнее и разнообразнее, нежели простым импутером.  \n",
    "**--** : компутация на больших датасетах займёт время."
   ]
  },
  {
   "cell_type": "code",
   "execution_count": 9,
   "metadata": {
    "hidden": true
   },
   "outputs": [
    {
     "name": "stdout",
     "output_type": "stream",
     "text": [
      "Средняя масса пингвига: nan\n"
     ]
    }
   ],
   "source": [
    "from sklearn.impute import KNNImputer\n",
    "# help(KNNImputer) # - справка\n",
    "\n",
    "k = np.array(df['body_mass_g'])\n",
    "k = x.reshape(-1,1)\n",
    "\n",
    "print(\"Средняя масса пингвига:\", k.mean())"
   ]
  },
  {
   "cell_type": "code",
   "execution_count": 10,
   "metadata": {
    "hidden": true,
    "scrolled": true
   },
   "outputs": [
    {
     "name": "stdout",
     "output_type": "stream",
     "text": [
      "Средняя масса пингвига: 4201.754385964912\n"
     ]
    }
   ],
   "source": [
    "# задаём - n_neighbors\n",
    "\n",
    "imputer = KNNImputer(n_neighbors = 3, weights='uniform', metric='nan_euclidean')\n",
    "k1 = imputer.fit_transform(k)\n",
    "\n",
    "print(\"Средняя масса пингвига:\", k1.mean())\n",
    "# df['body_mass_g'] = imputer.transform(x)"
   ]
  },
  {
   "cell_type": "markdown",
   "metadata": {
    "hidden": true
   },
   "source": [
    "Для датасета - сразу циклом:"
   ]
  },
  {
   "cell_type": "code",
   "execution_count": 11,
   "metadata": {
    "hidden": true
   },
   "outputs": [
    {
     "name": "stdout",
     "output_type": "stream",
     "text": [
      "old Missing: 8\n",
      "new Missing: 0\n"
     ]
    }
   ],
   "source": [
    "data = df.select_dtypes(include=np.number).values\n",
    "ix = [i for i in  range(data.shape[1])]\n",
    "X = data[:, ix]\n",
    "print('old Missing: %d' % sum(np.isnan(X).flatten()))\n",
    "\n",
    "imputer = KNNImputer()\n",
    "imputer.fit(X)\n",
    "Xtrans = imputer.transform(X)\n",
    "\n",
    "print('new Missing: %d' % sum(np.isnan(Xtrans).flatten()))"
   ]
  },
  {
   "cell_type": "markdown",
   "metadata": {
    "hidden": true
   },
   "source": [
    "Кстати, ***категориальные*** переменные ***также можно импутить*** - достаточно вертануть их в дамми и обратно:"
   ]
  },
  {
   "cell_type": "code",
   "execution_count": 12,
   "metadata": {
    "hidden": true
   },
   "outputs": [
    {
     "data": {
      "text/html": [
       "<div>\n",
       "<style scoped>\n",
       "    .dataframe tbody tr th:only-of-type {\n",
       "        vertical-align: middle;\n",
       "    }\n",
       "\n",
       "    .dataframe tbody tr th {\n",
       "        vertical-align: top;\n",
       "    }\n",
       "\n",
       "    .dataframe thead th {\n",
       "        text-align: right;\n",
       "    }\n",
       "</style>\n",
       "<table border=\"1\" class=\"dataframe\">\n",
       "  <thead>\n",
       "    <tr style=\"text-align: right;\">\n",
       "      <th></th>\n",
       "      <th>species</th>\n",
       "      <th>island</th>\n",
       "      <th>bill_length_mm</th>\n",
       "      <th>bill_depth_mm</th>\n",
       "      <th>flipper_length_mm</th>\n",
       "      <th>body_mass_g</th>\n",
       "      <th>sex</th>\n",
       "      <th>year</th>\n",
       "      <th>is_male</th>\n",
       "    </tr>\n",
       "  </thead>\n",
       "  <tbody>\n",
       "    <tr>\n",
       "      <td>0</td>\n",
       "      <td>Adelie</td>\n",
       "      <td>Torgersen</td>\n",
       "      <td>39.1</td>\n",
       "      <td>18.7</td>\n",
       "      <td>181.0</td>\n",
       "      <td>3750.0</td>\n",
       "      <td>male</td>\n",
       "      <td>2007</td>\n",
       "      <td>1.0</td>\n",
       "    </tr>\n",
       "    <tr>\n",
       "      <td>1</td>\n",
       "      <td>Adelie</td>\n",
       "      <td>Torgersen</td>\n",
       "      <td>39.5</td>\n",
       "      <td>17.4</td>\n",
       "      <td>186.0</td>\n",
       "      <td>3800.0</td>\n",
       "      <td>female</td>\n",
       "      <td>2007</td>\n",
       "      <td>0.0</td>\n",
       "    </tr>\n",
       "    <tr>\n",
       "      <td>2</td>\n",
       "      <td>Adelie</td>\n",
       "      <td>Torgersen</td>\n",
       "      <td>40.3</td>\n",
       "      <td>18.0</td>\n",
       "      <td>195.0</td>\n",
       "      <td>3250.0</td>\n",
       "      <td>female</td>\n",
       "      <td>2007</td>\n",
       "      <td>0.0</td>\n",
       "    </tr>\n",
       "    <tr>\n",
       "      <td>3</td>\n",
       "      <td>Adelie</td>\n",
       "      <td>Torgersen</td>\n",
       "      <td>NaN</td>\n",
       "      <td>NaN</td>\n",
       "      <td>NaN</td>\n",
       "      <td>NaN</td>\n",
       "      <td>NaN</td>\n",
       "      <td>2007</td>\n",
       "      <td>NaN</td>\n",
       "    </tr>\n",
       "    <tr>\n",
       "      <td>4</td>\n",
       "      <td>Adelie</td>\n",
       "      <td>Torgersen</td>\n",
       "      <td>36.7</td>\n",
       "      <td>19.3</td>\n",
       "      <td>193.0</td>\n",
       "      <td>3450.0</td>\n",
       "      <td>female</td>\n",
       "      <td>2007</td>\n",
       "      <td>0.0</td>\n",
       "    </tr>\n",
       "  </tbody>\n",
       "</table>\n",
       "</div>"
      ],
      "text/plain": [
       "  species     island  bill_length_mm  bill_depth_mm  flipper_length_mm  \\\n",
       "0  Adelie  Torgersen            39.1           18.7              181.0   \n",
       "1  Adelie  Torgersen            39.5           17.4              186.0   \n",
       "2  Adelie  Torgersen            40.3           18.0              195.0   \n",
       "3  Adelie  Torgersen             NaN            NaN                NaN   \n",
       "4  Adelie  Torgersen            36.7           19.3              193.0   \n",
       "\n",
       "   body_mass_g     sex  year  is_male  \n",
       "0       3750.0    male  2007      1.0  \n",
       "1       3800.0  female  2007      0.0  \n",
       "2       3250.0  female  2007      0.0  \n",
       "3          NaN     NaN  2007      NaN  \n",
       "4       3450.0  female  2007      0.0  "
      ]
     },
     "execution_count": 12,
     "metadata": {},
     "output_type": "execute_result"
    }
   ],
   "source": [
    "df['is_male'] = df['sex'].map({'male': 1,\n",
    "                             'female': 0})\n",
    "df.head()"
   ]
  },
  {
   "cell_type": "code",
   "execution_count": 13,
   "metadata": {
    "hidden": true
   },
   "outputs": [
    {
     "data": {
      "text/plain": [
       "array([[1.       ],\n",
       "       [0.       ],\n",
       "       [0.       ],\n",
       "       [0.5045045],\n",
       "       [0.       ],\n",
       "       [1.       ],\n",
       "       [0.       ],\n",
       "       [1.       ],\n",
       "       [0.5045045],\n",
       "       [0.5045045],\n",
       "       [0.5045045],\n",
       "       [0.5045045],\n",
       "       [0.       ],\n",
       "       [1.       ],\n",
       "       [1.       ],\n",
       "       [0.       ],\n",
       "       [0.       ],\n",
       "       [1.       ],\n",
       "       [0.       ],\n",
       "       [1.       ],\n",
       "       [0.       ],\n",
       "       [1.       ],\n",
       "       [0.       ],\n",
       "       [1.       ],\n",
       "       [1.       ],\n",
       "       [0.       ],\n",
       "       [1.       ],\n",
       "       [0.       ],\n",
       "       [0.       ],\n",
       "       [1.       ],\n",
       "       [0.       ],\n",
       "       [1.       ],\n",
       "       [0.       ],\n",
       "       [1.       ],\n",
       "       [0.       ],\n",
       "       [1.       ],\n",
       "       [1.       ],\n",
       "       [0.       ],\n",
       "       [0.       ],\n",
       "       [1.       ],\n",
       "       [0.       ],\n",
       "       [1.       ],\n",
       "       [0.       ],\n",
       "       [1.       ],\n",
       "       [0.       ],\n",
       "       [1.       ],\n",
       "       [1.       ],\n",
       "       [0.5045045],\n",
       "       [0.       ],\n",
       "       [1.       ],\n",
       "       [0.       ],\n",
       "       [1.       ],\n",
       "       [0.       ],\n",
       "       [1.       ],\n",
       "       [0.       ],\n",
       "       [1.       ],\n",
       "       [0.       ],\n",
       "       [1.       ],\n",
       "       [0.       ],\n",
       "       [1.       ],\n",
       "       [0.       ],\n",
       "       [1.       ],\n",
       "       [0.       ],\n",
       "       [1.       ],\n",
       "       [0.       ],\n",
       "       [1.       ],\n",
       "       [0.       ],\n",
       "       [1.       ],\n",
       "       [0.       ],\n",
       "       [1.       ],\n",
       "       [0.       ],\n",
       "       [1.       ],\n",
       "       [0.       ],\n",
       "       [1.       ],\n",
       "       [0.       ],\n",
       "       [1.       ],\n",
       "       [0.       ],\n",
       "       [1.       ],\n",
       "       [0.       ],\n",
       "       [1.       ],\n",
       "       [0.       ],\n",
       "       [1.       ],\n",
       "       [0.       ],\n",
       "       [1.       ],\n",
       "       [0.       ],\n",
       "       [1.       ],\n",
       "       [1.       ],\n",
       "       [0.       ],\n",
       "       [1.       ],\n",
       "       [0.       ],\n",
       "       [0.       ],\n",
       "       [1.       ],\n",
       "       [0.       ],\n",
       "       [1.       ],\n",
       "       [0.       ],\n",
       "       [1.       ],\n",
       "       [0.       ],\n",
       "       [1.       ],\n",
       "       [0.       ],\n",
       "       [1.       ],\n",
       "       [0.       ],\n",
       "       [1.       ],\n",
       "       [0.       ],\n",
       "       [1.       ],\n",
       "       [0.       ],\n",
       "       [1.       ],\n",
       "       [0.       ],\n",
       "       [1.       ],\n",
       "       [0.       ],\n",
       "       [1.       ],\n",
       "       [0.       ],\n",
       "       [1.       ],\n",
       "       [0.       ],\n",
       "       [1.       ],\n",
       "       [0.       ],\n",
       "       [1.       ],\n",
       "       [0.       ],\n",
       "       [1.       ],\n",
       "       [0.       ],\n",
       "       [1.       ],\n",
       "       [0.       ],\n",
       "       [1.       ],\n",
       "       [0.       ],\n",
       "       [1.       ],\n",
       "       [0.       ],\n",
       "       [1.       ],\n",
       "       [0.       ],\n",
       "       [1.       ],\n",
       "       [0.       ],\n",
       "       [1.       ],\n",
       "       [0.       ],\n",
       "       [1.       ],\n",
       "       [0.       ],\n",
       "       [1.       ],\n",
       "       [0.       ],\n",
       "       [1.       ],\n",
       "       [0.       ],\n",
       "       [1.       ],\n",
       "       [0.       ],\n",
       "       [1.       ],\n",
       "       [0.       ],\n",
       "       [1.       ],\n",
       "       [0.       ],\n",
       "       [1.       ],\n",
       "       [0.       ],\n",
       "       [1.       ],\n",
       "       [1.       ],\n",
       "       [0.       ],\n",
       "       [0.       ],\n",
       "       [1.       ],\n",
       "       [0.       ],\n",
       "       [1.       ],\n",
       "       [0.       ],\n",
       "       [1.       ],\n",
       "       [0.       ],\n",
       "       [1.       ],\n",
       "       [1.       ],\n",
       "       [0.       ],\n",
       "       [0.       ],\n",
       "       [1.       ],\n",
       "       [0.       ],\n",
       "       [1.       ],\n",
       "       [0.       ],\n",
       "       [1.       ],\n",
       "       [0.       ],\n",
       "       [1.       ],\n",
       "       [0.       ],\n",
       "       [1.       ],\n",
       "       [0.       ],\n",
       "       [1.       ],\n",
       "       [0.       ],\n",
       "       [1.       ],\n",
       "       [1.       ],\n",
       "       [0.       ],\n",
       "       [0.       ],\n",
       "       [1.       ],\n",
       "       [0.       ],\n",
       "       [1.       ],\n",
       "       [0.5045045],\n",
       "       [1.       ],\n",
       "       [0.       ],\n",
       "       [1.       ],\n",
       "       [1.       ],\n",
       "       [0.       ],\n",
       "       [0.       ],\n",
       "       [1.       ],\n",
       "       [0.       ],\n",
       "       [1.       ],\n",
       "       [0.       ],\n",
       "       [1.       ],\n",
       "       [0.       ],\n",
       "       [1.       ],\n",
       "       [0.       ],\n",
       "       [1.       ],\n",
       "       [0.       ],\n",
       "       [1.       ],\n",
       "       [1.       ],\n",
       "       [0.       ],\n",
       "       [0.       ],\n",
       "       [1.       ],\n",
       "       [0.       ],\n",
       "       [1.       ],\n",
       "       [0.       ],\n",
       "       [1.       ],\n",
       "       [0.       ],\n",
       "       [1.       ],\n",
       "       [0.       ],\n",
       "       [1.       ],\n",
       "       [0.       ],\n",
       "       [1.       ],\n",
       "       [0.       ],\n",
       "       [1.       ],\n",
       "       [0.       ],\n",
       "       [1.       ],\n",
       "       [0.       ],\n",
       "       [1.       ],\n",
       "       [0.       ],\n",
       "       [1.       ],\n",
       "       [0.5045045],\n",
       "       [1.       ],\n",
       "       [0.       ],\n",
       "       [1.       ],\n",
       "       [0.       ],\n",
       "       [1.       ],\n",
       "       [1.       ],\n",
       "       [0.       ],\n",
       "       [0.       ],\n",
       "       [1.       ],\n",
       "       [0.       ],\n",
       "       [1.       ],\n",
       "       [0.       ],\n",
       "       [1.       ],\n",
       "       [0.       ],\n",
       "       [1.       ],\n",
       "       [0.       ],\n",
       "       [1.       ],\n",
       "       [0.       ],\n",
       "       [1.       ],\n",
       "       [0.       ],\n",
       "       [1.       ],\n",
       "       [0.       ],\n",
       "       [1.       ],\n",
       "       [0.       ],\n",
       "       [1.       ],\n",
       "       [0.       ],\n",
       "       [1.       ],\n",
       "       [0.       ],\n",
       "       [1.       ],\n",
       "       [1.       ],\n",
       "       [0.       ],\n",
       "       [0.       ],\n",
       "       [1.       ],\n",
       "       [0.       ],\n",
       "       [1.       ],\n",
       "       [0.       ],\n",
       "       [1.       ],\n",
       "       [0.5045045],\n",
       "       [1.       ],\n",
       "       [0.       ],\n",
       "       [1.       ],\n",
       "       [0.       ],\n",
       "       [1.       ],\n",
       "       [0.       ],\n",
       "       [1.       ],\n",
       "       [0.       ],\n",
       "       [1.       ],\n",
       "       [0.       ],\n",
       "       [1.       ],\n",
       "       [0.5045045],\n",
       "       [1.       ],\n",
       "       [0.       ],\n",
       "       [0.5045045],\n",
       "       [0.       ],\n",
       "       [1.       ],\n",
       "       [0.       ],\n",
       "       [1.       ],\n",
       "       [0.       ],\n",
       "       [1.       ],\n",
       "       [1.       ],\n",
       "       [0.       ],\n",
       "       [1.       ],\n",
       "       [0.       ],\n",
       "       [0.       ],\n",
       "       [1.       ],\n",
       "       [0.       ],\n",
       "       [1.       ],\n",
       "       [0.       ],\n",
       "       [1.       ],\n",
       "       [0.       ],\n",
       "       [1.       ],\n",
       "       [0.       ],\n",
       "       [1.       ],\n",
       "       [1.       ],\n",
       "       [0.       ],\n",
       "       [0.       ],\n",
       "       [1.       ],\n",
       "       [0.       ],\n",
       "       [1.       ],\n",
       "       [0.       ],\n",
       "       [1.       ],\n",
       "       [0.       ],\n",
       "       [1.       ],\n",
       "       [0.       ],\n",
       "       [1.       ],\n",
       "       [0.       ],\n",
       "       [1.       ],\n",
       "       [0.       ],\n",
       "       [1.       ],\n",
       "       [0.       ],\n",
       "       [1.       ],\n",
       "       [1.       ],\n",
       "       [0.       ],\n",
       "       [0.       ],\n",
       "       [1.       ],\n",
       "       [0.       ],\n",
       "       [1.       ],\n",
       "       [1.       ],\n",
       "       [0.       ],\n",
       "       [1.       ],\n",
       "       [0.       ],\n",
       "       [0.       ],\n",
       "       [1.       ],\n",
       "       [0.       ],\n",
       "       [1.       ],\n",
       "       [1.       ],\n",
       "       [0.       ],\n",
       "       [0.       ],\n",
       "       [1.       ],\n",
       "       [0.       ],\n",
       "       [1.       ],\n",
       "       [0.       ],\n",
       "       [1.       ],\n",
       "       [0.       ],\n",
       "       [1.       ],\n",
       "       [1.       ],\n",
       "       [0.       ],\n",
       "       [1.       ],\n",
       "       [0.       ],\n",
       "       [0.       ],\n",
       "       [1.       ],\n",
       "       [0.       ],\n",
       "       [1.       ],\n",
       "       [1.       ],\n",
       "       [0.       ]])"
      ]
     },
     "execution_count": 13,
     "metadata": {},
     "output_type": "execute_result"
    }
   ],
   "source": [
    "sex = df['is_male'].values\n",
    "sex = sex.reshape(-1,1)\n",
    "\n",
    "imputer = KNNImputer(n_neighbors = 2)\n",
    "sex1 = imputer.fit_transform(sex)\n",
    "sex1"
   ]
  },
  {
   "cell_type": "markdown",
   "metadata": {
    "hidden": true
   },
   "source": [
    "*правда как интерпретировать гендер 0.5 я не знаю*"
   ]
  },
  {
   "cell_type": "markdown",
   "metadata": {
    "heading_collapsed": true
   },
   "source": [
    "### Чё ещё почитать по теме:\n",
    " * [Медиум](https://towardsdatascience.com/the-robustness-of-machine-learning-algorithms-against-missing-or-abnormal-values-ec3222379905), где автор сравнивает перфоманс rf, boosting и lasso с разными методами инпутации;\n",
    " * [yet another Медиум](https://medium.com/analytics-vidhya/why-it-is-important-to-handle-missing-data-and-10-methods-to-do-it-29d32ec4e6a), где можно почитать описания методов;\n",
    " * [гайд](https://machinelearningmastery.com/knn-imputation-for-missing-values-in-machine-learning/) по kNN-у."
   ]
  }
 ],
 "metadata": {
  "kernelspec": {
   "display_name": "Python 3",
   "language": "python",
   "name": "python3"
  },
  "language_info": {
   "codemirror_mode": {
    "name": "ipython",
    "version": 3
   },
   "file_extension": ".py",
   "mimetype": "text/x-python",
   "name": "python",
   "nbconvert_exporter": "python",
   "pygments_lexer": "ipython3",
   "version": "3.7.4"
  },
  "toc": {
   "base_numbering": 1,
   "nav_menu": {},
   "number_sections": false,
   "sideBar": true,
   "skip_h1_title": false,
   "title_cell": "Table of Contents",
   "title_sidebar": "Contents",
   "toc_cell": false,
   "toc_position": {},
   "toc_section_display": true,
   "toc_window_display": false
  },
  "varInspector": {
   "cols": {
    "lenName": 16,
    "lenType": 16,
    "lenVar": 40
   },
   "kernels_config": {
    "python": {
     "delete_cmd_postfix": "",
     "delete_cmd_prefix": "del ",
     "library": "var_list.py",
     "varRefreshCmd": "print(var_dic_list())"
    },
    "r": {
     "delete_cmd_postfix": ") ",
     "delete_cmd_prefix": "rm(",
     "library": "var_list.r",
     "varRefreshCmd": "cat(var_dic_list()) "
    }
   },
   "types_to_exclude": [
    "module",
    "function",
    "builtin_function_or_method",
    "instance",
    "_Feature"
   ],
   "window_display": false
  }
 },
 "nbformat": 4,
 "nbformat_minor": 4
}

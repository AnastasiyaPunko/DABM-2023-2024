{
 "cells": [
  {
   "cell_type": "code",
   "execution_count": 34,
   "metadata": {
    "colab": {},
    "colab_type": "code",
    "id": "X3XAIwphaqdy"
   },
   "outputs": [],
   "source": [
    "# Загружаем библиотеки\n",
    "import numpy as np # работа с векторами\n",
    "import matplotlib.pyplot as plt # рисовать графики\n",
    "import pandas as pd # для работы с матрицами\n",
    "import os as os #для смены директории\n",
    "from sklearn.model_selection import train_test_split\n",
    "from sklearn.linear_model import LinearRegression\n",
    "from sklearn.linear_model import Ridge\n",
    "\n"
   ]
  },
  {
   "cell_type": "code",
   "execution_count": 35,
   "metadata": {
    "colab": {
     "base_uri": "https://localhost:8080/",
     "height": 34
    },
    "colab_type": "code",
    "executionInfo": {
     "elapsed": 801,
     "status": "ok",
     "timestamp": 1570809723477,
     "user": {
      "displayName": "Alexander Sirotkin",
      "photoUrl": "https://lh3.googleusercontent.com/a-/AAuE7mBW7qmOqzB60j6niGnWLtaFoN8n0CAZDyJwBIqg-Q=s64",
      "userId": "04912911250217261721"
     },
     "user_tz": -180
    },
    "id": "IEFYV4cpaqd3",
    "outputId": "18a25f44-f30e-459d-c34a-dff34e793d06"
   },
   "outputs": [
    {
     "data": {
      "text/plain": [
       "495"
      ]
     },
     "execution_count": 35,
     "metadata": {},
     "output_type": "execute_result"
    }
   ],
   "source": [
    "fb = pd.read_csv('https://raw.githubusercontent.com/AVSirotkin/data_for_classes/master/dataset_Facebook.csv', sep = ';')\n",
    "# переименуем\n",
    "fb.columns = ['TotalLikes', 'Type', 'Category', 'Month', 'Weekday', 'Hour','Paid', 'Reach', 'Impressions','Engaged',\n",
    "             'Consumers', 'Consumptions', 'ImpessionsLiked', 'ReachLiked', 'EngagedLiked', 'comment', 'like', 'share', 'total']\n",
    "fb = fb.dropna()\n",
    "len(fb)"
   ]
  },
  {
   "cell_type": "markdown",
   "metadata": {
    "colab_type": "text",
    "id": "S_swqE_Vaqd9"
   },
   "source": [
    "Посмотрим количество лайков в зависимости от того, сколько человек вообще посмотрели этот пост"
   ]
  },
  {
   "cell_type": "code",
   "execution_count": 36,
   "metadata": {
    "colab": {},
    "colab_type": "code",
    "id": "ixEQerJqaqd-"
   },
   "outputs": [],
   "source": [
    "y = fb['like'].values\n",
    "y = y.reshape(-1,1)"
   ]
  },
  {
   "cell_type": "code",
   "execution_count": 37,
   "metadata": {
    "colab": {},
    "colab_type": "code",
    "id": "9dtiDYrpaqeD"
   },
   "outputs": [],
   "source": [
    "X = fb.iloc[:, 6:16]\n",
    "#X = X.reshape(-1,1)"
   ]
  },
  {
   "cell_type": "code",
   "execution_count": 38,
   "metadata": {
    "colab": {},
    "colab_type": "code",
    "id": "mGp4dMUlaqeH"
   },
   "outputs": [],
   "source": [
    "# Разделим данные на тренировочную и тестовую выборку\n",
    "X_train, X_test, y_train, y_test = train_test_split(X, y, test_size = 1/5, random_state = 4)"
   ]
  },
  {
   "cell_type": "code",
   "execution_count": 39,
   "metadata": {
    "colab": {
     "base_uri": "https://localhost:8080/",
     "height": 102
    },
    "colab_type": "code",
    "executionInfo": {
     "elapsed": 828,
     "status": "ok",
     "timestamp": 1570810427148,
     "user": {
      "displayName": "Alexander Sirotkin",
      "photoUrl": "https://lh3.googleusercontent.com/a-/AAuE7mBW7qmOqzB60j6niGnWLtaFoN8n0CAZDyJwBIqg-Q=s64",
      "userId": "04912911250217261721"
     },
     "user_tz": -180
    },
    "id": "TXxD9CudaqeN",
    "outputId": "82bc20f3-5d62-46ed-ec83-983c3a18d088"
   },
   "outputs": [
    {
     "data": {
      "text/plain": [
       "(array([13.09449718]),\n",
       " array([[-2.58980564e+00, -7.60618542e-04,  1.95747564e-04,\n",
       "          1.10696713e+00, -1.10026700e+00,  3.36084721e-03,\n",
       "          2.28242094e-05,  4.82002607e-04,  1.38396951e-02,\n",
       "          1.75334144e+00]]))"
      ]
     },
     "execution_count": 39,
     "metadata": {},
     "output_type": "execute_result"
    }
   ],
   "source": [
    "regFB = LinearRegression()\n",
    "regFB.fit(X_train,y_train)\n",
    "regFB.intercept_, regFB.coef_"
   ]
  },
  {
   "cell_type": "code",
   "execution_count": 40,
   "metadata": {
    "colab": {
     "base_uri": "https://localhost:8080/",
     "height": 102
    },
    "colab_type": "code",
    "executionInfo": {
     "elapsed": 740,
     "status": "ok",
     "timestamp": 1570810482317,
     "user": {
      "displayName": "Alexander Sirotkin",
      "photoUrl": "https://lh3.googleusercontent.com/a-/AAuE7mBW7qmOqzB60j6niGnWLtaFoN8n0CAZDyJwBIqg-Q=s64",
      "userId": "04912911250217261721"
     },
     "user_tz": -180
    },
    "id": "apCxIE2eaqeS",
    "outputId": "bf1c5b52-0599-46d0-837b-8243e07397cb"
   },
   "outputs": [
    {
     "data": {
      "text/plain": [
       "(array([13.0944176]),\n",
       " array([[-2.58945923e+00, -7.60618158e-04,  1.95747307e-04,\n",
       "          1.10696711e+00, -1.10026700e+00,  3.36085092e-03,\n",
       "          2.28247792e-05,  4.81999299e-04,  1.38397360e-02,\n",
       "          1.75334122e+00]]))"
      ]
     },
     "execution_count": 40,
     "metadata": {},
     "output_type": "execute_result"
    }
   ],
   "source": [
    "regR = Ridge(alpha = 0.01)\n",
    "regR.fit(X_train,y_train)\n",
    "regR.intercept_, regR.coef_"
   ]
  },
  {
   "cell_type": "code",
   "execution_count": 41,
   "metadata": {
    "colab": {
     "base_uri": "https://localhost:8080/",
     "height": 300
    },
    "colab_type": "code",
    "executionInfo": {
     "elapsed": 1786,
     "status": "ok",
     "timestamp": 1570810510650,
     "user": {
      "displayName": "Alexander Sirotkin",
      "photoUrl": "https://lh3.googleusercontent.com/a-/AAuE7mBW7qmOqzB60j6niGnWLtaFoN8n0CAZDyJwBIqg-Q=s64",
      "userId": "04912911250217261721"
     },
     "user_tz": -180
    },
    "id": "LQQxD5DUaqeX",
    "outputId": "6f837435-1c9a-4e63-95d0-f83a013e1617"
   },
   "outputs": [
    {
     "data": {
      "text/plain": [
       "Text(0, 0.5, 'Реальные значения')"
      ]
     },
     "execution_count": 41,
     "metadata": {},
     "output_type": "execute_result"
    },
    {
     "data": {
      "image/png": "[encoded data removed]",
      "text/plain": [
       "<Figure size 432x288 with 1 Axes>"
      ]
     },
     "metadata": {
      "needs_background": "light"
     },
     "output_type": "display_data"
    }
   ],
   "source": [
    "y_pred = regFB.predict(X_test)\n",
    "plt.scatter(y_pred,y_test,color = 'red')\n",
    "plt.xlabel('Предсказанные значения')\n",
    "plt.ylabel(\"Реальные значения\")"
   ]
  },
  {
   "cell_type": "code",
   "execution_count": 42,
   "metadata": {
    "colab": {
     "base_uri": "https://localhost:8080/",
     "height": 34
    },
    "colab_type": "code",
    "executionInfo": {
     "elapsed": 760,
     "status": "ok",
     "timestamp": 1570810515520,
     "user": {
      "displayName": "Alexander Sirotkin",
      "photoUrl": "https://lh3.googleusercontent.com/a-/AAuE7mBW7qmOqzB60j6niGnWLtaFoN8n0CAZDyJwBIqg-Q=s64",
      "userId": "04912911250217261721"
     },
     "user_tz": -180
    },
    "id": "wGzwBtpoaqeb",
    "outputId": "c1893cbe-25b5-4684-e866-d1897574651c"
   },
   "outputs": [
    {
     "data": {
      "text/plain": [
       "3038.6272976633613"
      ]
     },
     "execution_count": 42,
     "metadata": {},
     "output_type": "execute_result"
    }
   ],
   "source": [
    "#MSE\n",
    "mse = np.mean((y_pred - y_test)**2)\n",
    "mse"
   ]
  },
  {
   "cell_type": "code",
   "execution_count": 43,
   "metadata": {
    "colab": {
     "base_uri": "https://localhost:8080/",
     "height": 300
    },
    "colab_type": "code",
    "executionInfo": {
     "elapsed": 752,
     "status": "ok",
     "timestamp": 1570810519754,
     "user": {
      "displayName": "Alexander Sirotkin",
      "photoUrl": "https://lh3.googleusercontent.com/a-/AAuE7mBW7qmOqzB60j6niGnWLtaFoN8n0CAZDyJwBIqg-Q=s64",
      "userId": "04912911250217261721"
     },
     "user_tz": -180
    },
    "id": "MoR_Cmw6aqee",
    "outputId": "b0140d92-bfcb-4af3-e54f-b39be31bbf1d"
   },
   "outputs": [
    {
     "data": {
      "text/plain": [
       "Text(0, 0.5, 'Реальные значения')"
      ]
     },
     "execution_count": 43,
     "metadata": {},
     "output_type": "execute_result"
    },
    {
     "data": {
      "image/png": "[encoded data removed]",
      "text/plain": [
       "<Figure size 432x288 with 1 Axes>"
      ]
     },
     "metadata": {
      "needs_background": "light"
     },
     "output_type": "display_data"
    }
   ],
   "source": [
    "y_pred_l = regR.predict(X_test)\n",
    "plt.scatter(y_pred_l,y_test,color = 'red')\n",
    "plt.xlabel('Предсказанные значения')\n",
    "plt.ylabel(\"Реальные значения\")"
   ]
  },
  {
   "cell_type": "code",
   "execution_count": 44,
   "metadata": {
    "colab": {
     "base_uri": "https://localhost:8080/",
     "height": 34
    },
    "colab_type": "code",
    "executionInfo": {
     "elapsed": 736,
     "status": "ok",
     "timestamp": 1570810522460,
     "user": {
      "displayName": "Alexander Sirotkin",
      "photoUrl": "https://lh3.googleusercontent.com/a-/AAuE7mBW7qmOqzB60j6niGnWLtaFoN8n0CAZDyJwBIqg-Q=s64",
      "userId": "04912911250217261721"
     },
     "user_tz": -180
    },
    "id": "BjceiOfSaqej",
    "outputId": "2614f7c2-bb07-4f86-9327-0ab47bf2cba2"
   },
   "outputs": [
    {
     "data": {
      "text/plain": [
       "3038.6261786844393"
      ]
     },
     "execution_count": 44,
     "metadata": {},
     "output_type": "execute_result"
    }
   ],
   "source": [
    "mse = np.mean((y_pred_l - y_test)**2)\n",
    "mse"
   ]
  },
  {
   "cell_type": "markdown",
   "metadata": {
    "colab_type": "text",
    "id": "Yrr0qdfdaqen"
   },
   "source": [
    "Ридж регрессия показала небольшой прирост качества по сравнению с простой регрессией.\n",
    "Ваша задача:\n",
    "1. Попробуйте изменить параметр alpha и посмотрите, на что он влияет.\n",
    "2. Посмотрите справку по RidgeCV и попробуйте подобрать с ее помощью оптимальное значение alpha."
   ]
  },
  {
   "cell_type": "code",
   "execution_count": 45,
   "metadata": {
    "colab": {},
    "colab_type": "code",
    "id": "qTGxwgLfaqeo"
   },
   "outputs": [
    {
     "data": {
      "text/plain": [
       "RidgeCV(alphas=array([ 0.1,  1. , 10. ]))"
      ]
     },
     "execution_count": 45,
     "metadata": {},
     "output_type": "execute_result"
    }
   ],
   "source": [
    "from sklearn.model_selection import cross_val_score, KFold\n",
    "from sklearn.linear_model import RidgeCV\n",
    "skf = KFold(n_splits=5, shuffle=True, random_state=17)\n",
    "\n",
    "c_values = np.logspace(-2, 3, 100)\n",
    "\n",
    "logit_searcher = RidgeCV()\n",
    "logit_searcher.fit(X_train, y_train)"
   ]
  },
  {
   "cell_type": "code",
   "execution_count": 46,
   "metadata": {},
   "outputs": [
    {
     "data": {
      "text/plain": [
       "10.0"
      ]
     },
     "execution_count": 46,
     "metadata": {},
     "output_type": "execute_result"
    }
   ],
   "source": [
    "logit_searcher.alpha_"
   ]
  },
  {
   "cell_type": "code",
   "execution_count": 32,
   "metadata": {},
   "outputs": [
    {
     "data": {
      "text/plain": [
       "array([1.00000000e-02, 1.12332403e-02, 1.26185688e-02, 1.41747416e-02,\n",
       "       1.59228279e-02, 1.78864953e-02, 2.00923300e-02, 2.25701972e-02,\n",
       "       2.53536449e-02, 2.84803587e-02, 3.19926714e-02, 3.59381366e-02,\n",
       "       4.03701726e-02, 4.53487851e-02, 5.09413801e-02, 5.72236766e-02,\n",
       "       6.42807312e-02, 7.22080902e-02, 8.11130831e-02, 9.11162756e-02,\n",
       "       1.02353102e-01, 1.14975700e-01, 1.29154967e-01, 1.45082878e-01,\n",
       "       1.62975083e-01, 1.83073828e-01, 2.05651231e-01, 2.31012970e-01,\n",
       "       2.59502421e-01, 2.91505306e-01, 3.27454916e-01, 3.67837977e-01,\n",
       "       4.13201240e-01, 4.64158883e-01, 5.21400829e-01, 5.85702082e-01,\n",
       "       6.57933225e-01, 7.39072203e-01, 8.30217568e-01, 9.32603347e-01,\n",
       "       1.04761575e+00, 1.17681195e+00, 1.32194115e+00, 1.48496826e+00,\n",
       "       1.66810054e+00, 1.87381742e+00, 2.10490414e+00, 2.36448941e+00,\n",
       "       2.65608778e+00, 2.98364724e+00, 3.35160265e+00, 3.76493581e+00,\n",
       "       4.22924287e+00, 4.75081016e+00, 5.33669923e+00, 5.99484250e+00,\n",
       "       6.73415066e+00, 7.56463328e+00, 8.49753436e+00, 9.54548457e+00,\n",
       "       1.07226722e+01, 1.20450354e+01, 1.35304777e+01, 1.51991108e+01,\n",
       "       1.70735265e+01, 1.91791026e+01, 2.15443469e+01, 2.42012826e+01,\n",
       "       2.71858824e+01, 3.05385551e+01, 3.43046929e+01, 3.85352859e+01,\n",
       "       4.32876128e+01, 4.86260158e+01, 5.46227722e+01, 6.13590727e+01,\n",
       "       6.89261210e+01, 7.74263683e+01, 8.69749003e+01, 9.77009957e+01,\n",
       "       1.09749877e+02, 1.23284674e+02, 1.38488637e+02, 1.55567614e+02,\n",
       "       1.74752840e+02, 1.96304065e+02, 2.20513074e+02, 2.47707636e+02,\n",
       "       2.78255940e+02, 3.12571585e+02, 3.51119173e+02, 3.94420606e+02,\n",
       "       4.43062146e+02, 4.97702356e+02, 5.59081018e+02, 6.28029144e+02,\n",
       "       7.05480231e+02, 7.92482898e+02, 8.90215085e+02, 1.00000000e+03])"
      ]
     },
     "execution_count": 32,
     "metadata": {},
     "output_type": "execute_result"
    }
   ],
   "source": [
    "c_values"
   ]
  },
  {
   "cell_type": "code",
   "execution_count": null,
   "metadata": {},
   "outputs": [],
   "source": []
  }
 ],
 "metadata": {
  "colab": {
   "collapsed_sections": [],
   "name": "Ridge_regression.ipynb",
   "provenance": []
  },
  "kernelspec": {
   "display_name": "Python 3",
   "language": "python",
   "name": "python3"
  },
  "language_info": {
   "codemirror_mode": {
    "name": "ipython",
    "version": 3
   },
   "file_extension": ".py",
   "mimetype": "text/x-python",
   "name": "python",
   "nbconvert_exporter": "python",
   "pygments_lexer": "ipython3",
   "version": "3.7.4"
  }
 },
 "nbformat": 4,
 "nbformat_minor": 1
}

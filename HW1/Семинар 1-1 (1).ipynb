{
 "cells": [
  {
   "cell_type": "markdown",
   "metadata": {},
   "source": [
    "# АДБМ 2023-2024, \n",
    "\n",
    "# Методы Моделирования Пространственной структуры Протеинов\n",
    "\n",
    "# Семинар 1: BioPython tutorial"
   ]
  },
  {
   "cell_type": "markdown",
   "metadata": {},
   "source": [
    " "
   ]
  },
  {
   "cell_type": "markdown",
   "metadata": {},
   "source": [
    " "
   ]
  },
  {
   "cell_type": "markdown",
   "metadata": {},
   "source": [
    " "
   ]
  },
  {
   "cell_type": "markdown",
   "metadata": {},
   "source": [
    " "
   ]
  },
  {
   "cell_type": "markdown",
   "metadata": {},
   "source": [
    "## 1. Installation / import"
   ]
  },
  {
   "cell_type": "code",
   "execution_count": null,
   "metadata": {},
   "outputs": [],
   "source": [
    "! pip3.8 install biopython"
   ]
  },
  {
   "cell_type": "markdown",
   "metadata": {},
   "source": [
    " "
   ]
  },
  {
   "cell_type": "markdown",
   "metadata": {},
   "source": [
    " "
   ]
  },
  {
   "cell_type": "markdown",
   "metadata": {},
   "source": [
    " "
   ]
  },
  {
   "cell_type": "markdown",
   "metadata": {},
   "source": [
    "## 2. Модуль PDB (Работа с файлами из PDB - Protein Data Bank)"
   ]
  },
  {
   "cell_type": "code",
   "execution_count": null,
   "metadata": {},
   "outputs": [],
   "source": [
    "import Bio.PDB as pdb"
   ]
  },
  {
   "cell_type": "markdown",
   "metadata": {},
   "source": [
    "### 2.1. Открытие файла PDB, структура"
   ]
  },
  {
   "cell_type": "code",
   "execution_count": null,
   "metadata": {},
   "outputs": [],
   "source": [
    "# Любой файл PDB может быть получен из базы с помощью указания его ID.\n",
    "# Для этого используется объект класса PDBList:\n",
    "\n",
    "from os.path import exists\n",
    "\n",
    "pdb_list = pdb.PDBList()\n",
    "for pdb_id in [\"1FSD\"]:\n",
    "    print(\"Fetching {}...\".format(pdb_id))\n",
    "    \n",
    "    # Функция возвращает путь к скачанному файлу.\n",
    "    path = pdb_list.retrieve_pdb_file(pdb_id, \n",
    "                                      pdir=\".\",\n",
    "                                      file_format=\"pdb\")\n",
    "    \n",
    "    # ВАЖНО: Если белка с таким ID нет в базе, функция все равно вернет путь ¯\\_(ツ)_/¯\n",
    "    flag = exists(path)\n",
    "    if flag:\n",
    "        print(\"\\tALL OK, file exists\")\n",
    "    else:\n",
    "        print(\"\\tno file ¯\\_(ツ)_/¯\")"
   ]
  },
  {
   "cell_type": "code",
   "execution_count": null,
   "metadata": {},
   "outputs": [],
   "source": [
    "# Для открытия файла с белком используется объект класса PDBParser():\n",
    "parser = pdb.PDBParser()\n",
    "struct = parser.get_structure(\"_\", # id структуры. может быть любым, \n",
    "                                    # но несколько структур не могут иметь тот же id\n",
    "                              path)"
   ]
  },
  {
   "cell_type": "markdown",
   "metadata": {},
   "source": [
    " "
   ]
  },
  {
   "cell_type": "markdown",
   "metadata": {},
   "source": [
    " "
   ]
  },
  {
   "cell_type": "markdown",
   "metadata": {},
   "source": [
    " "
   ]
  },
  {
   "cell_type": "markdown",
   "metadata": {},
   "source": [
    "### Посмотрим на заголовок:"
   ]
  },
  {
   "cell_type": "code",
   "execution_count": null,
   "metadata": {},
   "outputs": [],
   "source": [
    "print(struct.header)"
   ]
  },
  {
   "cell_type": "markdown",
   "metadata": {},
   "source": [
    " "
   ]
  },
  {
   "cell_type": "markdown",
   "metadata": {},
   "source": [
    " "
   ]
  },
  {
   "cell_type": "markdown",
   "metadata": {},
   "source": [
    " "
   ]
  },
  {
   "cell_type": "markdown",
   "metadata": {},
   "source": [
    " "
   ]
  },
  {
   "cell_type": "markdown",
   "metadata": {},
   "source": [
    " "
   ]
  },
  {
   "cell_type": "markdown",
   "metadata": {},
   "source": [
    "### Разберем, как записан белок в этом файле. Белок хранится как иерархичная структура, которая имеет следующие уровни: \n",
    "### Structure/Model/Chain/Residue/Atom.\n",
    "### Как правило, у белковых структур в Structure есть только один дочерний элемент Model, но для объектов NMR-структур (Nuclear Magnetic Resonance) их может быть несколько. Дочерние элементы Model - Chain (цепочки аминокислотных остатков (Residue)), следующий уровень - сами остатки."
   ]
  },
  {
   "cell_type": "code",
   "execution_count": null,
   "metadata": {},
   "outputs": [],
   "source": [
    "for model in struct:\n",
    "    print(\"Model {}:\".format(model.id))\n",
    "    for chain in model:\n",
    "        print(\"\\tChain {}:\".format(chain.id))\n",
    "        for residue in chain:\n",
    "            print(\"\\t\\tResidue {}:\".format(residue.id))\n",
    "            for atom in residue.get_atoms():\n",
    "                print(\"\\t\\t\\t\", atom)"
   ]
  },
  {
   "cell_type": "markdown",
   "metadata": {},
   "source": [
    "### Также все аминокислоты и все атомы можно получить с помощью следующих методов:\n",
    "### print(struct.get_residues())\n",
    "### print(struct.get_atoms())\n",
    "\n",
    "### В BioPython методы вида .get_* (для получения набора объектов) возвращают итерируемый, но не индексируемый объект. Чтобы работать с запрашиваемыми элементами как с массивом, нужно либо преобразовать вывод функции к структуре list:"
   ]
  },
  {
   "cell_type": "code",
   "execution_count": null,
   "metadata": {},
   "outputs": [],
   "source": [
    "print('Для сравнения:')\n",
    "residues = struct.get_residues()\n",
    "print('Результат get_residues:', residues)\n",
    "print('Результат преобразования к list:', list(residues))"
   ]
  },
  {
   "cell_type": "markdown",
   "metadata": {},
   "source": [
    "### либо вызвать метод .get_list() у родительского типа в иерархии Structure/Model/Chain/Residue/Atom:"
   ]
  },
  {
   "cell_type": "code",
   "execution_count": null,
   "metadata": {},
   "outputs": [],
   "source": [
    "residue = list(struct.get_residues())[0]\n",
    "print('Атомы этого Residue:', residue.get_list())"
   ]
  },
  {
   "cell_type": "markdown",
   "metadata": {},
   "source": [
    "### Пожалуй, второй способ предпочтительнее: в первом случае мы получаем все объекты целевого уровня, не обращая внимания на предыдущие. В результате мы можем получить, например, атомы всех цепочек, хотя нам нужна лишь одна   ¯\\\\_(ツ)_/¯"
   ]
  },
  {
   "cell_type": "markdown",
   "metadata": {},
   "source": [
    "### Аналогично, можно получить родительский элемент иерархии с помощью метода .get_parent():"
   ]
  },
  {
   "cell_type": "code",
   "execution_count": null,
   "metadata": {},
   "outputs": [],
   "source": [
    "print('Родительский элемент Residue (Chain):', residue.get_parent())"
   ]
  },
  {
   "cell_type": "markdown",
   "metadata": {},
   "source": [
    "### 2.2. Работа с остатками и атомами"
   ]
  },
  {
   "cell_type": "markdown",
   "metadata": {},
   "source": [
    "#### 2.2.1. Остатки"
   ]
  },
  {
   "cell_type": "code",
   "execution_count": null,
   "metadata": {},
   "outputs": [],
   "source": [
    "residue = list(struct.get_residues())[0]\n",
    "print('Обозначение аминокислоты:', residue.get_resname())\n",
    "print('Атомы остатка:', residue.get_list())\n",
    "print('Получение атома остатка по его обозначению:', residue['CG'])"
   ]
  },
  {
   "cell_type": "markdown",
   "metadata": {},
   "source": [
    "#### 2.2.2. Атомы"
   ]
  },
  {
   "cell_type": "code",
   "execution_count": null,
   "metadata": {},
   "outputs": [],
   "source": [
    "atom = residue.get_list()[5]\n",
    "print('Объект Atom', atom)\n",
    "print('Обозначение атома:', atom.get_fullname())\n",
    "print('Химический элемент:', atom.element)\n",
    "print('Координаты атома (тип Vector):', atom.get_vector())\n",
    "print('Координаты атома (тип list):', atom.get_coord())\n",
    "print('Масса атома:', atom.mass)"
   ]
  },
  {
   "cell_type": "markdown",
   "metadata": {},
   "source": [
    "### Некоторые поля, получаемые с помощью методов .get_*, также могут быть получены с помощью обращения к полям объекта:"
   ]
  },
  {
   "cell_type": "code",
   "execution_count": null,
   "metadata": {},
   "outputs": [],
   "source": [
    "print(atom.get_fullname())\n",
    "print(atom.fullname)"
   ]
  },
  {
   "cell_type": "markdown",
   "metadata": {},
   "source": [
    " "
   ]
  },
  {
   "cell_type": "markdown",
   "metadata": {},
   "source": [
    " "
   ]
  },
  {
   "cell_type": "markdown",
   "metadata": {},
   "source": [
    " "
   ]
  },
  {
   "cell_type": "markdown",
   "metadata": {},
   "source": [
    " "
   ]
  },
  {
   "cell_type": "markdown",
   "metadata": {},
   "source": [
    "### 2.3. Вычисления"
   ]
  },
  {
   "cell_type": "markdown",
   "metadata": {},
   "source": [
    "<img src=\"https://www.webmo.net/link/help/img/blbada.jpg\"></img>"
   ]
  },
  {
   "cell_type": "code",
   "execution_count": null,
   "metadata": {},
   "outputs": [],
   "source": [
    "import numpy as np\n",
    "import matplotlib.pyplot as plt"
   ]
  },
  {
   "cell_type": "code",
   "execution_count": null,
   "metadata": {},
   "outputs": [],
   "source": [
    "cg = residue['CG']\n",
    "cb = residue['CB']\n",
    "ca = residue['CA']\n",
    "n = residue['N']"
   ]
  },
  {
   "cell_type": "markdown",
   "metadata": {},
   "source": [
    "#### 2.3.1 Расстояние между атомами вычисляется как их разность (порядок не важен):"
   ]
  },
  {
   "cell_type": "code",
   "execution_count": null,
   "metadata": {},
   "outputs": [],
   "source": [
    "print('Расстояние между', cg.fullname, 'и', cb.fullname, 'равно', cg - cb)"
   ]
  },
  {
   "cell_type": "markdown",
   "metadata": {},
   "source": [
    "#### Пример: построение матрицы расстояний / контактов"
   ]
  },
  {
   "cell_type": "code",
   "execution_count": null,
   "metadata": {},
   "outputs": [],
   "source": [
    "residues = struct[0].child_list[0].child_list\n",
    "matr = np.zeros((len(residues), len(residues)))\n",
    "\n",
    "# your code here\n",
    "\n",
    "R = 8\n",
    "\n",
    "_, axs = plt.subplots(1,2,figsize=(14,7))\n",
    "axs[0].imshow(matr)\n",
    "axs[1].imshow(matr < R)\n",
    "plt.show()"
   ]
  },
  {
   "cell_type": "markdown",
   "metadata": {},
   "source": [
    "#### 2.3.2. Планарные углы"
   ]
  },
  {
   "cell_type": "code",
   "execution_count": null,
   "metadata": {},
   "outputs": [],
   "source": [
    "angle = pdb.calc_angle(cg.get_vector(), cb.get_vector(), ca.get_vector())\n",
    "print('Угол CA-CB-CG равен {} ({} градусов)'.format(angle, angle/np.pi*180))"
   ]
  },
  {
   "cell_type": "markdown",
   "metadata": {},
   "source": [
    "#### 2.3.3. Двугранные (торсионные) углы"
   ]
  },
  {
   "cell_type": "code",
   "execution_count": null,
   "metadata": {},
   "outputs": [],
   "source": [
    "chi1 = pdb.calc_dihedral(n.get_vector(), ca.get_vector(), cb.get_vector(), cg.get_vector())\n",
    "print('Угол chi1 равен', chi1/np.pi*180, 'градусов')"
   ]
  },
  {
   "cell_type": "markdown",
   "metadata": {},
   "source": [
    "#### Пример: построение карты Рамачандрана"
   ]
  },
  {
   "cell_type": "code",
   "execution_count": null,
   "metadata": {},
   "outputs": [],
   "source": [
    "ang_pairs = np.empty((0,2))\n",
    "\n",
    "# your code here\n",
    "\n",
    "plt.figure(figsize=(7,7))\n",
    "plt.scatter(*ang_pairs.T)\n",
    "plt.plot([-180, -180, 180, 180, -180], [-180, 180, 180, -180, -180], c=\"black\", linewidth=1)\n",
    "plt.plot([0,0], [-180,180], c=\"black\", linewidth=1)\n",
    "plt.plot([-180,180], [0,0], c=\"black\", linewidth=1)\n",
    "plt.xticks(np.arange(-180, 181, 90))\n",
    "plt.yticks(np.arange(-180, 181, 90))\n",
    "plt.xlabel(\"$\\phi$\", fontsize=14)\n",
    "plt.ylabel(\"$\\psi$\", fontsize=14)\n",
    "\n",
    "plt.show()"
   ]
  }
 ],
 "metadata": {
  "kernelspec": {
   "display_name": "Python 3",
   "language": "python",
   "name": "python3"
  },
  "language_info": {
   "codemirror_mode": {
    "name": "ipython",
    "version": 3
   },
   "file_extension": ".py",
   "mimetype": "text/x-python",
   "name": "python",
   "nbconvert_exporter": "python",
   "pygments_lexer": "ipython3",
   "version": "3.8.17"
  }
 },
 "nbformat": 4,
 "nbformat_minor": 4
}
